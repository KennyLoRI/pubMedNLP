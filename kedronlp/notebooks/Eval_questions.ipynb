{
 "cells": [
  {
   "cell_type": "markdown",
   "metadata": {},
   "source": [
    "## 40 questions\n",
    "\n",
    "Type of questions covered:\n",
    "1. Out of domain questions\n",
    "2. In domain questions\n",
    "3. Query contains named entities that should be treated in a special way\n",
    "4. Handle fully specified questions that might contain stop words etc.\n",
    "5. Fully support both semantic search and lexicographical search\n",
    "6. Confirmation Questions [yes or no]\n",
    "7. Factoid-type Questions [what, which, when, who, how]\n",
    "8. List-type Questions\n",
    "9. Causal Questions [why or how]\n",
    "10. Hypothetical Questions\n",
    "11. Complex Questions\n",
    "12. Test for edge cases\n",
    "13. Time based questions\n",
    "14. Location based questions\n",
    "15. Cause and effect questions\n",
    "16. Scenario based questions\n",
    "17. Fact based questions\n",
    "18. Descriptive questions\n",
    "19. Procedural questions\n",
    "20. Comparative questions\n",
    "\n",
    "The questions have been formulated with the help of paragraphs.csv and extract_data.csv"
   ]
  },
  {
   "cell_type": "markdown",
   "metadata": {},
   "source": [
    "1.1. How tall is the Golden Gate Bridge?\n",
    "- Should deny the question as it is out of domain\n",
    "\n",
    "1.2. Where is the Eiffel Tower located?\n",
    "- Should deny the question as it is out of domain\n"
   ]
  },
  {
   "cell_type": "markdown",
   "metadata": {},
   "source": [
    "2.1. What are the predictors of nurses' attitudes towards communication? \n",
    "- Empathy and emotional intelligence are predictors of nurses' attitudes towards communication, and the cognitive dimension of attitude is a good predictor of the behavioural dimension of attitudes towards communication of nurses in both regression models and fuzzy-set qualitative comparative analysis. *PMID: 29495095*  \n",
    "\n",
    "2.2. What is Autism Spectrum Disorder (ASD) characterized by?\n",
    "- Autism spectrum disorders (ASD) are characterized by persistent deficits in social communication and social interaction across contexts, and are associated with restricted patterns of behavior. The developmental quotient (DQ) is based on the developmental age and chronological age of children. *PMID: 26933939*"
   ]
  },
  {
   "cell_type": "markdown",
   "metadata": {},
   "source": [
    "3.1. What is the TT100K dataset?\n",
    "- The Tsinghua-Tencent 100K (TT100K) traffic sign dataset. (It is a dataset for traffic sign detection, which contains 100,000 images with 224,024 annotated traffic signs.) *PMID: 36502047*\n",
    "\n",
    "3.2. What is the full form of EHR? / Tell me about the strenghts and limitations of EHR (Electronic Health Records)\n",
    "- Electronic health records (EHRs) are digital records of health information. Electronic health record (EHR) was hailed as a major step towards making healthcare more transparent and accountable. All the developed nations digitised their health records which were meant to be safe, secure and could be accessed on demand. This was intended to benefit all stakeholders. However, the jury is still out if the EHR has been worth it. There have been incidences of data breaches despite cybersecurity checks and of manipulation compromising clinicians' integrity and patients' safety. EHRs have also been blamed for doctor burnout in overloading them with a largely avoidable administrative burden. The lack of interoperability amongst various EHR software systems is creating obstacles in seamless workflow. *PMID: 32936099*"
   ]
  },
  {
   "cell_type": "markdown",
   "metadata": {},
   "source": [
    "4.1. Tell me about the recent neuroscience evidence to elucidate how general intelligence, g, emerges from individual differences in the network architecture of the human brain? \n",
    "- The reviewed findings motivate new insights about how network topology and dynamics account for individual differences in g, represented by the Network Neuroscience Theory. According to this framework, g emerges from the small-world topology of brain networks and the dynamic reorganization of its community structure in the service of system-wide flexibility and adaptation. *PMID: 29167088*\n",
    "\n",
    "4.2. The best fit between brain traits and degrees of intelligence among mammals is reached by? \n",
    "- The best fit between brain traits and degrees of intelligence among mammals is reached by a combination of the number of cortical neurons, neuron packing density, interneuronal distance and axonal conduction velocity--factors that determine general information processing capacity (IPC), as reflected by general intelligence. The highest IPC is found in humans, followed by the great apes, Old World and New World monkeys. *PMID: 26598734*"
   ]
  },
  {
   "cell_type": "markdown",
   "metadata": {},
   "source": [
    "5.1. (Semantic query) What is intelligence?\n",
    "- Intelligence is the ability to learn from experience and to adapt to, shape, and select environments. Intelligence as measured by (raw scores on) conventional standardized tests varies across the lifespan, and also across generations. *PMID: 22577301*\n",
    "\n",
    "5.2. (Lexicographical query) Which paper was published first? Title \"Fluid intelligence is related to capacity in memory as well as attention: Evidence from middle childhood and adulthood\" or \"What is theory of mind? A psychometric study of theory of mind and intelligence\"? \n",
    "- Fluid intelligence is related to capacity in memory as well as attention: Evidence from middle childhood and adulthood which was published on 22 August 2019 as compared to the other paper which was published in August 2022 *PMID: 31437203* and *PMID: 35751918*"
   ]
  },
  {
   "cell_type": "markdown",
   "metadata": {},
   "source": [
    "6.1. Are forms of narcissism (grandiose and vulnerable) related to objective intelligence?\n",
    "- No (Both forms of narcissism (grandiose and vulnerable) were unrelated to objective intelligence.) *PMID: 31654584*\n",
    "\n",
    "6.2. For children who participated in a task-switching experiment, where the children performed a task repeatedly (single-trial blocks) or switched between two different tasks (mixed-trial blocks), did intellectually gifted children perform quicker than the average group for both mixed and single-trial blocks?\n",
    "- Yes (Intellectually gifted children performed quicker than the average group for both mixed and single-trial blocks.) *PMID: 24897910*"
   ]
  },
  {
   "cell_type": "markdown",
   "metadata": {},
   "source": [
    "7.1. What is the Flynn Effect, and how does it change our understanding of IQ?\n",
    "- In 1981, psychologist James Flynn noticed that IQ scores had risen streadily over nearly a century a staggering difference of 18 points over two generations. After a careful analysis, he concluded the cause to be culture. Society had become more intelligent-come to grips with bigger, more abstract ideas over time-and had made people smarter. This observation, combined with solid evidence that IQ scores are also not fixed within an individual, neatly dispels the idea of intelligence being an innate and fixed entity. While intelligence clearly has a biological component, it is best defined, as a set of continually developed skills. *PMID: 27906516*\n",
    "\n",
    "7.2. How is emotional exhaustion related to burnout?\n",
    "- The data indicates that a worker's age influences his/her capacity to work with method and order, and that workers with emotional exhaustion (a basic feature of burnout) have lower scores in method and order. Greater emotional exhaustion and greater depersonalization were related to lower personal accomplishment and greater burnout. *PMID: 32024740*"
   ]
  },
  {
   "cell_type": "markdown",
   "metadata": {},
   "source": [
    "8.1. List the different types of intelligence?\n",
    "- The different types of intelligence are: 1. Naturalist Intelligence (\"Nature Smart\") 2. Musical Intelligence (\"Musical Smart\") 3. Logical-Mathematical Intelligence (Number/Reasoning Smart) 4. Existential Intelligence 5. Interpersonal Intelligence (People Smart) 6. Bodily-Kinesthetic Intelligence (\"Body Smart\") 7. Linguistic Intelligence (Word Smart) 8. Intra-personal Intelligence (Self Smart) 9. Spatial Intelligence (\"Picture Smart\") (Any of the points if listed are counted as valid answers)\n",
    "\n",
    "8.2. List some abreivations used in the field of intelligence in PubMed?\n",
    "- Some abreivations used in the field of intelligence in PubMed are: 1. IQ (Intelligence Quotient) 2. G (General Intelligence) 3. EI (Emotional Intelligence) 4. CQ (Cultural Intelligence) 5. SQ (Social Intelligence) 6. PQ (Political Intelligence) 7. AQ (Adversity Intelligence) 8. MQ (Moral Intelligence) 9. FQ (Financial Intelligence) 10. RQ (Rational Intelligence) 11. TQ (Technical Intelligence) 12. EQ (Emotional Quotient) 13. SQ (Social Quotient) 14. PQ (Political Quotient) 15. AQ (Adversity Quotient) 16. MQ (Moral Quotient) 17. FQ (Financial Quotient) 18. RQ (Rational Quotient) 19. TQ (Technical Quotient) (Any of the points if listed are counted as valid answers)"
   ]
  },
  {
   "cell_type": "markdown",
   "metadata": {},
   "source": [
    "9.1. Why Did Cephalopods Evolve Intelligence?\n",
    "- Here, we suggest that the loss of the external shell in cephalopods (i) caused a dramatic increase in predatory pressure, which in turn prevented the emergence of slow life histories, and (ii) allowed the exploitation of novel challenging niches, thus favouring the emergence of intelligence. *PMID: 30446408*\n",
    "\n",
    "9.2. Why is intelligence associated with stability of happiness?\n",
    "- In the National Child Development Study, life-course variability in happiness over 18 years was significantly negatively associated with its mean level (happier individuals were more stable in their happiness, and it was not due to the ceiling effect), as well as childhood general intelligence and all Big Five personality factors (except for Agreeableness). In a multiple regression analysis, childhood general intelligence was the strongest predictor of life-course variability in life satisfaction, stronger than all Big Five personality factors, including Emotional stability. More intelligent individuals were significantly more stable in their happiness, and it was not entirely because: (1) they were more educated and wealthier (even though they were); (2) they were healthier (even though they were); (3) they were more stable in their marital status (even though they were); (4) they were happier (even though they were); (5) they were better able to assess their own happiness accurately (even though they were); or (6) they were better able to recall their previous responses more accurately or they were more honest in their survey responses (even though they were both). While I could exclude all of these alternative explanations, it ultimately remained unclear why more intelligent individuals were more stable in their happiness. *PMID: 24943404*"
   ]
  },
  {
   "cell_type": "markdown",
   "metadata": {},
   "source": [
    "10.1. What would happen if there was a direct link between diet and cognitive performance in old age?\n",
    "- Our models show no direct link between diet and cognitive performance in old age; instead they are related via the lifelong-stable trait of intelligence. (No correct answer here) *PMID: 23732046*\n",
    "\n",
    "10.2. What would happen if business intelligence was used to manage supply costs?\n",
    "- No definitive answer here *PMID: 23957184*"
   ]
  },
  {
   "cell_type": "markdown",
   "metadata": {},
   "source": [
    "11.1. What themes emerged in the study of the use of emotional intelligence capabilities in clinical reasoning and decision-making?\n",
    "- Three themes emerged: the sensibility to engage EI capabilities in clinical contexts, motivation to actively engage with emotions in clinical decision-making and incorporating emotional and technical perspectives in decision-making. *PMID: 29048766*\n",
    "\n",
    "11.2. What tools and methods were employed in the study of the relationship between intellectual development and intrinsic motivation?\n",
    "- To test this hypothesis, we administered the Learning Context Questionnaire to measure intellectual development. In addition, we administered the Intrinsic Motivation Inventory to assess our students' intrinsic motivation. Furthermore, we performed regression analyses between intellectual development with both intrinsic motivation and class performance. The results document a positive relationship among intellectual development, intrinsic motivation, and class performance for female students only. In sharp contrast, there was a negative relationship between intellectual development, intrinsic motivation, and class performance for male students. The slope comparisons documented significant differences in the slopes relating intellectual development, intrinsic motivation, and class performance between female and male students. Thus, female students with more sophisticated beliefs that knowledge is personally constructed, complex, and evolving had higher intrinsic motivation and class performance. In contrast, male students with the naive beliefs that the structure of knowledge is simple, absolute, and certain had higher levels of intrinsic motivation and class performance. *PMID: 26330034*"
   ]
  },
  {
   "cell_type": "markdown",
   "metadata": {},
   "source": [
    "12.1 (Instead of asking a question, what happens if you just provide a list of authors?) Jochen Kruppa, Yufeng Liu, Gérard Biau, Michael Kohler, Inke R. König, James D. Malley, and Andreas Ziegle\n",
    "- From the paper \"What subject matter questions motivate the use of machine learning approaches compared to statistical models for probability prediction?\" *PMID: 24615759*\n",
    "\n",
    "12.2. (What happens if you input gibberish?) sdkfjasdkjfhasdkjfhaskjdfh\n",
    "- No definitive answer here"
   ]
  },
  {
   "cell_type": "markdown",
   "metadata": {},
   "source": [
    "13.1. When was the paper \"On the visual analytic intelligence of neural networks\" published?\n",
    "- 25 September 2023 *PMID: 37749085*\n",
    "\n",
    "13.2. When was the paper \"The neuroscience of empathy and compassion in pro-social behavior\" published?\n",
    "- 20 August 2021 *PMID: 34186105* "
   ]
  },
  {
   "cell_type": "markdown",
   "metadata": {},
   "source": [
    "14.1. In which country is the Individuals with Disabilities Education Act (IDEA) located?\n",
    "- United States of America *PMID: 31766555*\n",
    "\n",
    "14.2. Fill in the blank: Impact of Artificial Intelligence on Regional Green Development under _____'s Environmental Decentralization System-Based on Spatial Durbin Model and Threshold Effect\n",
    "- China *PMID: 36429493*"
   ]
  },
  {
   "cell_type": "markdown",
   "metadata": {},
   "source": [
    "15.1. What are the causes of international differences in student assessment and psychometric IQ test results?\n",
    "- Education was rated by N = 71 experts as the most important cause of international ability differences. Genes were rated as the second most relevant factor but also had the highest variability in ratings. Culture, health, wealth, modernization, and politics were the next most important factors, whereas other factors such as geography, climate, test bias, and sampling error were less important. *PMID: 27047425*\n",
    "\n",
    "15.2. What is significantly associated with higher intelligent quotient (IQ) scores?\n",
    "- Happiness is significantly associated with IQ. Those in the lowest IQ range (70-99) reported the lowest levels of happiness compared with the highest IQ group (120-129). Mediation analysis using the continuous IQ variable found dependency in activities of daily living, income, health and neurotic symptoms were strong mediators of the relationship, as they reduced the association between happiness and IQ by 50%. *PMID: 22998852*"
   ]
  },
  {
   "cell_type": "markdown",
   "metadata": {},
   "source": [
    "16.1. What would happen in a scenario where you lower the IQ of a person?\n",
    "- Those with lower IQ are less happy than those with higher IQ. Interventions that target modifiable variables such as income (e.g. through enhancing education and employment opportunities) and neurotic symptoms (e.g. through better detection of mental health problems) may improve levels of happiness in the lower IQ groups. *PMID: 22998852*\n",
    "\n",
    "16.2. What are the potential applications of AI systems in different nursing care settings?\n",
    "- No definitive answer as scenario based questions are usually hypothetical. This question references the paper *PMID: 34847057*"
   ]
  },
  {
   "cell_type": "markdown",
   "metadata": {},
   "source": [
    "17.1. What is the TT100K dataset?\n",
    "- The Tsinghua-Tencent 100K (TT100K) traffic sign dataset. (It is a dataset for traffic sign detection, which contains 100,000 images with 224,024 annotated traffic signs.) *PMID: 36502047*\n",
    "\n",
    "17.2. Are forms of narcissism (grandiose and vulnerable) related to objective intelligence?\n",
    "- No (Both forms of narcissism (grandiose and vulnerable) were unrelated to objective intelligence.) *PMID: 31654584*"
   ]
  },
  {
   "cell_type": "markdown",
   "metadata": {},
   "source": [
    "18.1. Tell me about the practical implementation of Industrial Internet of Things over 5G\n",
    "- The next generation of mobile broadband communication, 5G, is seen as a driver for the industrial Internet of things (IIoT). The expected 5G-increased performance spanning across different indicators, flexibility to tailor the network to the needs of specific use cases, and the inherent security that offers guarantees both in terms of performance and data isolation have triggered the emergence of the concept of public network integrated non-public network (PNI-NPN) 5G networks. These networks might be a flexible alternative for the well-known (albeit mostly proprietary) Ethernet wired connections and protocols commonly used in the industry setting. With that in mind, this paper presents a practical implementation of IIoT over 5G composed of different infrastructure and application components. From the infrastructure perspective, the implementation includes a 5G Internet of things (IoT) end device that collects sensing data from shop floor assets and the surrounding environment and makes these data available over an industrial 5G Network. Application-wise, the implementation includes an intelligent assistant that consumes such data to generate valuable insights that allow for the sustainable operation of assets. These components have been tested and validated in a real shop floor environment at Bosch Termotecnologia (Bosch TT). Results show the potential of 5G as an enhancer of IIoT towards smarter, more sustainable, green, and environmentally friendly factories. *PMID: 37299925*\n",
    "\n",
    "18.2. Tell me about End-to-End Automated License Plate Recognition System Using YOLO Based Vehicle and License Plate Detection with Vehicle Classification\n",
    "- An accurate and robust Automatic License Plate Recognition (ALPR) method proves surprising versatility in an Intelligent Transportation and Surveillance (ITS) system. However, most of the existing approaches often use prior knowledge or fixed pre-and-post processing rules and are thus limited by poor generalization in complex real-life conditions. In this paper, we leverage a YOLO-based end-to-end generic ALPR pipeline for vehicle detection (VD), license plate (LP) detection and recognition without exploiting prior knowledge or additional steps in inference. We assess the whole ALPR pipeline, starting from vehicle detection to the LP recognition stage, including a vehicle classifier for emergency vehicles and heavy trucks. We used YOLO v2 in the initial stage of the pipeline and remaining stages are based on the state-of-the-art YOLO v4 detector with various data augmentation and generation techniques to obtain LP recognition accuracy on par with current proposed methods. To evaluate our approach, we used five public datasets from different regions, and we achieved an average recognition accuracy of 90.3% while maintaining an acceptable frames per second (FPS) on a low-end GPU. *PMID: 36502178*"
   ]
  },
  {
   "cell_type": "markdown",
   "metadata": {},
   "source": [
    "20.1. What IQ is higher - 100 or 120?\n",
    "- 120 (Very simple comparative question)\n",
    "\n",
    "20.2. What is the difference between IQ and EQ?\n",
    "- IQ is the ability to learn, understand, and apply information. EQ is the ability to understand and manage your own emotions and those of others. (question comparing different types of intelligence)"
   ]
  }
 ],
 "metadata": {
  "language_info": {
   "name": "python"
  }
 },
 "nbformat": 4,
 "nbformat_minor": 2
}
