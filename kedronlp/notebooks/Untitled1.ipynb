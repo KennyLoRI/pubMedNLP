{
 "cells": [
  {
   "cell_type": "code",
   "execution_count": 1,
   "id": "d9c8115b",
   "metadata": {},
   "outputs": [],
   "source": [
    "import pandas as pd"
   ]
  },
  {
   "cell_type": "code",
   "execution_count": 6,
   "id": "47e5048f",
   "metadata": {},
   "outputs": [],
   "source": [
    "context = ['Title: The rutting model of semi-rigid asphalt pavement based on RIOHTRACK full-scale track.\\nAuthors: Bo Kou, Jinde Cao, Wei Huang, Tao Ma\\nAffiliations: NA\\nQualifier: NA\\nMajor Qualifier: NA\\nDescriptor: NA\\nMajor Descriptor: NA\\nAbstract: Semi-rigid asphalt pavement has a wide range of application cases and data bases, and rutting is a typical failure mode of semi-rigid asphalt pavement. The establishment of an accurate rutting depth prediction model is of great significance to pavement design and maintenance. However, due to the lack of perfect theoretical system and systematic research data, the existing rutting prediction model of semi-rigid asphalt pavement is not accurate. In this paper, machine learning and mechanical-empirical model are combined to study the feature selection affecting the rutting evolution and rutting depth model of semi-rigid asphalt pavement. First, the particle swarm optimization random forest model is used to select the important features that affect the evolution of rutting depth. Second, the R-F model based on important features is proposed for the first time, which is compared with modification of rutting model in the Chinese Specifications for Design of Highway Asphalt Pavement (JTG D50-2017) and R-B model based on the improved Burgers model. The results show that the R-F model has more accurate prediction ability and better generalization ability, and it does not need complex data preprocessing and noise reduction. Here, the machine learning method is introduced to analyze the data characteristics, and the R-F rutting depth prediction model framework is innovatively proposed, which greatly improves the applicability and accuracy of the existing model framework.\\nJournal: Mathematical biosciences and engineering : MBE\\nLanguage: eng\\nYear: 2023\\nMonth: Feb\\n', \"Title: Predicting Future Driving Risk of Crash-Involved Drivers Based on a Systematic Machine Learning Framework.\\nAuthors: Chen Wang, Lin Liu, Chengcheng Xu, Weitao Lv\\nAffiliations: NA\\nQualifier: NA\\nMajor Qualifier: NA\\nDescriptor: Accidents, Automobile Driving, China, Decision Trees, Forecasting, Humans, Machine Learning, Models, Risk Assessment, Risk Factors, Risk-Taking\\nMajor Descriptor: Accidents, Automobile Driving, Machine Learning, Models, Risk-Taking\\nAbstract: The objective of this paper is to predict the future driving risk of crash-involved drivers in Kunshan, China. A systematic machine learning framework is proposed to deal with three critical technical issues: 1. defining driving risk; 2. developing risky driving factors; 3. developing a reliable and explicable machine learning model. High-risk (HR) and low-risk (LR) drivers were defined by five different scenarios. A number of features were extracted from seven-year crash/violation records. Drivers' two-year prior crash/violation information was used to predict their driving risk in the subsequent two years. Using a one-year rolling time window, prediction models were developed for four consecutive time periods: 2013⁻2014, 2014⁻2015, 2015⁻2016, and 2016⁻2017. Four tree-based ensemble learning techniques were attempted, including random forest (RF), Adaboost with decision tree, gradient boosting decision tree (GBDT), and extreme gradient boosting decision tree (XGboost). A temporal transferability test and a follow-up study were applied to validate the trained models. The best scenario defining driving risk was multi-dimensional, encompassing crash recurrence, severity, and fault commitment. GBDT appeared to be the best model choice across all time periods, with an acceptable average precision (AP) of 0.68 on the most recent datasets (i.e., 2016⁻2017). Seven of nine top features were related to risky driving behaviors, which presented non-linear relationships with driving risk. Model transferability held within relatively short time intervals (1⁻2 years). Appropriate risk definition, complicated violation/crash features, and advanced machine learning techniques need to be considered for risk prediction task. The proposed machine learning approach is promising, so that safety interventions can be launched more effectively.\\nJournal: International journal of environmental research and public health\\nLanguage: eng\\nYear: 2019\\nMonth: Jan\\n\", 'Title: Reconstructing computational system dynamics from neural data with recurrent neural networks.\\nAuthors: Daniel Durstewitz, Georgia Koppe, Max Ingo Thurm\\nAffiliations: NA\\nQualifier: NA\\nMajor Qualifier: NA\\nDescriptor: Animals, Humans, Artificial Intelligence, Neural Networks, Neurosciences\\nMajor Descriptor: Artificial Intelligence, Neurosciences\\nAbstract: Computational models in neuroscience usually take the form of systems of differential equations. The behaviour of such systems is the subject of dynamical systems theory. Dynamical systems\\xa0theory provides a powerful mathematical toolbox for analysing neurobiological processes and has been a mainstay of computational neuroscience for decades. Recently, recurrent neural networks (RNNs) have become a popular machine learning tool for studying the non-linear dynamics of neural and behavioural processes by emulating an underlying system of differential equations. RNNs have been routinely trained on similar behavioural tasks to those used for animal subjects to generate hypotheses about the underlying computational mechanisms. By contrast, RNNs can also be trained on the measured physiological and behavioural data, thereby directly inheriting their temporal and geometrical properties. In this way they become a formal surrogate for the experimentally probed system that can be further analysed, perturbed and simulated. This powerful approach is called dynamical system reconstruction. In this Perspective, we focus on recent trends in artificial intelligence and machine learning in this exciting and rapidly expanding field, which may be less well known in neuroscience. We discuss formal prerequisites, different model architectures and training approaches for RNN-based dynamical system reconstructions, ways to evaluate and validate model performance, how to interpret trained models in a neuroscience context, and current challenges.\\nJournal: Nature reviews. Neuroscience\\nLanguage: eng\\nYear: 2023\\nMonth: Nov\\n']"
   ]
  },
  {
   "cell_type": "code",
   "execution_count": 9,
   "id": "a93728cf",
   "metadata": {},
   "outputs": [],
   "source": [
    "df = pd.DataFrame(context)"
   ]
  },
  {
   "cell_type": "code",
   "execution_count": 14,
   "id": "7df4ba19",
   "metadata": {},
   "outputs": [
    {
     "data": {
      "text/html": [
       "<pre style=\"white-space:pre;overflow-x:auto;line-height:normal;font-family:Menlo,'DejaVu Sans Mono',consolas,'Courier New',monospace\"></pre>\n"
      ],
      "text/plain": []
     },
     "metadata": {},
     "output_type": "display_data"
    },
    {
     "data": {
      "text/plain": [
       "\n",
       "\u001b[1m[\u001b[0m\n",
       "    \u001b[32m'Title: The rutting model of semi-rigid asphalt pavement based on RIOHTRACK full-scale track.\\nAuthors: Bo Kou, Jinde Cao, Wei Huang, Tao Ma\\nAffiliations: NA\\nQualifier: NA\\nMajor Qualifier: NA\\nDescriptor: NA\\nMajor Descriptor: NA\\nAbstract: Semi-rigid asphalt pavement has a wide range of application cases and data bases, and rutting is a typical failure mode of semi-rigid asphalt pavement. The establishment of an accurate rutting depth prediction model is of great significance to pavement design and maintenance. However, due to the lack of perfect theoretical system and systematic research data, the existing rutting prediction model of semi-rigid asphalt pavement is not accurate. In this paper, machine learning and mechanical-empirical model are combined to study the feature selection affecting the rutting evolution and rutting depth model of semi-rigid asphalt pavement. First, the particle swarm optimization random forest model is used to select the important features that affect the evolution of rutting depth. Second, the R-F model based on important features is proposed for the first time, which is compared with modification of rutting model in the Chinese Specifications for Design of Highway Asphalt Pavement \u001b[0m\u001b[32m(\u001b[0m\u001b[32mJTG D50-2017\u001b[0m\u001b[32m)\u001b[0m\u001b[32m and R-B model based on the improved Burgers model. The results show that the R-F model has more accurate prediction ability and better generalization ability, and it does not need complex data preprocessing and noise reduction. Here, the machine learning method is introduced to analyze the data characteristics, and the R-F rutting depth prediction model framework is innovatively proposed, which greatly improves the applicability and accuracy of the existing model framework.\\nJournal: Mathematical biosciences and engineering : MBE\\nLanguage: eng\\nYear: 2023\\nMonth: Feb\\n'\u001b[0m,\n",
       "    \u001b[32m\"Title: Predicting Future Driving Risk of Crash-Involved Drivers Based on a Systematic Machine Learning Framework.\\nAuthors: Chen Wang, Lin Liu, Chengcheng Xu, Weitao Lv\\nAffiliations: NA\\nQualifier: NA\\nMajor Qualifier: NA\\nDescriptor: Accidents, Automobile Driving, China, Decision Trees, Forecasting, Humans, Machine Learning, Models, Risk Assessment, Risk Factors, Risk-Taking\\nMajor Descriptor: Accidents, Automobile Driving, Machine Learning, Models, Risk-Taking\\nAbstract: The objective of this paper is to predict the future driving risk of crash-involved drivers in Kunshan, China. A systematic machine learning framework is proposed to deal with three critical technical issues: 1. defining driving risk; 2. developing risky driving factors; 3. developing a reliable and explicable machine learning model. High-risk \u001b[0m\u001b[32m(\u001b[0m\u001b[32mHR\u001b[0m\u001b[32m)\u001b[0m\u001b[32m and low-risk \u001b[0m\u001b[32m(\u001b[0m\u001b[32mLR\u001b[0m\u001b[32m)\u001b[0m\u001b[32m drivers were defined by five different scenarios. A number of features were extracted from seven-year crash/violation records. Drivers' two-year prior crash/violation information was used to predict their driving risk in the subsequent two years. Using a one-year rolling time window, prediction models were developed for four consecutive time periods: 2013⁻2014, 2014⁻2015, 2015⁻2016, and 2016⁻2017. Four tree-based ensemble learning techniques were attempted, including random forest \u001b[0m\u001b[32m(\u001b[0m\u001b[32mRF\u001b[0m\u001b[32m)\u001b[0m\u001b[32m, Adaboost with decision tree, gradient boosting decision tree \u001b[0m\u001b[32m(\u001b[0m\u001b[32mGBDT\u001b[0m\u001b[32m)\u001b[0m\u001b[32m, and extreme gradient boosting decision tree \u001b[0m\u001b[32m(\u001b[0m\u001b[32mXGboost\u001b[0m\u001b[32m)\u001b[0m\u001b[32m. A temporal transferability test and a follow-up study were applied to validate the trained models. The best scenario defining driving risk was multi-dimensional, encompassing crash recurrence, severity, and fault commitment. GBDT appeared to be the best model choice across all time periods, with an acceptable average precision \u001b[0m\u001b[32m(\u001b[0m\u001b[32mAP\u001b[0m\u001b[32m)\u001b[0m\u001b[32m of 0.68 on the most recent datasets \u001b[0m\u001b[32m(\u001b[0m\u001b[32mi.e., 2016⁻2017\u001b[0m\u001b[32m)\u001b[0m\u001b[32m. Seven of nine top features were related to risky driving behaviors, which presented non-linear relationships with driving risk. Model transferability held within relatively short time intervals \u001b[0m\u001b[32m(\u001b[0m\u001b[32m1⁻2 years\u001b[0m\u001b[32m)\u001b[0m\u001b[32m. Appropriate risk definition, complicated violation/crash features, and advanced machine learning techniques need to be considered for risk prediction task. The proposed machine learning approach is promising, so that safety interventions can be launched more effectively.\\nJournal: International journal of environmental research and public health\\nLanguage: eng\\nYear: 2019\\nMonth: Jan\\n\"\u001b[0m,\n",
       "    \u001b[32m'Title: Reconstructing computational system dynamics from neural data with recurrent neural networks.\\nAuthors: Daniel Durstewitz, Georgia Koppe, Max Ingo Thurm\\nAffiliations: NA\\nQualifier: NA\\nMajor Qualifier: NA\\nDescriptor: Animals, Humans, Artificial Intelligence, Neural Networks, Neurosciences\\nMajor Descriptor: Artificial Intelligence, Neurosciences\\nAbstract: Computational models in neuroscience usually take the form of systems of differential equations. The behaviour of such systems is the subject of dynamical systems theory. Dynamical systems\\xa0theory provides a powerful mathematical toolbox for analysing neurobiological processes and has been a mainstay of computational neuroscience for decades. Recently, recurrent neural networks \u001b[0m\u001b[32m(\u001b[0m\u001b[32mRNNs\u001b[0m\u001b[32m)\u001b[0m\u001b[32m have become a popular machine learning tool for studying the non-linear dynamics of neural and behavioural processes by emulating an underlying system of differential equations. RNNs have been routinely trained on similar behavioural tasks to those used for animal subjects to generate hypotheses about the underlying computational mechanisms. By contrast, RNNs can also be trained on the measured physiological and behavioural data, thereby directly inheriting their temporal and geometrical properties. In this way they become a formal surrogate for the experimentally probed system that can be further analysed, perturbed and simulated. This powerful approach is called dynamical system reconstruction. In this Perspective, we focus on recent trends in artificial intelligence and machine learning in this exciting and rapidly expanding field, which may be less well known in neuroscience. We discuss formal prerequisites, different model architectures and training approaches for RNN-based dynamical system reconstructions, ways to evaluate and validate model performance, how to interpret trained models in a neuroscience context, and current challenges.\\nJournal: Nature reviews. Neuroscience\\nLanguage: eng\\nYear: 2023\\nMonth: Nov\\n'\u001b[0m\n",
       "\u001b[1m]\u001b[0m"
      ]
     },
     "execution_count": 14,
     "metadata": {},
     "output_type": "execute_result"
    }
   ],
   "source": [
    "top_k_docs.values.flatten().tolist()"
   ]
  },
  {
   "cell_type": "code",
   "execution_count": null,
   "id": "7ac9a2c6",
   "metadata": {},
   "outputs": [],
   "source": []
  }
 ],
 "metadata": {
  "kernelspec": {
   "display_name": "Kedro (kedronlp)",
   "language": "python",
   "name": "kedro_kedronlp"
  },
  "language_info": {
   "codemirror_mode": {
    "name": "ipython",
    "version": 3
   },
   "file_extension": ".py",
   "mimetype": "text/x-python",
   "name": "python",
   "nbconvert_exporter": "python",
   "pygments_lexer": "ipython3",
   "version": "3.11.6"
  }
 },
 "nbformat": 4,
 "nbformat_minor": 5
}
