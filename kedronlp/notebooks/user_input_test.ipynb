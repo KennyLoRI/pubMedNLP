{
 "cells": [
  {
   "cell_type": "code",
   "execution_count": 5,
   "id": "9b6c4693",
   "metadata": {},
   "outputs": [],
   "source": [
    "import spacy\n",
    "from sentence_transformers import SentenceTransformer"
   ]
  },
  {
   "cell_type": "code",
   "execution_count": 6,
   "id": "c1461f64",
   "metadata": {},
   "outputs": [],
   "source": [
    "def get_user_query_embed(): \n",
    "    nlp = spacy.load(\"en_core_web_sm\")\n",
    "    model = SentenceTransformer(\"pritamdeka/S-PubMedBert-MS-MARCO\")\n",
    "    #get input\n",
    "    user_input = input(\"Please enter your question: \")\n",
    "    embeddings = model.encode(user_input)\n",
    "    return user_input, embeddings"
   ]
  },
  {
   "cell_type": "code",
   "execution_count": 7,
   "id": "cd3266ed",
   "metadata": {},
   "outputs": [
    {
     "name": "stdout",
     "output_type": "stream",
     "text": [
      "Please enter your question: What is soft sensing?\n"
     ]
    }
   ],
   "source": [
    "user_input, query = get_user_query_embed()"
   ]
  },
  {
   "cell_type": "code",
   "execution_count": 9,
   "id": "c10d870f",
   "metadata": {},
   "outputs": [
    {
     "data": {
      "text/html": [
       "<pre style=\"white-space:pre;overflow-x:auto;line-height:normal;font-family:Menlo,'DejaVu Sans Mono',consolas,'Courier New',monospace\"></pre>\n"
      ],
      "text/plain": []
     },
     "metadata": {},
     "output_type": "display_data"
    },
    {
     "data": {
      "text/plain": [
       "\u001b[1;36m768\u001b[0m"
      ]
     },
     "execution_count": 9,
     "metadata": {},
     "output_type": "execute_result"
    }
   ],
   "source": [
    "len(query)"
   ]
  },
  {
   "cell_type": "code",
   "execution_count": null,
   "id": "53fc9894",
   "metadata": {},
   "outputs": [],
   "source": []
  }
 ],
 "metadata": {
  "kernelspec": {
   "display_name": "Kedro (kedronlp)",
   "language": "python",
   "name": "kedro_kedronlp"
  },
  "language_info": {
   "codemirror_mode": {
    "name": "ipython",
    "version": 3
   },
   "file_extension": ".py",
   "mimetype": "text/x-python",
   "name": "python",
   "nbconvert_exporter": "python",
   "pygments_lexer": "ipython3",
   "version": "3.11.6"
  }
 },
 "nbformat": 4,
 "nbformat_minor": 5
}
