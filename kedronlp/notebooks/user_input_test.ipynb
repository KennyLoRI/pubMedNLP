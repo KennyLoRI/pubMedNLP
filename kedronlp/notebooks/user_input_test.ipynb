{
 "cells": [
  {
   "cell_type": "code",
   "execution_count": 5,
   "id": "9b6c4693",
   "metadata": {},
   "outputs": [],
   "source": [
    "import spacy\n",
    "from sentence_transformers import SentenceTransformer"
   ]
  },
  {
   "cell_type": "code",
   "execution_count": 6,
   "id": "c1461f64",
   "metadata": {},
   "outputs": [],
   "source": [
    "def get_user_query_embed(): \n",
    "    nlp = spacy.load(\"en_core_web_sm\")\n",
    "    model = SentenceTransformer(\"pritamdeka/S-PubMedBert-MS-MARCO\")\n",
    "    #get input\n",
    "    user_input = input(\"Please enter your question: \")\n",
    "    embeddings = model.encode(user_input)\n",
    "    return user_input, embeddings"
   ]
  },
  {
   "cell_type": "code",
   "execution_count": 7,
   "id": "cd3266ed",
   "metadata": {},
   "outputs": [
    {
     "name": "stdout",
     "output_type": "stream",
     "text": [
      "Please enter your question: What is soft sensing?\n"
     ]
    }
   ],
   "source": [
    "user_input, query = get_user_query_embed()"
   ]
  },
  {
   "cell_type": "code",
   "execution_count": 9,
   "id": "c10d870f",
   "metadata": {},
   "outputs": [
    {
     "data": {
      "text/html": [
       "<pre style=\"white-space:pre;overflow-x:auto;line-height:normal;font-family:Menlo,'DejaVu Sans Mono',consolas,'Courier New',monospace\"></pre>\n"
      ],
      "text/plain": []
     },
     "metadata": {},
     "output_type": "display_data"
    },
    {
     "data": {
      "text/plain": [
       "\u001b[1;36m768\u001b[0m"
      ]
     },
     "execution_count": 9,
     "metadata": {},
     "output_type": "execute_result"
    }
   ],
   "source": [
    "len(query)"
   ]
  },
  {
   "cell_type": "code",
   "execution_count": 28,
   "id": "53fc9894",
   "metadata": {},
   "outputs": [
    {
     "name": "stdout",
     "output_type": "stream",
     "text": [
      "Corrected question: How are you today? How are you today? Is diarrhea a symptom of Dysarthria?\n"
     ]
    }
   ],
   "source": [
    "import spacy\n",
    "from spellchecker import SpellChecker\n",
    "import string\n",
    "\n",
    "\n",
    "# Create a SpellChecker object\n",
    "spell = SpellChecker()\n",
    "\n",
    "# Load spaCy English language model\n",
    "nlp = spacy.load('en_core_web_sm')\n",
    "\n",
    "# Example query with punctuation\n",
    "query = \"How are you today? How are you today? Is Dddiarrhea a symptom of Dysarthria?\"\n",
    "\n",
    "# Process the text using spaCy\n",
    "doc = nlp(query)\n",
    "\n",
    "    \n",
    "corrected_words = [spell.correction(token.text)+token.whitespace_ if spell.correction(token.text) is not None else token.text+token.whitespace_ for token in doc]\n",
    "    \n",
    "correct_query = ''.join(corrected_words)\n",
    "print(\"Corrected question:\", correct_query)\n",
    "\n",
    "\n"
   ]
  },
  {
   "cell_type": "code",
   "execution_count": 26,
   "id": "728c7c74",
   "metadata": {},
   "outputs": [
    {
     "name": "stdout",
     "output_type": "stream",
     "text": [
      "None\n"
     ]
    }
   ],
   "source": [
    "d = spell.correction(\"Dysarthria\")\n",
    "print(d)"
   ]
  },
  {
   "cell_type": "code",
   "execution_count": 3,
   "id": "9d558464",
   "metadata": {},
   "outputs": [
    {
     "name": "stdout",
     "output_type": "stream",
     "text": [
      "Collecting pyspellchecker\n",
      "  Downloading pyspellchecker-0.7.3-py3-none-any.whl.metadata (9.4 kB)\n",
      "Downloading pyspellchecker-0.7.3-py3-none-any.whl (6.5 MB)\n",
      "\u001b[2K   \u001b[90m━━━━━━━━━━━━━━━━━━━━━━━━━━━━━━━━━━━━━━━━\u001b[0m \u001b[32m6.5/6.5 MB\u001b[0m \u001b[31m3.2 MB/s\u001b[0m eta \u001b[36m0:00:00\u001b[0m00:01\u001b[0m00:01\u001b[0m\n",
      "\u001b[?25hInstalling collected packages: pyspellchecker\n",
      "Successfully installed pyspellchecker-0.7.3\n",
      "Note: you may need to restart the kernel to use updated packages.\n"
     ]
    }
   ],
   "source": [
    "%pip install pyspellchecker\n"
   ]
  },
  {
   "cell_type": "code",
   "execution_count": null,
   "id": "9c6eafed",
   "metadata": {},
   "outputs": [],
   "source": []
  }
 ],
 "metadata": {
  "kernelspec": {
   "display_name": "Kedro (kedronlp)",
   "language": "python",
   "name": "kedro_kedronlp"
  },
  "language_info": {
   "codemirror_mode": {
    "name": "ipython",
    "version": 3
   },
   "file_extension": ".py",
   "mimetype": "text/x-python",
   "name": "python",
   "nbconvert_exporter": "python",
   "pygments_lexer": "ipython3",
   "version": "3.11.6"
  }
 },
 "nbformat": 4,
 "nbformat_minor": 5
}
