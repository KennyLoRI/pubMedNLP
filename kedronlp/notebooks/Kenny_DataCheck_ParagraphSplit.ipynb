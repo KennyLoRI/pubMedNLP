{
 "cells": [
  {
   "cell_type": "code",
   "execution_count": 1,
   "id": "749e21bc",
   "metadata": {},
   "outputs": [
    {
     "name": "stdout",
     "output_type": "stream",
     "text": [
      "Requirement already satisfied: sentence_transformers in /Users/Kenneth/opt/anaconda3/envs/pubMedNLP/lib/python3.11/site-packages (2.2.2)\n",
      "Requirement already satisfied: transformers<5.0.0,>=4.6.0 in /Users/Kenneth/opt/anaconda3/envs/pubMedNLP/lib/python3.11/site-packages (from sentence_transformers) (4.36.0)\n",
      "Requirement already satisfied: tqdm in /Users/Kenneth/opt/anaconda3/envs/pubMedNLP/lib/python3.11/site-packages (from sentence_transformers) (4.66.1)\n",
      "Requirement already satisfied: torch>=1.6.0 in /Users/Kenneth/opt/anaconda3/envs/pubMedNLP/lib/python3.11/site-packages (from sentence_transformers) (2.1.1)\n",
      "Requirement already satisfied: torchvision in /Users/Kenneth/opt/anaconda3/envs/pubMedNLP/lib/python3.11/site-packages (from sentence_transformers) (0.16.1)\n",
      "Requirement already satisfied: numpy in /Users/Kenneth/opt/anaconda3/envs/pubMedNLP/lib/python3.11/site-packages (from sentence_transformers) (1.26.1)\n",
      "Requirement already satisfied: scikit-learn in /Users/Kenneth/opt/anaconda3/envs/pubMedNLP/lib/python3.11/site-packages (from sentence_transformers) (1.3.2)\n",
      "Requirement already satisfied: scipy in /Users/Kenneth/opt/anaconda3/envs/pubMedNLP/lib/python3.11/site-packages (from sentence_transformers) (1.11.4)\n",
      "Requirement already satisfied: nltk in /Users/Kenneth/opt/anaconda3/envs/pubMedNLP/lib/python3.11/site-packages (from sentence_transformers) (3.8.1)\n",
      "Requirement already satisfied: sentencepiece in /Users/Kenneth/opt/anaconda3/envs/pubMedNLP/lib/python3.11/site-packages (from sentence_transformers) (0.1.99)\n",
      "Requirement already satisfied: huggingface-hub>=0.4.0 in /Users/Kenneth/opt/anaconda3/envs/pubMedNLP/lib/python3.11/site-packages (from sentence_transformers) (0.19.4)\n",
      "Requirement already satisfied: filelock in /Users/Kenneth/opt/anaconda3/envs/pubMedNLP/lib/python3.11/site-packages (from huggingface-hub>=0.4.0->sentence_transformers) (3.13.1)\n",
      "Requirement already satisfied: fsspec>=2023.5.0 in /Users/Kenneth/opt/anaconda3/envs/pubMedNLP/lib/python3.11/site-packages (from huggingface-hub>=0.4.0->sentence_transformers) (2023.10.0)\n",
      "Requirement already satisfied: requests in /Users/Kenneth/opt/anaconda3/envs/pubMedNLP/lib/python3.11/site-packages (from huggingface-hub>=0.4.0->sentence_transformers) (2.31.0)\n",
      "Requirement already satisfied: pyyaml>=5.1 in /Users/Kenneth/opt/anaconda3/envs/pubMedNLP/lib/python3.11/site-packages (from huggingface-hub>=0.4.0->sentence_transformers) (6.0.1)\n",
      "Requirement already satisfied: typing-extensions>=3.7.4.3 in /Users/Kenneth/opt/anaconda3/envs/pubMedNLP/lib/python3.11/site-packages (from huggingface-hub>=0.4.0->sentence_transformers) (4.8.0)\n",
      "Requirement already satisfied: packaging>=20.9 in /Users/Kenneth/opt/anaconda3/envs/pubMedNLP/lib/python3.11/site-packages (from huggingface-hub>=0.4.0->sentence_transformers) (23.2)\n",
      "Requirement already satisfied: sympy in /Users/Kenneth/opt/anaconda3/envs/pubMedNLP/lib/python3.11/site-packages (from torch>=1.6.0->sentence_transformers) (1.12)\n",
      "Requirement already satisfied: networkx in /Users/Kenneth/opt/anaconda3/envs/pubMedNLP/lib/python3.11/site-packages (from torch>=1.6.0->sentence_transformers) (3.2)\n",
      "Requirement already satisfied: jinja2 in /Users/Kenneth/opt/anaconda3/envs/pubMedNLP/lib/python3.11/site-packages (from torch>=1.6.0->sentence_transformers) (3.1.2)\n",
      "Requirement already satisfied: regex!=2019.12.17 in /Users/Kenneth/opt/anaconda3/envs/pubMedNLP/lib/python3.11/site-packages (from transformers<5.0.0,>=4.6.0->sentence_transformers) (2023.10.3)\n",
      "Requirement already satisfied: tokenizers<0.19,>=0.14 in /Users/Kenneth/opt/anaconda3/envs/pubMedNLP/lib/python3.11/site-packages (from transformers<5.0.0,>=4.6.0->sentence_transformers) (0.15.0)\n",
      "Requirement already satisfied: safetensors>=0.3.1 in /Users/Kenneth/opt/anaconda3/envs/pubMedNLP/lib/python3.11/site-packages (from transformers<5.0.0,>=4.6.0->sentence_transformers) (0.4.1)\n",
      "Requirement already satisfied: click in /Users/Kenneth/opt/anaconda3/envs/pubMedNLP/lib/python3.11/site-packages (from nltk->sentence_transformers) (8.1.7)\n",
      "Requirement already satisfied: joblib in /Users/Kenneth/opt/anaconda3/envs/pubMedNLP/lib/python3.11/site-packages (from nltk->sentence_transformers) (1.3.2)\n",
      "Requirement already satisfied: threadpoolctl>=2.0.0 in /Users/Kenneth/opt/anaconda3/envs/pubMedNLP/lib/python3.11/site-packages (from scikit-learn->sentence_transformers) (3.2.0)\n",
      "Requirement already satisfied: pillow!=8.3.*,>=5.3.0 in /Users/Kenneth/opt/anaconda3/envs/pubMedNLP/lib/python3.11/site-packages (from torchvision->sentence_transformers) (10.1.0)\n",
      "Requirement already satisfied: MarkupSafe>=2.0 in /Users/Kenneth/opt/anaconda3/envs/pubMedNLP/lib/python3.11/site-packages (from jinja2->torch>=1.6.0->sentence_transformers) (2.1.3)\n",
      "Requirement already satisfied: charset-normalizer<4,>=2 in /Users/Kenneth/opt/anaconda3/envs/pubMedNLP/lib/python3.11/site-packages (from requests->huggingface-hub>=0.4.0->sentence_transformers) (3.3.1)\n",
      "Requirement already satisfied: idna<4,>=2.5 in /Users/Kenneth/opt/anaconda3/envs/pubMedNLP/lib/python3.11/site-packages (from requests->huggingface-hub>=0.4.0->sentence_transformers) (3.4)\n",
      "Requirement already satisfied: urllib3<3,>=1.21.1 in /Users/Kenneth/opt/anaconda3/envs/pubMedNLP/lib/python3.11/site-packages (from requests->huggingface-hub>=0.4.0->sentence_transformers) (2.0.7)\n",
      "Requirement already satisfied: certifi>=2017.4.17 in /Users/Kenneth/opt/anaconda3/envs/pubMedNLP/lib/python3.11/site-packages (from requests->huggingface-hub>=0.4.0->sentence_transformers) (2023.7.22)\n",
      "Requirement already satisfied: mpmath>=0.19 in /Users/Kenneth/opt/anaconda3/envs/pubMedNLP/lib/python3.11/site-packages (from sympy->torch>=1.6.0->sentence_transformers) (1.3.0)\n",
      "Note: you may need to restart the kernel to use updated packages.\n",
      "Requirement already satisfied: spacy in /Users/Kenneth/opt/anaconda3/envs/pubMedNLP/lib/python3.11/site-packages (3.7.2)\n",
      "Requirement already satisfied: spacy-legacy<3.1.0,>=3.0.11 in /Users/Kenneth/opt/anaconda3/envs/pubMedNLP/lib/python3.11/site-packages (from spacy) (3.0.12)\n",
      "Requirement already satisfied: spacy-loggers<2.0.0,>=1.0.0 in /Users/Kenneth/opt/anaconda3/envs/pubMedNLP/lib/python3.11/site-packages (from spacy) (1.0.5)\n",
      "Requirement already satisfied: murmurhash<1.1.0,>=0.28.0 in /Users/Kenneth/opt/anaconda3/envs/pubMedNLP/lib/python3.11/site-packages (from spacy) (1.0.10)\n",
      "Requirement already satisfied: cymem<2.1.0,>=2.0.2 in /Users/Kenneth/opt/anaconda3/envs/pubMedNLP/lib/python3.11/site-packages (from spacy) (2.0.8)\n",
      "Requirement already satisfied: preshed<3.1.0,>=3.0.2 in /Users/Kenneth/opt/anaconda3/envs/pubMedNLP/lib/python3.11/site-packages (from spacy) (3.0.9)\n",
      "Requirement already satisfied: thinc<8.3.0,>=8.1.8 in /Users/Kenneth/opt/anaconda3/envs/pubMedNLP/lib/python3.11/site-packages (from spacy) (8.2.1)\n",
      "Requirement already satisfied: wasabi<1.2.0,>=0.9.1 in /Users/Kenneth/opt/anaconda3/envs/pubMedNLP/lib/python3.11/site-packages (from spacy) (1.1.2)\n",
      "Requirement already satisfied: srsly<3.0.0,>=2.4.3 in /Users/Kenneth/opt/anaconda3/envs/pubMedNLP/lib/python3.11/site-packages (from spacy) (2.4.8)\n",
      "Requirement already satisfied: catalogue<2.1.0,>=2.0.6 in /Users/Kenneth/opt/anaconda3/envs/pubMedNLP/lib/python3.11/site-packages (from spacy) (2.0.10)\n",
      "Requirement already satisfied: weasel<0.4.0,>=0.1.0 in /Users/Kenneth/opt/anaconda3/envs/pubMedNLP/lib/python3.11/site-packages (from spacy) (0.3.4)\n",
      "Requirement already satisfied: typer<0.10.0,>=0.3.0 in /Users/Kenneth/opt/anaconda3/envs/pubMedNLP/lib/python3.11/site-packages (from spacy) (0.9.0)\n",
      "Requirement already satisfied: smart-open<7.0.0,>=5.2.1 in /Users/Kenneth/opt/anaconda3/envs/pubMedNLP/lib/python3.11/site-packages (from spacy) (6.4.0)\n",
      "Requirement already satisfied: tqdm<5.0.0,>=4.38.0 in /Users/Kenneth/opt/anaconda3/envs/pubMedNLP/lib/python3.11/site-packages (from spacy) (4.66.1)\n",
      "Requirement already satisfied: requests<3.0.0,>=2.13.0 in /Users/Kenneth/opt/anaconda3/envs/pubMedNLP/lib/python3.11/site-packages (from spacy) (2.31.0)\n",
      "Requirement already satisfied: pydantic!=1.8,!=1.8.1,<3.0.0,>=1.7.4 in /Users/Kenneth/opt/anaconda3/envs/pubMedNLP/lib/python3.11/site-packages (from spacy) (1.10.13)\n",
      "Requirement already satisfied: jinja2 in /Users/Kenneth/opt/anaconda3/envs/pubMedNLP/lib/python3.11/site-packages (from spacy) (3.1.2)\n",
      "Requirement already satisfied: setuptools in /Users/Kenneth/opt/anaconda3/envs/pubMedNLP/lib/python3.11/site-packages (from spacy) (68.2.2)\n",
      "Requirement already satisfied: packaging>=20.0 in /Users/Kenneth/opt/anaconda3/envs/pubMedNLP/lib/python3.11/site-packages (from spacy) (23.2)\n",
      "Requirement already satisfied: langcodes<4.0.0,>=3.2.0 in /Users/Kenneth/opt/anaconda3/envs/pubMedNLP/lib/python3.11/site-packages (from spacy) (3.3.0)\n",
      "Requirement already satisfied: numpy>=1.19.0 in /Users/Kenneth/opt/anaconda3/envs/pubMedNLP/lib/python3.11/site-packages (from spacy) (1.26.1)\n",
      "Requirement already satisfied: typing-extensions>=4.2.0 in /Users/Kenneth/opt/anaconda3/envs/pubMedNLP/lib/python3.11/site-packages (from pydantic!=1.8,!=1.8.1,<3.0.0,>=1.7.4->spacy) (4.8.0)\n",
      "Requirement already satisfied: charset-normalizer<4,>=2 in /Users/Kenneth/opt/anaconda3/envs/pubMedNLP/lib/python3.11/site-packages (from requests<3.0.0,>=2.13.0->spacy) (3.3.1)\n",
      "Requirement already satisfied: idna<4,>=2.5 in /Users/Kenneth/opt/anaconda3/envs/pubMedNLP/lib/python3.11/site-packages (from requests<3.0.0,>=2.13.0->spacy) (3.4)\n",
      "Requirement already satisfied: urllib3<3,>=1.21.1 in /Users/Kenneth/opt/anaconda3/envs/pubMedNLP/lib/python3.11/site-packages (from requests<3.0.0,>=2.13.0->spacy) (2.0.7)\n",
      "Requirement already satisfied: certifi>=2017.4.17 in /Users/Kenneth/opt/anaconda3/envs/pubMedNLP/lib/python3.11/site-packages (from requests<3.0.0,>=2.13.0->spacy) (2023.7.22)\n"
     ]
    },
    {
     "name": "stdout",
     "output_type": "stream",
     "text": [
      "Requirement already satisfied: blis<0.8.0,>=0.7.8 in /Users/Kenneth/opt/anaconda3/envs/pubMedNLP/lib/python3.11/site-packages (from thinc<8.3.0,>=8.1.8->spacy) (0.7.11)\n",
      "Requirement already satisfied: confection<1.0.0,>=0.0.1 in /Users/Kenneth/opt/anaconda3/envs/pubMedNLP/lib/python3.11/site-packages (from thinc<8.3.0,>=8.1.8->spacy) (0.1.4)\n",
      "Requirement already satisfied: click<9.0.0,>=7.1.1 in /Users/Kenneth/opt/anaconda3/envs/pubMedNLP/lib/python3.11/site-packages (from typer<0.10.0,>=0.3.0->spacy) (8.1.7)\n",
      "Requirement already satisfied: cloudpathlib<0.17.0,>=0.7.0 in /Users/Kenneth/opt/anaconda3/envs/pubMedNLP/lib/python3.11/site-packages (from weasel<0.4.0,>=0.1.0->spacy) (0.16.0)\n",
      "Requirement already satisfied: MarkupSafe>=2.0 in /Users/Kenneth/opt/anaconda3/envs/pubMedNLP/lib/python3.11/site-packages (from jinja2->spacy) (2.1.3)\n",
      "Note: you may need to restart the kernel to use updated packages.\n",
      "Requirement already satisfied: matplotlib in /Users/Kenneth/opt/anaconda3/envs/pubMedNLP/lib/python3.11/site-packages (3.8.2)\n",
      "Requirement already satisfied: contourpy>=1.0.1 in /Users/Kenneth/opt/anaconda3/envs/pubMedNLP/lib/python3.11/site-packages (from matplotlib) (1.2.0)\n",
      "Requirement already satisfied: cycler>=0.10 in /Users/Kenneth/opt/anaconda3/envs/pubMedNLP/lib/python3.11/site-packages (from matplotlib) (0.12.1)\n",
      "Requirement already satisfied: fonttools>=4.22.0 in /Users/Kenneth/opt/anaconda3/envs/pubMedNLP/lib/python3.11/site-packages (from matplotlib) (4.46.0)\n",
      "Requirement already satisfied: kiwisolver>=1.3.1 in /Users/Kenneth/opt/anaconda3/envs/pubMedNLP/lib/python3.11/site-packages (from matplotlib) (1.4.5)\n",
      "Requirement already satisfied: numpy<2,>=1.21 in /Users/Kenneth/opt/anaconda3/envs/pubMedNLP/lib/python3.11/site-packages (from matplotlib) (1.26.1)\n",
      "Requirement already satisfied: packaging>=20.0 in /Users/Kenneth/opt/anaconda3/envs/pubMedNLP/lib/python3.11/site-packages (from matplotlib) (23.2)\n",
      "Requirement already satisfied: pillow>=8 in /Users/Kenneth/opt/anaconda3/envs/pubMedNLP/lib/python3.11/site-packages (from matplotlib) (10.1.0)\n",
      "Requirement already satisfied: pyparsing>=2.3.1 in /Users/Kenneth/opt/anaconda3/envs/pubMedNLP/lib/python3.11/site-packages (from matplotlib) (3.1.1)\n",
      "Requirement already satisfied: python-dateutil>=2.7 in /Users/Kenneth/opt/anaconda3/envs/pubMedNLP/lib/python3.11/site-packages (from matplotlib) (2.8.2)\n",
      "Requirement already satisfied: six>=1.5 in /Users/Kenneth/opt/anaconda3/envs/pubMedNLP/lib/python3.11/site-packages (from python-dateutil>=2.7->matplotlib) (1.16.0)\n",
      "Note: you may need to restart the kernel to use updated packages.\n",
      "Requirement already satisfied: seaborn in /Users/Kenneth/opt/anaconda3/envs/pubMedNLP/lib/python3.11/site-packages (0.13.0)\n",
      "Requirement already satisfied: numpy!=1.24.0,>=1.20 in /Users/Kenneth/opt/anaconda3/envs/pubMedNLP/lib/python3.11/site-packages (from seaborn) (1.26.1)\n",
      "Requirement already satisfied: pandas>=1.2 in /Users/Kenneth/opt/anaconda3/envs/pubMedNLP/lib/python3.11/site-packages (from seaborn) (2.1.2)\n",
      "Requirement already satisfied: matplotlib!=3.6.1,>=3.3 in /Users/Kenneth/opt/anaconda3/envs/pubMedNLP/lib/python3.11/site-packages (from seaborn) (3.8.2)\n",
      "Requirement already satisfied: contourpy>=1.0.1 in /Users/Kenneth/opt/anaconda3/envs/pubMedNLP/lib/python3.11/site-packages (from matplotlib!=3.6.1,>=3.3->seaborn) (1.2.0)\n",
      "Requirement already satisfied: cycler>=0.10 in /Users/Kenneth/opt/anaconda3/envs/pubMedNLP/lib/python3.11/site-packages (from matplotlib!=3.6.1,>=3.3->seaborn) (0.12.1)\n",
      "Requirement already satisfied: fonttools>=4.22.0 in /Users/Kenneth/opt/anaconda3/envs/pubMedNLP/lib/python3.11/site-packages (from matplotlib!=3.6.1,>=3.3->seaborn) (4.46.0)\n",
      "Requirement already satisfied: kiwisolver>=1.3.1 in /Users/Kenneth/opt/anaconda3/envs/pubMedNLP/lib/python3.11/site-packages (from matplotlib!=3.6.1,>=3.3->seaborn) (1.4.5)\n",
      "Requirement already satisfied: packaging>=20.0 in /Users/Kenneth/opt/anaconda3/envs/pubMedNLP/lib/python3.11/site-packages (from matplotlib!=3.6.1,>=3.3->seaborn) (23.2)\n",
      "Requirement already satisfied: pillow>=8 in /Users/Kenneth/opt/anaconda3/envs/pubMedNLP/lib/python3.11/site-packages (from matplotlib!=3.6.1,>=3.3->seaborn) (10.1.0)\n",
      "Requirement already satisfied: pyparsing>=2.3.1 in /Users/Kenneth/opt/anaconda3/envs/pubMedNLP/lib/python3.11/site-packages (from matplotlib!=3.6.1,>=3.3->seaborn) (3.1.1)\n",
      "Requirement already satisfied: python-dateutil>=2.7 in /Users/Kenneth/opt/anaconda3/envs/pubMedNLP/lib/python3.11/site-packages (from matplotlib!=3.6.1,>=3.3->seaborn) (2.8.2)\n",
      "Requirement already satisfied: pytz>=2020.1 in /Users/Kenneth/opt/anaconda3/envs/pubMedNLP/lib/python3.11/site-packages (from pandas>=1.2->seaborn) (2023.3.post1)\n",
      "Requirement already satisfied: tzdata>=2022.1 in /Users/Kenneth/opt/anaconda3/envs/pubMedNLP/lib/python3.11/site-packages (from pandas>=1.2->seaborn) (2023.3)\n",
      "Requirement already satisfied: six>=1.5 in /Users/Kenneth/opt/anaconda3/envs/pubMedNLP/lib/python3.11/site-packages (from python-dateutil>=2.7->matplotlib!=3.6.1,>=3.3->seaborn) (1.16.0)\n",
      "Note: you may need to restart the kernel to use updated packages.\n",
      "Requirement already satisfied: matplotlib in /Users/Kenneth/opt/anaconda3/envs/pubMedNLP/lib/python3.11/site-packages (3.8.2)\n",
      "Requirement already satisfied: contourpy>=1.0.1 in /Users/Kenneth/opt/anaconda3/envs/pubMedNLP/lib/python3.11/site-packages (from matplotlib) (1.2.0)\n",
      "Requirement already satisfied: cycler>=0.10 in /Users/Kenneth/opt/anaconda3/envs/pubMedNLP/lib/python3.11/site-packages (from matplotlib) (0.12.1)\n",
      "Requirement already satisfied: fonttools>=4.22.0 in /Users/Kenneth/opt/anaconda3/envs/pubMedNLP/lib/python3.11/site-packages (from matplotlib) (4.46.0)\n",
      "Requirement already satisfied: kiwisolver>=1.3.1 in /Users/Kenneth/opt/anaconda3/envs/pubMedNLP/lib/python3.11/site-packages (from matplotlib) (1.4.5)\n",
      "Requirement already satisfied: numpy<2,>=1.21 in /Users/Kenneth/opt/anaconda3/envs/pubMedNLP/lib/python3.11/site-packages (from matplotlib) (1.26.1)\n",
      "Requirement already satisfied: packaging>=20.0 in /Users/Kenneth/opt/anaconda3/envs/pubMedNLP/lib/python3.11/site-packages (from matplotlib) (23.2)\n",
      "Requirement already satisfied: pillow>=8 in /Users/Kenneth/opt/anaconda3/envs/pubMedNLP/lib/python3.11/site-packages (from matplotlib) (10.1.0)\n",
      "Requirement already satisfied: pyparsing>=2.3.1 in /Users/Kenneth/opt/anaconda3/envs/pubMedNLP/lib/python3.11/site-packages (from matplotlib) (3.1.1)\n",
      "Requirement already satisfied: python-dateutil>=2.7 in /Users/Kenneth/opt/anaconda3/envs/pubMedNLP/lib/python3.11/site-packages (from matplotlib) (2.8.2)\n",
      "Requirement already satisfied: six>=1.5 in /Users/Kenneth/opt/anaconda3/envs/pubMedNLP/lib/python3.11/site-packages (from python-dateutil>=2.7->matplotlib) (1.16.0)\n",
      "Note: you may need to restart the kernel to use updated packages.\n",
      "Requirement already satisfied: scipy in /Users/Kenneth/opt/anaconda3/envs/pubMedNLP/lib/python3.11/site-packages (1.11.4)\n",
      "Requirement already satisfied: numpy<1.28.0,>=1.21.6 in /Users/Kenneth/opt/anaconda3/envs/pubMedNLP/lib/python3.11/site-packages (from scipy) (1.26.1)\n",
      "Note: you may need to restart the kernel to use updated packages.\n",
      "Requirement already satisfied: langchain in /Users/Kenneth/opt/anaconda3/envs/pubMedNLP/lib/python3.11/site-packages (0.0.348)\n",
      "Requirement already satisfied: PyYAML>=5.3 in /Users/Kenneth/opt/anaconda3/envs/pubMedNLP/lib/python3.11/site-packages (from langchain) (6.0.1)\n",
      "Requirement already satisfied: SQLAlchemy<3,>=1.4 in /Users/Kenneth/opt/anaconda3/envs/pubMedNLP/lib/python3.11/site-packages (from langchain) (2.0.22)\n",
      "Requirement already satisfied: aiohttp<4.0.0,>=3.8.3 in /Users/Kenneth/opt/anaconda3/envs/pubMedNLP/lib/python3.11/site-packages (from langchain) (3.8.6)\n",
      "Requirement already satisfied: dataclasses-json<0.7,>=0.5.7 in /Users/Kenneth/opt/anaconda3/envs/pubMedNLP/lib/python3.11/site-packages (from langchain) (0.6.3)\n",
      "Requirement already satisfied: jsonpatch<2.0,>=1.33 in /Users/Kenneth/opt/anaconda3/envs/pubMedNLP/lib/python3.11/site-packages (from langchain) (1.33)\n",
      "Requirement already satisfied: langchain-core<0.1,>=0.0.12 in /Users/Kenneth/opt/anaconda3/envs/pubMedNLP/lib/python3.11/site-packages (from langchain) (0.0.12)\n",
      "Requirement already satisfied: langsmith<0.1.0,>=0.0.63 in /Users/Kenneth/opt/anaconda3/envs/pubMedNLP/lib/python3.11/site-packages (from langchain) (0.0.69)\n"
     ]
    },
    {
     "name": "stdout",
     "output_type": "stream",
     "text": [
      "Requirement already satisfied: numpy<2,>=1 in /Users/Kenneth/opt/anaconda3/envs/pubMedNLP/lib/python3.11/site-packages (from langchain) (1.26.1)\n",
      "Requirement already satisfied: pydantic<3,>=1 in /Users/Kenneth/opt/anaconda3/envs/pubMedNLP/lib/python3.11/site-packages (from langchain) (1.10.13)\n",
      "Requirement already satisfied: requests<3,>=2 in /Users/Kenneth/opt/anaconda3/envs/pubMedNLP/lib/python3.11/site-packages (from langchain) (2.31.0)\n",
      "Requirement already satisfied: tenacity<9.0.0,>=8.1.0 in /Users/Kenneth/opt/anaconda3/envs/pubMedNLP/lib/python3.11/site-packages (from langchain) (8.2.3)\n",
      "Requirement already satisfied: attrs>=17.3.0 in /Users/Kenneth/opt/anaconda3/envs/pubMedNLP/lib/python3.11/site-packages (from aiohttp<4.0.0,>=3.8.3->langchain) (23.1.0)\n",
      "Requirement already satisfied: charset-normalizer<4.0,>=2.0 in /Users/Kenneth/opt/anaconda3/envs/pubMedNLP/lib/python3.11/site-packages (from aiohttp<4.0.0,>=3.8.3->langchain) (3.3.1)\n",
      "Requirement already satisfied: multidict<7.0,>=4.5 in /Users/Kenneth/opt/anaconda3/envs/pubMedNLP/lib/python3.11/site-packages (from aiohttp<4.0.0,>=3.8.3->langchain) (6.0.4)\n",
      "Requirement already satisfied: async-timeout<5.0,>=4.0.0a3 in /Users/Kenneth/opt/anaconda3/envs/pubMedNLP/lib/python3.11/site-packages (from aiohttp<4.0.0,>=3.8.3->langchain) (4.0.3)\n",
      "Requirement already satisfied: yarl<2.0,>=1.0 in /Users/Kenneth/opt/anaconda3/envs/pubMedNLP/lib/python3.11/site-packages (from aiohttp<4.0.0,>=3.8.3->langchain) (1.9.2)\n",
      "Requirement already satisfied: frozenlist>=1.1.1 in /Users/Kenneth/opt/anaconda3/envs/pubMedNLP/lib/python3.11/site-packages (from aiohttp<4.0.0,>=3.8.3->langchain) (1.4.0)\n",
      "Requirement already satisfied: aiosignal>=1.1.2 in /Users/Kenneth/opt/anaconda3/envs/pubMedNLP/lib/python3.11/site-packages (from aiohttp<4.0.0,>=3.8.3->langchain) (1.3.1)\n",
      "Requirement already satisfied: marshmallow<4.0.0,>=3.18.0 in /Users/Kenneth/opt/anaconda3/envs/pubMedNLP/lib/python3.11/site-packages (from dataclasses-json<0.7,>=0.5.7->langchain) (3.20.1)\n",
      "Requirement already satisfied: typing-inspect<1,>=0.4.0 in /Users/Kenneth/opt/anaconda3/envs/pubMedNLP/lib/python3.11/site-packages (from dataclasses-json<0.7,>=0.5.7->langchain) (0.9.0)\n",
      "Requirement already satisfied: jsonpointer>=1.9 in /Users/Kenneth/opt/anaconda3/envs/pubMedNLP/lib/python3.11/site-packages (from jsonpatch<2.0,>=1.33->langchain) (2.4)\n",
      "Requirement already satisfied: anyio<5,>=3 in /Users/Kenneth/opt/anaconda3/envs/pubMedNLP/lib/python3.11/site-packages (from langchain-core<0.1,>=0.0.12->langchain) (3.7.1)\n",
      "Requirement already satisfied: packaging<24.0,>=23.2 in /Users/Kenneth/opt/anaconda3/envs/pubMedNLP/lib/python3.11/site-packages (from langchain-core<0.1,>=0.0.12->langchain) (23.2)\n",
      "Requirement already satisfied: typing-extensions>=4.2.0 in /Users/Kenneth/opt/anaconda3/envs/pubMedNLP/lib/python3.11/site-packages (from pydantic<3,>=1->langchain) (4.8.0)\n",
      "Requirement already satisfied: idna<4,>=2.5 in /Users/Kenneth/opt/anaconda3/envs/pubMedNLP/lib/python3.11/site-packages (from requests<3,>=2->langchain) (3.4)\n",
      "Requirement already satisfied: urllib3<3,>=1.21.1 in /Users/Kenneth/opt/anaconda3/envs/pubMedNLP/lib/python3.11/site-packages (from requests<3,>=2->langchain) (2.0.7)\n",
      "Requirement already satisfied: certifi>=2017.4.17 in /Users/Kenneth/opt/anaconda3/envs/pubMedNLP/lib/python3.11/site-packages (from requests<3,>=2->langchain) (2023.7.22)\n",
      "Requirement already satisfied: greenlet!=0.4.17 in /Users/Kenneth/opt/anaconda3/envs/pubMedNLP/lib/python3.11/site-packages (from SQLAlchemy<3,>=1.4->langchain) (3.0.1)\n",
      "Requirement already satisfied: sniffio>=1.1 in /Users/Kenneth/opt/anaconda3/envs/pubMedNLP/lib/python3.11/site-packages (from anyio<5,>=3->langchain-core<0.1,>=0.0.12->langchain) (1.3.0)\n",
      "Requirement already satisfied: mypy-extensions>=0.3.0 in /Users/Kenneth/opt/anaconda3/envs/pubMedNLP/lib/python3.11/site-packages (from typing-inspect<1,>=0.4.0->dataclasses-json<0.7,>=0.5.7->langchain) (1.0.0)\n",
      "Note: you may need to restart the kernel to use updated packages.\n",
      "Collecting en-core-web-sm==3.7.1\n",
      "  Downloading https://github.com/explosion/spacy-models/releases/download/en_core_web_sm-3.7.1/en_core_web_sm-3.7.1-py3-none-any.whl (12.8 MB)\n",
      "\u001b[2K     \u001b[90m━━━━━━━━━━━━━━━━━━━━━━━━━━━━━━━━━━━━━━━━\u001b[0m \u001b[32m12.8/12.8 MB\u001b[0m \u001b[31m3.9 MB/s\u001b[0m eta \u001b[36m0:00:00\u001b[0m00:01\u001b[0m00:01\u001b[0m\n",
      "\u001b[?25hRequirement already satisfied: spacy<3.8.0,>=3.7.2 in /Users/Kenneth/opt/anaconda3/envs/pubMedNLP/lib/python3.11/site-packages (from en-core-web-sm==3.7.1) (3.7.2)\n",
      "Requirement already satisfied: spacy-legacy<3.1.0,>=3.0.11 in /Users/Kenneth/opt/anaconda3/envs/pubMedNLP/lib/python3.11/site-packages (from spacy<3.8.0,>=3.7.2->en-core-web-sm==3.7.1) (3.0.12)\n",
      "Requirement already satisfied: spacy-loggers<2.0.0,>=1.0.0 in /Users/Kenneth/opt/anaconda3/envs/pubMedNLP/lib/python3.11/site-packages (from spacy<3.8.0,>=3.7.2->en-core-web-sm==3.7.1) (1.0.5)\n",
      "Requirement already satisfied: murmurhash<1.1.0,>=0.28.0 in /Users/Kenneth/opt/anaconda3/envs/pubMedNLP/lib/python3.11/site-packages (from spacy<3.8.0,>=3.7.2->en-core-web-sm==3.7.1) (1.0.10)\n",
      "Requirement already satisfied: cymem<2.1.0,>=2.0.2 in /Users/Kenneth/opt/anaconda3/envs/pubMedNLP/lib/python3.11/site-packages (from spacy<3.8.0,>=3.7.2->en-core-web-sm==3.7.1) (2.0.8)\n",
      "Requirement already satisfied: preshed<3.1.0,>=3.0.2 in /Users/Kenneth/opt/anaconda3/envs/pubMedNLP/lib/python3.11/site-packages (from spacy<3.8.0,>=3.7.2->en-core-web-sm==3.7.1) (3.0.9)\n",
      "Requirement already satisfied: thinc<8.3.0,>=8.1.8 in /Users/Kenneth/opt/anaconda3/envs/pubMedNLP/lib/python3.11/site-packages (from spacy<3.8.0,>=3.7.2->en-core-web-sm==3.7.1) (8.2.1)\n",
      "Requirement already satisfied: wasabi<1.2.0,>=0.9.1 in /Users/Kenneth/opt/anaconda3/envs/pubMedNLP/lib/python3.11/site-packages (from spacy<3.8.0,>=3.7.2->en-core-web-sm==3.7.1) (1.1.2)\n",
      "Requirement already satisfied: srsly<3.0.0,>=2.4.3 in /Users/Kenneth/opt/anaconda3/envs/pubMedNLP/lib/python3.11/site-packages (from spacy<3.8.0,>=3.7.2->en-core-web-sm==3.7.1) (2.4.8)\n",
      "Requirement already satisfied: catalogue<2.1.0,>=2.0.6 in /Users/Kenneth/opt/anaconda3/envs/pubMedNLP/lib/python3.11/site-packages (from spacy<3.8.0,>=3.7.2->en-core-web-sm==3.7.1) (2.0.10)\n",
      "Requirement already satisfied: weasel<0.4.0,>=0.1.0 in /Users/Kenneth/opt/anaconda3/envs/pubMedNLP/lib/python3.11/site-packages (from spacy<3.8.0,>=3.7.2->en-core-web-sm==3.7.1) (0.3.4)\n",
      "Requirement already satisfied: typer<0.10.0,>=0.3.0 in /Users/Kenneth/opt/anaconda3/envs/pubMedNLP/lib/python3.11/site-packages (from spacy<3.8.0,>=3.7.2->en-core-web-sm==3.7.1) (0.9.0)\n",
      "Requirement already satisfied: smart-open<7.0.0,>=5.2.1 in /Users/Kenneth/opt/anaconda3/envs/pubMedNLP/lib/python3.11/site-packages (from spacy<3.8.0,>=3.7.2->en-core-web-sm==3.7.1) (6.4.0)\n",
      "Requirement already satisfied: tqdm<5.0.0,>=4.38.0 in /Users/Kenneth/opt/anaconda3/envs/pubMedNLP/lib/python3.11/site-packages (from spacy<3.8.0,>=3.7.2->en-core-web-sm==3.7.1) (4.66.1)\n",
      "Requirement already satisfied: requests<3.0.0,>=2.13.0 in /Users/Kenneth/opt/anaconda3/envs/pubMedNLP/lib/python3.11/site-packages (from spacy<3.8.0,>=3.7.2->en-core-web-sm==3.7.1) (2.31.0)\n",
      "Requirement already satisfied: pydantic!=1.8,!=1.8.1,<3.0.0,>=1.7.4 in /Users/Kenneth/opt/anaconda3/envs/pubMedNLP/lib/python3.11/site-packages (from spacy<3.8.0,>=3.7.2->en-core-web-sm==3.7.1) (1.10.13)\n",
      "Requirement already satisfied: jinja2 in /Users/Kenneth/opt/anaconda3/envs/pubMedNLP/lib/python3.11/site-packages (from spacy<3.8.0,>=3.7.2->en-core-web-sm==3.7.1) (3.1.2)\n",
      "Requirement already satisfied: setuptools in /Users/Kenneth/opt/anaconda3/envs/pubMedNLP/lib/python3.11/site-packages (from spacy<3.8.0,>=3.7.2->en-core-web-sm==3.7.1) (68.2.2)\n",
      "Requirement already satisfied: packaging>=20.0 in /Users/Kenneth/opt/anaconda3/envs/pubMedNLP/lib/python3.11/site-packages (from spacy<3.8.0,>=3.7.2->en-core-web-sm==3.7.1) (23.2)\n",
      "Requirement already satisfied: langcodes<4.0.0,>=3.2.0 in /Users/Kenneth/opt/anaconda3/envs/pubMedNLP/lib/python3.11/site-packages (from spacy<3.8.0,>=3.7.2->en-core-web-sm==3.7.1) (3.3.0)\n",
      "Requirement already satisfied: numpy>=1.19.0 in /Users/Kenneth/opt/anaconda3/envs/pubMedNLP/lib/python3.11/site-packages (from spacy<3.8.0,>=3.7.2->en-core-web-sm==3.7.1) (1.26.1)\n"
     ]
    },
    {
     "name": "stdout",
     "output_type": "stream",
     "text": [
      "Requirement already satisfied: typing-extensions>=4.2.0 in /Users/Kenneth/opt/anaconda3/envs/pubMedNLP/lib/python3.11/site-packages (from pydantic!=1.8,!=1.8.1,<3.0.0,>=1.7.4->spacy<3.8.0,>=3.7.2->en-core-web-sm==3.7.1) (4.8.0)\n",
      "Requirement already satisfied: charset-normalizer<4,>=2 in /Users/Kenneth/opt/anaconda3/envs/pubMedNLP/lib/python3.11/site-packages (from requests<3.0.0,>=2.13.0->spacy<3.8.0,>=3.7.2->en-core-web-sm==3.7.1) (3.3.1)\n",
      "Requirement already satisfied: idna<4,>=2.5 in /Users/Kenneth/opt/anaconda3/envs/pubMedNLP/lib/python3.11/site-packages (from requests<3.0.0,>=2.13.0->spacy<3.8.0,>=3.7.2->en-core-web-sm==3.7.1) (3.4)\n",
      "Requirement already satisfied: urllib3<3,>=1.21.1 in /Users/Kenneth/opt/anaconda3/envs/pubMedNLP/lib/python3.11/site-packages (from requests<3.0.0,>=2.13.0->spacy<3.8.0,>=3.7.2->en-core-web-sm==3.7.1) (2.0.7)\n",
      "Requirement already satisfied: certifi>=2017.4.17 in /Users/Kenneth/opt/anaconda3/envs/pubMedNLP/lib/python3.11/site-packages (from requests<3.0.0,>=2.13.0->spacy<3.8.0,>=3.7.2->en-core-web-sm==3.7.1) (2023.7.22)\n",
      "Requirement already satisfied: blis<0.8.0,>=0.7.8 in /Users/Kenneth/opt/anaconda3/envs/pubMedNLP/lib/python3.11/site-packages (from thinc<8.3.0,>=8.1.8->spacy<3.8.0,>=3.7.2->en-core-web-sm==3.7.1) (0.7.11)\n",
      "Requirement already satisfied: confection<1.0.0,>=0.0.1 in /Users/Kenneth/opt/anaconda3/envs/pubMedNLP/lib/python3.11/site-packages (from thinc<8.3.0,>=8.1.8->spacy<3.8.0,>=3.7.2->en-core-web-sm==3.7.1) (0.1.4)\n",
      "Requirement already satisfied: click<9.0.0,>=7.1.1 in /Users/Kenneth/opt/anaconda3/envs/pubMedNLP/lib/python3.11/site-packages (from typer<0.10.0,>=0.3.0->spacy<3.8.0,>=3.7.2->en-core-web-sm==3.7.1) (8.1.7)\n",
      "Requirement already satisfied: cloudpathlib<0.17.0,>=0.7.0 in /Users/Kenneth/opt/anaconda3/envs/pubMedNLP/lib/python3.11/site-packages (from weasel<0.4.0,>=0.1.0->spacy<3.8.0,>=3.7.2->en-core-web-sm==3.7.1) (0.16.0)\n",
      "Requirement already satisfied: MarkupSafe>=2.0 in /Users/Kenneth/opt/anaconda3/envs/pubMedNLP/lib/python3.11/site-packages (from jinja2->spacy<3.8.0,>=3.7.2->en-core-web-sm==3.7.1) (2.1.3)\n",
      "\u001b[38;5;2m✔ Download and installation successful\u001b[0m\n",
      "You can now load the package via spacy.load('en_core_web_sm')\n"
     ]
    }
   ],
   "source": [
    "%pip install sentence_transformers\n",
    "%pip install spacy\n",
    "%pip install matplotlib\n",
    "%pip install seaborn \n",
    "%pip install matplotlib\n",
    "%pip install scipy\n",
    "%pip install langchain\n",
    "import spacy\n",
    "import numpy as np\n",
    "import pandas as pd\n",
    "from sentence_transformers import SentenceTransformer\n",
    "import pandas as pd\n",
    "import numpy as np\n",
    "# Library to import pre-trained model for sentence embeddings\n",
    "from sentence_transformers import SentenceTransformer\n",
    "# Calculate similarities between sentences\n",
    "from sklearn.metrics.pairwise import cosine_similarity\n",
    "# Visualization library\n",
    "import seaborn as sns\n",
    "import matplotlib.pyplot as plt\n",
    "# package for finding local minimas\n",
    "from scipy.signal import argrelextrema\n",
    "import math\n",
    "\n",
    "# Download the English language model 'en_core_web_sm'\n",
    "spacy.cli.download(\"en_core_web_sm\")\n",
    "\n",
    "# Load the downloaded model\n",
    "nlp = spacy.load(\"en_core_web_sm\")\n"
   ]
  },
  {
   "cell_type": "code",
   "execution_count": 2,
   "id": "38df972f",
   "metadata": {},
   "outputs": [
    {
     "data": {
      "text/html": [
       "<pre style=\"white-space:pre;overflow-x:auto;line-height:normal;font-family:Menlo,'DejaVu Sans Mono',consolas,'Courier New',monospace\"><span style=\"color: #7fbfbf; text-decoration-color: #7fbfbf\">[12/12/23 15:30:11] </span><span style=\"color: #000080; text-decoration-color: #000080\">INFO    </span> Loading data from <span style=\"color: #008000; text-decoration-color: #008000\">'doc_embeddings'</span> <span style=\"font-weight: bold\">(</span>CSVDataset<span style=\"font-weight: bold\">)</span><span style=\"color: #808000; text-decoration-color: #808000\">...</span>                 <a href=\"file:///Users/Kenneth/opt/anaconda3/envs/pubMedNLP/lib/python3.11/site-packages/kedro/io/data_catalog.py\" target=\"_blank\"><span style=\"color: #7f7f7f; text-decoration-color: #7f7f7f\">data_catalog.py</span></a><span style=\"color: #7f7f7f; text-decoration-color: #7f7f7f\">:</span><a href=\"file:///Users/Kenneth/opt/anaconda3/envs/pubMedNLP/lib/python3.11/site-packages/kedro/io/data_catalog.py#502\" target=\"_blank\"><span style=\"color: #7f7f7f; text-decoration-color: #7f7f7f\">502</span></a>\n",
       "</pre>\n"
      ],
      "text/plain": [
       "\u001b[2;36m[12/12/23 15:30:11]\u001b[0m\u001b[2;36m \u001b[0m\u001b[34mINFO    \u001b[0m Loading data from \u001b[32m'doc_embeddings'\u001b[0m \u001b[1m(\u001b[0mCSVDataset\u001b[1m)\u001b[0m\u001b[33m...\u001b[0m                 \u001b]8;id=999873;file:///Users/Kenneth/opt/anaconda3/envs/pubMedNLP/lib/python3.11/site-packages/kedro/io/data_catalog.py\u001b\\\u001b[2mdata_catalog.py\u001b[0m\u001b]8;;\u001b\\\u001b[2m:\u001b[0m\u001b]8;id=893096;file:///Users/Kenneth/opt/anaconda3/envs/pubMedNLP/lib/python3.11/site-packages/kedro/io/data_catalog.py#502\u001b\\\u001b[2m502\u001b[0m\u001b]8;;\u001b\\\n"
      ]
     },
     "metadata": {},
     "output_type": "display_data"
    },
    {
     "data": {
      "text/html": [
       "<pre style=\"white-space:pre;overflow-x:auto;line-height:normal;font-family:Menlo,'DejaVu Sans Mono',consolas,'Courier New',monospace\"><span style=\"color: #7fbfbf; text-decoration-color: #7fbfbf\">[12/12/23 15:30:53] </span><span style=\"color: #000080; text-decoration-color: #000080\">INFO    </span> Loading data from <span style=\"color: #008000; text-decoration-color: #008000\">'extract_data'</span> <span style=\"font-weight: bold\">(</span>CSVDataset<span style=\"font-weight: bold\">)</span><span style=\"color: #808000; text-decoration-color: #808000\">...</span>                   <a href=\"file:///Users/Kenneth/opt/anaconda3/envs/pubMedNLP/lib/python3.11/site-packages/kedro/io/data_catalog.py\" target=\"_blank\"><span style=\"color: #7f7f7f; text-decoration-color: #7f7f7f\">data_catalog.py</span></a><span style=\"color: #7f7f7f; text-decoration-color: #7f7f7f\">:</span><a href=\"file:///Users/Kenneth/opt/anaconda3/envs/pubMedNLP/lib/python3.11/site-packages/kedro/io/data_catalog.py#502\" target=\"_blank\"><span style=\"color: #7f7f7f; text-decoration-color: #7f7f7f\">502</span></a>\n",
       "</pre>\n"
      ],
      "text/plain": [
       "\u001b[2;36m[12/12/23 15:30:53]\u001b[0m\u001b[2;36m \u001b[0m\u001b[34mINFO    \u001b[0m Loading data from \u001b[32m'extract_data'\u001b[0m \u001b[1m(\u001b[0mCSVDataset\u001b[1m)\u001b[0m\u001b[33m...\u001b[0m                   \u001b]8;id=727399;file:///Users/Kenneth/opt/anaconda3/envs/pubMedNLP/lib/python3.11/site-packages/kedro/io/data_catalog.py\u001b\\\u001b[2mdata_catalog.py\u001b[0m\u001b]8;;\u001b\\\u001b[2m:\u001b[0m\u001b]8;id=773788;file:///Users/Kenneth/opt/anaconda3/envs/pubMedNLP/lib/python3.11/site-packages/kedro/io/data_catalog.py#502\u001b\\\u001b[2m502\u001b[0m\u001b]8;;\u001b\\\n"
      ]
     },
     "metadata": {},
     "output_type": "display_data"
    }
   ],
   "source": [
    "#load data\n",
    "doc_embeddings = catalog.load(\"doc_embeddings\")\n",
    "extract_data = catalog.load(\"extract_data\")"
   ]
  },
  {
   "cell_type": "code",
   "execution_count": 12,
   "id": "cae825f7",
   "metadata": {},
   "outputs": [
    {
     "name": "stdout",
     "output_type": "stream",
     "text": [
      "percentage of missing abstracts: 6.360803252636575%\n"
     ]
    }
   ],
   "source": [
    "# Count NAs in the 'Abstract' column\n",
    "count_na = extract_data['Abstract'].isna().sum()\n",
    "print(f\"percentage of missing abstracts: {100*(count_na/len(extract_data['Abstract']))}%\")"
   ]
  },
  {
   "cell_type": "code",
   "execution_count": 19,
   "id": "cc1604e9",
   "metadata": {},
   "outputs": [
    {
     "name": "stdout",
     "output_type": "stream",
     "text": [
      "percentage of incomplete abstracts: 0.10524343743801105%\n"
     ]
    }
   ],
   "source": [
    "# Count incomplete Abstracts \n",
    "count_dots = extract_data['Abstract'].dropna().str.contains('\\.\\.\\.').sum()\n",
    "print(f\"percentage of incomplete abstracts: {100*(count_dots.sum()/len(extract_data['Abstract'].dropna()))}%\")"
   ]
  },
  {
   "cell_type": "markdown",
   "id": "41a7f615",
   "metadata": {},
   "source": [
    "## Obtain paragraphs of raw abstracts"
   ]
  },
  {
   "cell_type": "code",
   "execution_count": 20,
   "id": "90eff8d2",
   "metadata": {},
   "outputs": [],
   "source": [
    "model = SentenceTransformer(\"pritamdeka/S-PubMedBert-MS-MARCO\")"
   ]
  },
  {
   "cell_type": "code",
   "execution_count": 21,
   "id": "6e3e87fe",
   "metadata": {},
   "outputs": [],
   "source": [
    "def process(text: str):\n",
    "    nlp = spacy.load(\"en_core_web_sm\")\n",
    "    doc = nlp(str(text))\n",
    "    sents = [str(sent) for sent in doc.sents]\n",
    "    embeddings = model.encode(sents)\n",
    "    return list(doc.sents), embeddings"
   ]
  },
  {
   "cell_type": "code",
   "execution_count": 33,
   "id": "4c14dbd1",
   "metadata": {},
   "outputs": [],
   "source": [
    "def cluster_text(sents, vecs, threshold):\n",
    "    clusters = [[0]]\n",
    "    for i in range(1, len(sents)):\n",
    "        if cosine_similarity(vecs[i].reshape(1, -1), vecs[i-1].reshape(1, -1)) < threshold:\n",
    "            clusters.append([])\n",
    "        clusters[-1].append(i)\n",
    "    return clusters"
   ]
  },
  {
   "cell_type": "code",
   "execution_count": 34,
   "id": "19d635dc",
   "metadata": {},
   "outputs": [],
   "source": [
    "\n",
    "def get_paragraphs(abstract_text):\n",
    "\n",
    "    # Initialize the clusters lengths list and final texts list\n",
    "    clusters_lens = []\n",
    "    final_texts = []\n",
    "\n",
    "    # Process the chunk\n",
    "    initial_threshold = 0.8\n",
    "    max_iteration = 5\n",
    "    sents, vecs = process(abstract_text)\n",
    "\n",
    "    # Cluster the sentences\n",
    "    clusters = cluster_text(sents, vecs, initial_threshold)\n",
    "\n",
    "    for cluster in clusters:\n",
    "        cluster_txt = ' '.join([sents[i].text for i in cluster])\n",
    "        cluster_len = len(cluster_txt)\n",
    "        print(f\"cluster_txt: {cluster_txt}\")\n",
    "\n",
    "\n",
    "        # Check if the cluster is too long\n",
    "        if cluster_len > 700:\n",
    "            iterator = 1\n",
    "            # Track the best subcluster lengths\n",
    "            best_num_paragraphs = 500 #initialize with a large value\n",
    "            best_div_texts = [] \n",
    "            while cluster_len > 700:\n",
    "                div_lens = []\n",
    "                div_texts = []\n",
    "                len_collector = []\n",
    "                threshold = min(initial_threshold+(0.02*iterator), 0.95)\n",
    "                sents_div, vecs_div = process(cluster_txt)\n",
    "                reclusters = cluster_text(sents_div, vecs_div, threshold)\n",
    "\n",
    "                for subcluster in reclusters:\n",
    "                    div_txt = ' '.join([sents_div[i].text for i in subcluster])\n",
    "                    div_len = len(div_txt)\n",
    "                    len_collector.append(div_len)\n",
    "                    print(f\"div_len: {div_len}\") #for debugging\n",
    "\n",
    "                    if div_len > 60 and div_len < 800:\n",
    "                        div_lens.append(div_len)\n",
    "                        div_texts.append(div_txt)\n",
    "\n",
    "                    cluster_len = max(len_collector)\n",
    "\n",
    "                iterator+=1 #for debugging\n",
    "                print(f\"subclusters {iterator}: {div_lens}\")\n",
    "            \n",
    "            clusters_lens.extend(div_lens) \n",
    "            final_texts.extend(div_texts)  \n",
    "        else:\n",
    "            clusters_lens.append(cluster_len)\n",
    "            final_texts.append(cluster_txt)   \n",
    "    return final_texts"
   ]
  },
  {
   "cell_type": "code",
   "execution_count": 37,
   "id": "a2e887f5",
   "metadata": {},
   "outputs": [],
   "source": [
    "test_df = extract_data.dropna().head(3)"
   ]
  },
  {
   "cell_type": "code",
   "execution_count": 40,
   "id": "dad8bf61",
   "metadata": {},
   "outputs": [
    {
     "name": "stdout",
     "output_type": "stream",
     "text": [
      "cluster_txt: Most empirical work in human categorization has studied learning in either fully supervised or fully unsupervised scenarios. Most real-world learning scenarios, however, are semi-supervised: Learners receive a great deal of unlabeled information from the world, coupled with occasional experiences in which items are directly labeled by a knowledgeable source. A large body of work in machine learning has investigated how learning can exploit both labeled and unlabeled data provided to a learner. Using equivalences between models found in human categorization and machine learning research, we explain how these semi-supervised techniques can be applied to human learning. A series of experiments are described which show that semi-supervised learning models prove useful for explaining human behavior when exposed to both labeled and unlabeled data. We then discuss some machine learning models that do not have familiar human categorization counterparts. Finally, we discuss some challenges yet to be addressed in the use of semi-supervised models for modeling human categorization.\n",
      "div_len: 1087\n",
      "subclusters 2: []\n",
      "div_len: 1087\n",
      "subclusters 3: []\n",
      "div_len: 1087\n",
      "subclusters 4: []\n",
      "div_len: 1087\n",
      "subclusters 5: []\n",
      "div_len: 1087\n",
      "subclusters 6: []\n",
      "div_len: 853\n",
      "div_len: 233\n",
      "subclusters 7: [233]\n",
      "div_len: 124\n",
      "div_len: 235\n",
      "div_len: 137\n",
      "div_len: 354\n",
      "div_len: 105\n",
      "div_len: 127\n",
      "subclusters 8: [124, 235, 137, 354, 105, 127]\n",
      "cluster_txt: Online gossip has been recognized as small talk on social networking sites (SNSs) that influences consumer behavior, but little attention has been paid to its role. This study makes three theoretical predictions: (a) propensity to gossip online leads to greater information value, entertainment value, and friendship value; (b) upon exposure to a high-involvement product, online gossipers are more willing to spread such information through electronic word-of-mouth (eWOM) in search of prestige or fame as a knowledge expert; and (c) this tendency will be more pronounced when they are connected with strong ties (rather than weak ties) and belong to a large network (rather than a small network). An experimental survey was conducted with a scenario method. In total, 818 general consumers participated in the survey. A multivariate analysis of variance (ANOVA) provides empirical support for prediction (1). With regard to predictions (2) and (3), a series of three-way and two-way between-subjective ANOVAs were performed. When a high-involvement product is promoted, gossipers, rather than nongossipers, are more willing to participate in eWOM on an SNS. Furthermore, a significant interaction effect indicates that online gossipers' willingness to particiapte in eWOM would be more pronounced if they belonged to a large network rather than a small network. However, when a low-involvement product is promoted, no interaction effect is found between online gossip and network size. In closing, theoretical and managerial implications are discussed, while important limitations are recognized.\n",
      "div_len: 1598\n",
      "subclusters 2: []\n",
      "div_len: 1598\n",
      "subclusters 3: []\n",
      "div_len: 698\n",
      "div_len: 120\n",
      "div_len: 206\n",
      "div_len: 571\n",
      "subclusters 4: [698, 120, 206, 571]\n",
      "cluster_txt: We investigated the animal and human baby schema effect (BSE) in relation to gender, parental status, and individual features. In three, independent online surveys, conducted during three consecutive years, (Ntotal=1389), ratings of photographs of human and animal infants as well as of adults, sociodemographic variables (age, gender, parental status) and personality attributes (empathy, attachment, interpersonal closeness, narcissism, and need to belong) were assessed. We demonstrated that humans are sensitive to the baby schemata of both humans and animals and that both are weakly positively correlated. BSE is positively associated with female gender and (affective) empathy. Higher interpersonal closeness and need to belong were additionally connected specifically to the human BSE. In contrast, narcissism and insecure attachment were not related to the BSE, suggesting a robustness of this phenomenon to possible negative influences of these two personality attributes.\n",
      "div_len: 982\n",
      "subclusters 2: []\n",
      "div_len: 982\n",
      "subclusters 3: []\n",
      "div_len: 982\n",
      "subclusters 4: []\n",
      "div_len: 611\n",
      "div_len: 370\n",
      "subclusters 5: [611, 370]\n"
     ]
    }
   ],
   "source": [
    "test_df['paragraphs'] = test_df['Abstract'].apply(get_paragraphs)"
   ]
  },
  {
   "cell_type": "code",
   "execution_count": 45,
   "id": "4483232f",
   "metadata": {},
   "outputs": [
    {
     "data": {
      "text/html": [
       "<pre style=\"white-space:pre;overflow-x:auto;line-height:normal;font-family:Menlo,'DejaVu Sans Mono',consolas,'Courier New',monospace\"></pre>\n"
      ],
      "text/plain": []
     },
     "metadata": {},
     "output_type": "display_data"
    },
    {
     "data": {
      "text/plain": [
       "\n",
       "\u001b[1m[\u001b[0m\n",
       "    \u001b[32m'Online gossip has been recognized as small talk on social networking sites \u001b[0m\u001b[32m(\u001b[0m\u001b[32mSNSs\u001b[0m\u001b[32m)\u001b[0m\u001b[32m that influences consumer behavior, but little attention has been paid to its role. This study makes three theoretical predictions: \u001b[0m\u001b[32m(\u001b[0m\u001b[32ma\u001b[0m\u001b[32m)\u001b[0m\u001b[32m propensity to gossip online leads to greater information value, entertainment value, and friendship value; \u001b[0m\u001b[32m(\u001b[0m\u001b[32mb\u001b[0m\u001b[32m)\u001b[0m\u001b[32m upon exposure to a high-involvement product, online gossipers are more willing to spread such information through electronic word-of-mouth \u001b[0m\u001b[32m(\u001b[0m\u001b[32meWOM\u001b[0m\u001b[32m)\u001b[0m\u001b[32m in search of prestige or fame as a knowledge expert; and \u001b[0m\u001b[32m(\u001b[0m\u001b[32mc\u001b[0m\u001b[32m)\u001b[0m\u001b[32m this tendency will be more pronounced when they are connected with strong ties \u001b[0m\u001b[32m(\u001b[0m\u001b[32mrather than weak ties\u001b[0m\u001b[32m)\u001b[0m\u001b[32m and belong to a large network \u001b[0m\u001b[32m(\u001b[0m\u001b[32mrather than a small network\u001b[0m\u001b[32m)\u001b[0m\u001b[32m.'\u001b[0m,\n",
       "    \u001b[32m'An experimental survey was conducted with a scenario method. In total, 818 general consumers participated in the survey.'\u001b[0m,\n",
       "    \u001b[32m'A multivariate analysis of variance \u001b[0m\u001b[32m(\u001b[0m\u001b[32mANOVA\u001b[0m\u001b[32m)\u001b[0m\u001b[32m provides empirical support for prediction \u001b[0m\u001b[32m(\u001b[0m\u001b[32m1\u001b[0m\u001b[32m)\u001b[0m\u001b[32m. With regard to predictions \u001b[0m\u001b[32m(\u001b[0m\u001b[32m2\u001b[0m\u001b[32m)\u001b[0m\u001b[32m and \u001b[0m\u001b[32m(\u001b[0m\u001b[32m3\u001b[0m\u001b[32m)\u001b[0m\u001b[32m, a series of three-way and two-way between-subjective ANOVAs were performed.'\u001b[0m,\n",
       "    \u001b[32m\"When a high-involvement product is promoted, gossipers, rather than nongossipers, are more willing to participate in eWOM on an SNS. Furthermore, a significant interaction effect indicates that online gossipers' willingness to particiapte in eWOM would be more pronounced if they belonged to a large network rather than a small network. However, when a low-involvement product is promoted, no interaction effect is found between online gossip and network size. In closing, theoretical and managerial implications are discussed, while important limitations are recognized.\"\u001b[0m\n",
       "\u001b[1m]\u001b[0m"
      ]
     },
     "execution_count": 45,
     "metadata": {},
     "output_type": "execute_result"
    }
   ],
   "source": [
    "test_df['paragraphs'][98]"
   ]
  },
  {
   "cell_type": "code",
   "execution_count": null,
   "id": "0afd0188",
   "metadata": {},
   "outputs": [],
   "source": []
  }
 ],
 "metadata": {
  "kernelspec": {
   "display_name": "Kedro (kedronlp)",
   "language": "python",
   "name": "kedro_kedronlp"
  },
  "language_info": {
   "codemirror_mode": {
    "name": "ipython",
    "version": 3
   },
   "file_extension": ".py",
   "mimetype": "text/x-python",
   "name": "python",
   "nbconvert_exporter": "python",
   "pygments_lexer": "ipython3",
   "version": "3.11.6"
  }
 },
 "nbformat": 4,
 "nbformat_minor": 5
}
