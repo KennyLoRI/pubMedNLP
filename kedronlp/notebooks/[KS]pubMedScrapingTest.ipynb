{
 "cells": [
  {
   "cell_type": "code",
   "execution_count": 172,
   "id": "c32ffd10",
   "metadata": {},
   "outputs": [],
   "source": [
    "from Bio import Entrez"
   ]
  },
  {
   "cell_type": "code",
   "execution_count": 173,
   "id": "412a9d61",
   "metadata": {},
   "outputs": [],
   "source": [
    "import pandas as pd\n",
    "import numpy as np\n"
   ]
  },
  {
   "cell_type": "code",
   "execution_count": 174,
   "id": "2ac05ffc",
   "metadata": {},
   "outputs": [],
   "source": [
    "def search(query):\n",
    "    #docs: https://www.ncbi.nlm.nih.gov/books/NBK25499/#chapter4.ESearch\n",
    "    Entrez.email = 'email@example.com'\n",
    "    handle = Entrez.esearch(db='pubmed',\n",
    "                            sort='relevance',\n",
    "                            retmax='1',\n",
    "                            retmode='xml',\n",
    "                            term=query, \n",
    "                            mindate=2013, \n",
    "                            maxdate=2023)\n",
    "    results = Entrez.read(handle)\n",
    "    return results"
   ]
  },
  {
   "cell_type": "code",
   "execution_count": 175,
   "id": "2bc9bc34",
   "metadata": {},
   "outputs": [],
   "source": [
    "studies = search('Intelligence')"
   ]
  },
  {
   "cell_type": "code",
   "execution_count": 176,
   "id": "7db50291",
   "metadata": {},
   "outputs": [],
   "source": [
    "studiesIdList = studies['IdList']"
   ]
  },
  {
   "cell_type": "code",
   "execution_count": 177,
   "id": "fa83481a",
   "metadata": {},
   "outputs": [
    {
     "data": {
      "text/html": [
       "<pre style=\"white-space:pre;overflow-x:auto;line-height:normal;font-family:Menlo,'DejaVu Sans Mono',consolas,'Courier New',monospace\"></pre>\n"
      ],
      "text/plain": []
     },
     "metadata": {},
     "output_type": "display_data"
    },
    {
     "data": {
      "text/plain": [
       "\u001b[1m[\u001b[0m\u001b[32m'28728020'\u001b[0m\u001b[1m]\u001b[0m"
      ]
     },
     "execution_count": 177,
     "metadata": {},
     "output_type": "execute_result"
    }
   ],
   "source": [
    "studiesIdList"
   ]
  },
  {
   "cell_type": "code",
   "execution_count": 178,
   "id": "c0baf27e",
   "metadata": {},
   "outputs": [],
   "source": [
    "def fetch_details(id_list):\n",
    "    ids = ','.join(id_list)\n",
    "    Entrez.email = 'email@example.com'\n",
    "    handle = Entrez.efetch(db='pubmed',\n",
    "    retmode='xml',\n",
    "    id=ids)\n",
    "    results = Entrez.read(handle) #dictionary \n",
    "    return results"
   ]
  },
  {
   "cell_type": "code",
   "execution_count": 179,
   "id": "49f06083",
   "metadata": {},
   "outputs": [],
   "source": [
    "title_list = []\n",
    "authors_list = []\n",
    "affiliation_list = []\n",
    "abstract_list = []\n",
    "journal_list = []\n",
    "language_list = []\n",
    "pubdate_year_list = []\n",
    "pubdate_month_list = []\n",
    "major_descriptor_list = []\n",
    "descriptor_list = []\n",
    "major_qualifier_list = []\n",
    "qualifier_list = []\n",
    "\n",
    "studies = fetch_details(studiesIdList)\n",
    "chunk_size = 500 #reduce chunksize to not exceed request limits\n",
    "for chunk_i in range(0, len(studiesIdList), chunk_size):\n",
    "    chunk = studiesIdList[chunk_i:chunk_i + chunk_size]\n",
    "    papers = fetch_details(chunk)\n",
    "    for i, paper in enumerate (papers['PubmedArticle']):\n",
    "        title_list.append(paper['MedlineCitation']['Article']['ArticleTitle'])\n",
    "        try:\n",
    "            abstract_list.append(paper['MedlineCitation']['Article']['Abstract']['AbstractText'][0])\n",
    "        except:\n",
    "            abstract_list.append('NA')\n",
    "        try: \n",
    "            journal_list.append(paper['MedlineCitation']['Article']['Journal']['Title'])\n",
    "        except: \n",
    "            journal_list.append('NA')\n",
    "        try:\n",
    "            language_list.append(paper['MedlineCitation']['Article']['Language'][0])\n",
    "        except: \n",
    "            language_list.append('NA')\n",
    "        try: \n",
    "            descr = [descriptor['DescriptorName'] for descriptor in paper['MedlineCitation']['MeshHeadingList']] \n",
    "            descriptor_list.append(descr)\n",
    "        except: \n",
    "            descriptor_list.append(\"No Data\")\n",
    "        try:\n",
    "            mdescr = [descriptor['DescriptorName'] for descriptor in paper['MedlineCitation']['MeshHeadingList'] if descriptor['DescriptorName'].attributes.get('MajorTopicYN') == 'Y']\n",
    "            major_descriptor_list.append(mdescr)\n",
    "        except: \n",
    "            major_descriptor_list.append('NA')\n",
    "        try: \n",
    "            qualif = [str(descriptor['QualifierName'][0]) for descriptor in paper['MedlineCitation']['MeshHeadingList'] if descriptor['QualifierName']]\n",
    "            qualifier_list.append(list(set(qualif))) #append only unique qualifiers\n",
    "        except: \n",
    "            qualifier_list.append('NA')\n",
    "        try: \n",
    "            maj_qualif = [str(descriptor['QualifierName'][0]) for descriptor in paper['MedlineCitation']['MeshHeadingList'] if descriptor['QualifierName'] and descriptor['QualifierName'].attributes.get('MajorTopicYN') == 'Y']\n",
    "            major_qualifier_list.append(list(set(maj_qualif))) #only unique\n",
    "        except: \n",
    "            major_qualifier_list.append('NA')\n",
    "        try: \n",
    "            authors_list.append([\", \".join([author.get('LastName'), author.get('ForeName')]) for author in paper['MedlineCitation']['Article']['AuthorList']])\n",
    "        except: \n",
    "            authors_list.append('NA')\n",
    "        try: \n",
    "            affiliation_lst = []\n",
    "            for i, author in enumerate(paper['MedlineCitation']['Article']['AuthorList']):\n",
    "                try:\n",
    "                    affiliation_lst.append([affiliation.get('Affiliation', '') for affiliation in author.get('AffiliationInfo')][0])\n",
    "                except: continue\n",
    "            affiliation_list.append(affiliation_lst)\n",
    "        except:\n",
    "            affiliation_list.append('NA')\n",
    "        try:\n",
    "            pubdate_year_list.append(paper['MedlineCitation']['Article']['Journal']['JournalIssue']['PubDate']['Year'])\n",
    "        except:\n",
    "            pubdate_year_list.append('NA')\n",
    "        try:\n",
    "            pubdate_month_list.append(paper['MedlineCitation']['Article']['Journal']['JournalIssue']['PubDate']['Month'])\n",
    "        except:\n",
    "            pubdate_month_list.append('NA')\n",
    "            "
   ]
  },
  {
   "cell_type": "code",
   "execution_count": 171,
   "id": "db42f36f",
   "metadata": {},
   "outputs": [
    {
     "data": {
      "text/html": [
       "<pre style=\"white-space:pre;overflow-x:auto;line-height:normal;font-family:Menlo,'DejaVu Sans Mono',consolas,'Courier New',monospace\"></pre>\n"
      ],
      "text/plain": []
     },
     "metadata": {},
     "output_type": "display_data"
    },
    {
     "data": {
      "text/plain": [
       "\u001b[1m[\u001b[0m\u001b[32m'Hassabis, Demis'\u001b[0m, \u001b[32m'Kumaran, Dharshan'\u001b[0m, \u001b[32m'Summerfield, Christopher'\u001b[0m, \u001b[32m'Botvinick, Matthew'\u001b[0m\u001b[1m]\u001b[0m"
      ]
     },
     "execution_count": 171,
     "metadata": {},
     "output_type": "execute_result"
    }
   ],
   "source": [
    "[\", \".join([author.get('LastName'), author.get('ForeName')]) for author in paper['MedlineCitation']['Article']['AuthorList']]"
   ]
  },
  {
   "cell_type": "code",
   "execution_count": 169,
   "id": "06b3fcd0",
   "metadata": {},
   "outputs": [],
   "source": [
    "affiliation_lst = []\n",
    "for i, author in enumerate(paper['MedlineCitation']['Article']['AuthorList']):\n",
    "    try:\n",
    "        affiliation_lst.append([affiliation.get('Affiliation', '') for affiliation in author.get('AffiliationInfo')][0])\n",
    "    except: continue"
   ]
  },
  {
   "cell_type": "code",
   "execution_count": 170,
   "id": "9a3caa46",
   "metadata": {},
   "outputs": [
    {
     "data": {
      "text/html": [
       "<pre style=\"white-space:pre;overflow-x:auto;line-height:normal;font-family:Menlo,'DejaVu Sans Mono',consolas,'Courier New',monospace\"></pre>\n"
      ],
      "text/plain": []
     },
     "metadata": {},
     "output_type": "display_data"
    },
    {
     "data": {
      "text/plain": [
       "\n",
       "\u001b[1m[\u001b[0m\n",
       "    \u001b[32m'DeepMind, 5 New Street Square, London, UK; Gatsby Computational Neuroscience Unit, 25 Howland Street, London, UK. Electronic address: dhcontact@google.com.'\u001b[0m,\n",
       "    \u001b[32m'DeepMind, 5 New Street Square, London, UK; Institute of Cognitive Neuroscience, University College London, 17 Queen Square, London, UK.'\u001b[0m,\n",
       "    \u001b[32m'DeepMind, 5 New Street Square, London, UK; Department of Experimental Psychology, University of Oxford, Oxford, UK.'\u001b[0m,\n",
       "    \u001b[32m'DeepMind, 5 New Street Square, London, UK; Gatsby Computational Neuroscience Unit, 25 Howland Street, London, UK.'\u001b[0m\n",
       "\u001b[1m]\u001b[0m"
      ]
     },
     "execution_count": 170,
     "metadata": {},
     "output_type": "execute_result"
    }
   ],
   "source": [
    "affiliation_lst"
   ]
  },
  {
   "cell_type": "code",
   "execution_count": 138,
   "id": "5b3c813f",
   "metadata": {},
   "outputs": [
    {
     "data": {
      "text/html": [
       "<pre style=\"white-space:pre;overflow-x:auto;line-height:normal;font-family:Menlo,'DejaVu Sans Mono',consolas,'Courier New',monospace\"></pre>\n"
      ],
      "text/plain": []
     },
     "metadata": {},
     "output_type": "display_data"
    },
    {
     "data": {
      "text/plain": [
       "\u001b[1m[\u001b[0m\u001b[32m'physiology'\u001b[0m, \u001b[32m'physiology'\u001b[0m, \u001b[32m'physiology'\u001b[0m\u001b[1m]\u001b[0m"
      ]
     },
     "execution_count": 138,
     "metadata": {},
     "output_type": "execute_result"
    }
   ],
   "source": [
    "[str(descriptor['QualifierName'][0]) for descriptor in paper['MedlineCitation']['MeshHeadingList'] if descriptor['QualifierName']]"
   ]
  },
  {
   "cell_type": "code",
   "execution_count": 129,
   "id": "03e799ec",
   "metadata": {},
   "outputs": [
    {
     "data": {
      "text/html": [
       "<pre style=\"white-space:pre;overflow-x:auto;line-height:normal;font-family:Menlo,'DejaVu Sans Mono',consolas,'Courier New',monospace\"></pre>\n"
      ],
      "text/plain": []
     },
     "metadata": {},
     "output_type": "display_data"
    },
    {
     "data": {
      "text/plain": [
       "\n",
       "\u001b[1m[\u001b[0m\n",
       "    \u001b[1m[\u001b[0m\n",
       "        \u001b[1m[\u001b[0m\u001b[1m]\u001b[0m,\n",
       "        \u001b[1m[\u001b[0m\u001b[1m]\u001b[0m,\n",
       "        \u001b[1m[\u001b[0m\u001b[1;35mStringElement\u001b[0m\u001b[1m(\u001b[0m\u001b[32m'physiology'\u001b[0m, \u001b[33mattributes\u001b[0m=\u001b[1m{\u001b[0m\u001b[32m'UI'\u001b[0m: \u001b[32m'Q000502'\u001b[0m, \u001b[32m'MajorTopicYN'\u001b[0m: \u001b[32m'Y'\u001b[0m\u001b[1m}\u001b[0m\u001b[1m)\u001b[0m\u001b[1m]\u001b[0m,\n",
       "        \u001b[1m[\u001b[0m\u001b[1m]\u001b[0m,\n",
       "        \u001b[1m[\u001b[0m\u001b[1;35mStringElement\u001b[0m\u001b[1m(\u001b[0m\u001b[32m'physiology'\u001b[0m, \u001b[33mattributes\u001b[0m=\u001b[1m{\u001b[0m\u001b[32m'UI'\u001b[0m: \u001b[32m'Q000502'\u001b[0m, \u001b[32m'MajorTopicYN'\u001b[0m: \u001b[32m'Y'\u001b[0m\u001b[1m}\u001b[0m\u001b[1m)\u001b[0m\u001b[1m]\u001b[0m,\n",
       "        \u001b[1m[\u001b[0m\u001b[1;35mStringElement\u001b[0m\u001b[1m(\u001b[0m\u001b[32m'physiology'\u001b[0m, \u001b[33mattributes\u001b[0m=\u001b[1m{\u001b[0m\u001b[32m'UI'\u001b[0m: \u001b[32m'Q000502'\u001b[0m, \u001b[32m'MajorTopicYN'\u001b[0m: \u001b[32m'Y'\u001b[0m\u001b[1m}\u001b[0m\u001b[1m)\u001b[0m\u001b[1m]\u001b[0m,\n",
       "        \u001b[1m[\u001b[0m\u001b[1m]\u001b[0m,\n",
       "        \u001b[1m[\u001b[0m\u001b[1m]\u001b[0m\n",
       "    \u001b[1m]\u001b[0m\n",
       "\u001b[1m]\u001b[0m"
      ]
     },
     "execution_count": 129,
     "metadata": {},
     "output_type": "execute_result"
    }
   ],
   "source": [
    "qualifier_list"
   ]
  },
  {
   "cell_type": "code",
   "execution_count": 180,
   "id": "98e8173c",
   "metadata": {},
   "outputs": [],
   "source": [
    "df = pd.DataFrame(list(zip(\n",
    "            title_list, authors_list, affiliation_list, qualifier_list, major_qualifier_list, descriptor_list, major_descriptor_list, abstract_list, journal_list, language_list, pubdate_year_list, pubdate_month_list\n",
    "            )),\n",
    "            columns=[\n",
    "            'Title', 'Authors', 'Affiliations', 'Qualifier', 'Major Qualifier', 'Descriptor', 'Major Descriptor','Abstract', 'Journal', 'Language', 'Year','Month'\n",
    "            ])"
   ]
  },
  {
   "cell_type": "code",
   "execution_count": 181,
   "id": "3fe5a331",
   "metadata": {},
   "outputs": [
    {
     "data": {
      "text/html": [
       "<pre style=\"white-space:pre;overflow-x:auto;line-height:normal;font-family:Menlo,'DejaVu Sans Mono',consolas,'Courier New',monospace\"></pre>\n"
      ],
      "text/plain": []
     },
     "metadata": {},
     "output_type": "display_data"
    },
    {
     "data": {
      "text/html": [
       "<div>\n",
       "<style scoped>\n",
       "    .dataframe tbody tr th:only-of-type {\n",
       "        vertical-align: middle;\n",
       "    }\n",
       "\n",
       "    .dataframe tbody tr th {\n",
       "        vertical-align: top;\n",
       "    }\n",
       "\n",
       "    .dataframe thead th {\n",
       "        text-align: right;\n",
       "    }\n",
       "</style>\n",
       "<table border=\"1\" class=\"dataframe\">\n",
       "  <thead>\n",
       "    <tr style=\"text-align: right;\">\n",
       "      <th></th>\n",
       "      <th>Title</th>\n",
       "      <th>Authors</th>\n",
       "      <th>Affiliations</th>\n",
       "      <th>Qualifier</th>\n",
       "      <th>Major Qualifier</th>\n",
       "      <th>Descriptor</th>\n",
       "      <th>Major Descriptor</th>\n",
       "      <th>Abstract</th>\n",
       "      <th>Journal</th>\n",
       "      <th>Language</th>\n",
       "      <th>Year</th>\n",
       "      <th>Month</th>\n",
       "    </tr>\n",
       "  </thead>\n",
       "  <tbody>\n",
       "    <tr>\n",
       "      <th>0</th>\n",
       "      <td>Neuroscience-Inspired Artificial Intelligence.</td>\n",
       "      <td>[Hassabis, Demis, Kumaran, Dharshan, Summerfie...</td>\n",
       "      <td>[DeepMind, 5 New Street Square, London, UK; Ga...</td>\n",
       "      <td>[physiology]</td>\n",
       "      <td>NA</td>\n",
       "      <td>[Animals, Artificial Intelligence, Brain, Huma...</td>\n",
       "      <td>[Artificial Intelligence, Neural Networks, Com...</td>\n",
       "      <td>The fields of neuroscience and artificial inte...</td>\n",
       "      <td>Neuron</td>\n",
       "      <td>eng</td>\n",
       "      <td>2017</td>\n",
       "      <td>Jul</td>\n",
       "    </tr>\n",
       "  </tbody>\n",
       "</table>\n",
       "</div>"
      ],
      "text/plain": [
       "\n",
       "                                            Title  \\\n",
       "\u001b[1;36m0\u001b[0m  Neuroscience-Inspired Artificial Intelligence.   \n",
       "\n",
       "                                             Authors  \\\n",
       "\u001b[1;36m0\u001b[0m  \u001b[1m[\u001b[0mHassabis, Demis, Kumaran, Dharshan, Summerfie\u001b[33m...\u001b[0m   \n",
       "\n",
       "                                        Affiliations     Qualifier  \\\n",
       "\u001b[1;36m0\u001b[0m  \u001b[1m[\u001b[0mDeepMind, \u001b[1;36m5\u001b[0m New Street Square, London, UK; Ga\u001b[33m...\u001b[0m  \u001b[1m[\u001b[0mphysiology\u001b[1m]\u001b[0m   \n",
       "\n",
       "  Major Qualifier                                         Descriptor  \\\n",
       "\u001b[1;36m0\u001b[0m              NA  \u001b[1m[\u001b[0mAnimals, Artificial Intelligence, Brain, Huma\u001b[33m...\u001b[0m   \n",
       "\n",
       "                                    Major Descriptor  \\\n",
       "\u001b[1;36m0\u001b[0m  \u001b[1m[\u001b[0mArtificial Intelligence, Neural Networks, Com\u001b[33m...\u001b[0m   \n",
       "\n",
       "                                            Abstract Journal Language  Year  \\\n",
       "\u001b[1;36m0\u001b[0m  The fields of neuroscience and artificial inte\u001b[33m...\u001b[0m  Neuron      eng  \u001b[1;36m2017\u001b[0m   \n",
       "\n",
       "  Month  \n",
       "\u001b[1;36m0\u001b[0m   Jul  "
      ]
     },
     "execution_count": 181,
     "metadata": {},
     "output_type": "execute_result"
    }
   ],
   "source": [
    "df"
   ]
  },
  {
   "cell_type": "markdown",
   "id": "fa48c9d3",
   "metadata": {},
   "source": [
    "## efetch return\n",
    "Here's an overview of the structure of an efetch return and some key information contained within it:\n",
    "\n",
    "- The outermost structure appears to be a dictionary with several key-value pairs.\n",
    "\n",
    "- There are two main keys within this dictionary: 'PubmedBookArticle' and 'PubmedArticle'. In this case, the focus is on the 'PubmedArticle' key, which is associated with a list of articles or papers.\n",
    "\n",
    "- The 'PubmedArticle' key maps to a list of dictionaries, where each dictionary represents information about a specific PubMed article.\n",
    "\n",
    "- Within each article dictionary, there are various keys and sub-dictionaries that contain information about the article. Some of the key-value pairs include:\n",
    "\n",
    "- 'MedlineCitation': This key contains a dictionary that provides detailed information about the article. It includes information such as the title, abstract, authors, journal details, publication date, and more.\n",
    "\n",
    "- 'PubmedData': This key contains additional data related to the PubMed article, including references and publication history."
   ]
  },
  {
   "cell_type": "code",
   "execution_count": null,
   "id": "1d19e17c",
   "metadata": {},
   "outputs": [],
   "source": []
  }
 ],
 "metadata": {
  "kernelspec": {
   "display_name": "Kedro (kedronlp)",
   "language": "python",
   "name": "kedro_kedronlp"
  },
  "language_info": {
   "codemirror_mode": {
    "name": "ipython",
    "version": 3
   },
   "file_extension": ".py",
   "mimetype": "text/x-python",
   "name": "python",
   "nbconvert_exporter": "python",
   "pygments_lexer": "ipython3",
   "version": "3.11.6"
  }
 },
 "nbformat": 4,
 "nbformat_minor": 5
}
