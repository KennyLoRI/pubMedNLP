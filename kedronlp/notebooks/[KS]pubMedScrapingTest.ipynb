{
 "cells": [
  {
   "cell_type": "code",
   "execution_count": 1,
   "id": "e8b51ecc",
   "metadata": {},
   "outputs": [
    {
     "name": "stdout",
     "output_type": "stream",
     "text": [
      "Requirement already satisfied: sentence_transformers in /Users/Kenneth/opt/anaconda3/envs/pubMedNLP/lib/python3.11/site-packages (2.2.2)\n",
      "Requirement already satisfied: transformers<5.0.0,>=4.6.0 in /Users/Kenneth/opt/anaconda3/envs/pubMedNLP/lib/python3.11/site-packages (from sentence_transformers) (4.36.0)\n",
      "Requirement already satisfied: tqdm in /Users/Kenneth/opt/anaconda3/envs/pubMedNLP/lib/python3.11/site-packages (from sentence_transformers) (4.66.1)\n",
      "Requirement already satisfied: torch>=1.6.0 in /Users/Kenneth/opt/anaconda3/envs/pubMedNLP/lib/python3.11/site-packages (from sentence_transformers) (2.1.1)\n",
      "Requirement already satisfied: torchvision in /Users/Kenneth/opt/anaconda3/envs/pubMedNLP/lib/python3.11/site-packages (from sentence_transformers) (0.16.1)\n",
      "Requirement already satisfied: numpy in /Users/Kenneth/opt/anaconda3/envs/pubMedNLP/lib/python3.11/site-packages (from sentence_transformers) (1.26.1)\n",
      "Requirement already satisfied: scikit-learn in /Users/Kenneth/opt/anaconda3/envs/pubMedNLP/lib/python3.11/site-packages (from sentence_transformers) (1.3.2)\n",
      "Requirement already satisfied: scipy in /Users/Kenneth/opt/anaconda3/envs/pubMedNLP/lib/python3.11/site-packages (from sentence_transformers) (1.11.4)\n",
      "Requirement already satisfied: nltk in /Users/Kenneth/opt/anaconda3/envs/pubMedNLP/lib/python3.11/site-packages (from sentence_transformers) (3.8.1)\n",
      "Requirement already satisfied: sentencepiece in /Users/Kenneth/opt/anaconda3/envs/pubMedNLP/lib/python3.11/site-packages (from sentence_transformers) (0.1.99)\n",
      "Requirement already satisfied: huggingface-hub>=0.4.0 in /Users/Kenneth/opt/anaconda3/envs/pubMedNLP/lib/python3.11/site-packages (from sentence_transformers) (0.19.4)\n",
      "Requirement already satisfied: filelock in /Users/Kenneth/opt/anaconda3/envs/pubMedNLP/lib/python3.11/site-packages (from huggingface-hub>=0.4.0->sentence_transformers) (3.13.1)\n",
      "Requirement already satisfied: fsspec>=2023.5.0 in /Users/Kenneth/opt/anaconda3/envs/pubMedNLP/lib/python3.11/site-packages (from huggingface-hub>=0.4.0->sentence_transformers) (2023.10.0)\n",
      "Requirement already satisfied: requests in /Users/Kenneth/opt/anaconda3/envs/pubMedNLP/lib/python3.11/site-packages (from huggingface-hub>=0.4.0->sentence_transformers) (2.31.0)\n",
      "Requirement already satisfied: pyyaml>=5.1 in /Users/Kenneth/opt/anaconda3/envs/pubMedNLP/lib/python3.11/site-packages (from huggingface-hub>=0.4.0->sentence_transformers) (6.0.1)\n",
      "Requirement already satisfied: typing-extensions>=3.7.4.3 in /Users/Kenneth/opt/anaconda3/envs/pubMedNLP/lib/python3.11/site-packages (from huggingface-hub>=0.4.0->sentence_transformers) (4.8.0)\n",
      "Requirement already satisfied: packaging>=20.9 in /Users/Kenneth/opt/anaconda3/envs/pubMedNLP/lib/python3.11/site-packages (from huggingface-hub>=0.4.0->sentence_transformers) (23.2)\n",
      "Requirement already satisfied: sympy in /Users/Kenneth/opt/anaconda3/envs/pubMedNLP/lib/python3.11/site-packages (from torch>=1.6.0->sentence_transformers) (1.12)\n",
      "Requirement already satisfied: networkx in /Users/Kenneth/opt/anaconda3/envs/pubMedNLP/lib/python3.11/site-packages (from torch>=1.6.0->sentence_transformers) (3.2)\n",
      "Requirement already satisfied: jinja2 in /Users/Kenneth/opt/anaconda3/envs/pubMedNLP/lib/python3.11/site-packages (from torch>=1.6.0->sentence_transformers) (3.1.2)\n",
      "Requirement already satisfied: regex!=2019.12.17 in /Users/Kenneth/opt/anaconda3/envs/pubMedNLP/lib/python3.11/site-packages (from transformers<5.0.0,>=4.6.0->sentence_transformers) (2023.10.3)\n",
      "Requirement already satisfied: tokenizers<0.19,>=0.14 in /Users/Kenneth/opt/anaconda3/envs/pubMedNLP/lib/python3.11/site-packages (from transformers<5.0.0,>=4.6.0->sentence_transformers) (0.15.0)\n",
      "Requirement already satisfied: safetensors>=0.3.1 in /Users/Kenneth/opt/anaconda3/envs/pubMedNLP/lib/python3.11/site-packages (from transformers<5.0.0,>=4.6.0->sentence_transformers) (0.4.1)\n",
      "Requirement already satisfied: click in /Users/Kenneth/opt/anaconda3/envs/pubMedNLP/lib/python3.11/site-packages (from nltk->sentence_transformers) (8.1.7)\n",
      "Requirement already satisfied: joblib in /Users/Kenneth/opt/anaconda3/envs/pubMedNLP/lib/python3.11/site-packages (from nltk->sentence_transformers) (1.3.2)\n",
      "Requirement already satisfied: threadpoolctl>=2.0.0 in /Users/Kenneth/opt/anaconda3/envs/pubMedNLP/lib/python3.11/site-packages (from scikit-learn->sentence_transformers) (3.2.0)\n",
      "Requirement already satisfied: pillow!=8.3.*,>=5.3.0 in /Users/Kenneth/opt/anaconda3/envs/pubMedNLP/lib/python3.11/site-packages (from torchvision->sentence_transformers) (10.1.0)\n",
      "Requirement already satisfied: MarkupSafe>=2.0 in /Users/Kenneth/opt/anaconda3/envs/pubMedNLP/lib/python3.11/site-packages (from jinja2->torch>=1.6.0->sentence_transformers) (2.1.3)\n",
      "Requirement already satisfied: charset-normalizer<4,>=2 in /Users/Kenneth/opt/anaconda3/envs/pubMedNLP/lib/python3.11/site-packages (from requests->huggingface-hub>=0.4.0->sentence_transformers) (3.3.1)\n",
      "Requirement already satisfied: idna<4,>=2.5 in /Users/Kenneth/opt/anaconda3/envs/pubMedNLP/lib/python3.11/site-packages (from requests->huggingface-hub>=0.4.0->sentence_transformers) (3.4)\n",
      "Requirement already satisfied: urllib3<3,>=1.21.1 in /Users/Kenneth/opt/anaconda3/envs/pubMedNLP/lib/python3.11/site-packages (from requests->huggingface-hub>=0.4.0->sentence_transformers) (2.0.7)\n",
      "Requirement already satisfied: certifi>=2017.4.17 in /Users/Kenneth/opt/anaconda3/envs/pubMedNLP/lib/python3.11/site-packages (from requests->huggingface-hub>=0.4.0->sentence_transformers) (2023.7.22)\n",
      "Requirement already satisfied: mpmath>=0.19 in /Users/Kenneth/opt/anaconda3/envs/pubMedNLP/lib/python3.11/site-packages (from sympy->torch>=1.6.0->sentence_transformers) (1.3.0)\n",
      "Note: you may need to restart the kernel to use updated packages.\n",
      "Requirement already satisfied: spacy in /Users/Kenneth/opt/anaconda3/envs/pubMedNLP/lib/python3.11/site-packages (3.7.2)\n",
      "Requirement already satisfied: spacy-legacy<3.1.0,>=3.0.11 in /Users/Kenneth/opt/anaconda3/envs/pubMedNLP/lib/python3.11/site-packages (from spacy) (3.0.12)\n",
      "Requirement already satisfied: spacy-loggers<2.0.0,>=1.0.0 in /Users/Kenneth/opt/anaconda3/envs/pubMedNLP/lib/python3.11/site-packages (from spacy) (1.0.5)\n",
      "Requirement already satisfied: murmurhash<1.1.0,>=0.28.0 in /Users/Kenneth/opt/anaconda3/envs/pubMedNLP/lib/python3.11/site-packages (from spacy) (1.0.10)\n",
      "Requirement already satisfied: cymem<2.1.0,>=2.0.2 in /Users/Kenneth/opt/anaconda3/envs/pubMedNLP/lib/python3.11/site-packages (from spacy) (2.0.8)\n",
      "Requirement already satisfied: preshed<3.1.0,>=3.0.2 in /Users/Kenneth/opt/anaconda3/envs/pubMedNLP/lib/python3.11/site-packages (from spacy) (3.0.9)\n",
      "Requirement already satisfied: thinc<8.3.0,>=8.1.8 in /Users/Kenneth/opt/anaconda3/envs/pubMedNLP/lib/python3.11/site-packages (from spacy) (8.2.1)\n",
      "Requirement already satisfied: wasabi<1.2.0,>=0.9.1 in /Users/Kenneth/opt/anaconda3/envs/pubMedNLP/lib/python3.11/site-packages (from spacy) (1.1.2)\n",
      "Requirement already satisfied: srsly<3.0.0,>=2.4.3 in /Users/Kenneth/opt/anaconda3/envs/pubMedNLP/lib/python3.11/site-packages (from spacy) (2.4.8)\n",
      "Requirement already satisfied: catalogue<2.1.0,>=2.0.6 in /Users/Kenneth/opt/anaconda3/envs/pubMedNLP/lib/python3.11/site-packages (from spacy) (2.0.10)\n",
      "Requirement already satisfied: weasel<0.4.0,>=0.1.0 in /Users/Kenneth/opt/anaconda3/envs/pubMedNLP/lib/python3.11/site-packages (from spacy) (0.3.4)\n",
      "Requirement already satisfied: typer<0.10.0,>=0.3.0 in /Users/Kenneth/opt/anaconda3/envs/pubMedNLP/lib/python3.11/site-packages (from spacy) (0.9.0)\n",
      "Requirement already satisfied: smart-open<7.0.0,>=5.2.1 in /Users/Kenneth/opt/anaconda3/envs/pubMedNLP/lib/python3.11/site-packages (from spacy) (6.4.0)\n",
      "Requirement already satisfied: tqdm<5.0.0,>=4.38.0 in /Users/Kenneth/opt/anaconda3/envs/pubMedNLP/lib/python3.11/site-packages (from spacy) (4.66.1)\n",
      "Requirement already satisfied: requests<3.0.0,>=2.13.0 in /Users/Kenneth/opt/anaconda3/envs/pubMedNLP/lib/python3.11/site-packages (from spacy) (2.31.0)\n",
      "Requirement already satisfied: pydantic!=1.8,!=1.8.1,<3.0.0,>=1.7.4 in /Users/Kenneth/opt/anaconda3/envs/pubMedNLP/lib/python3.11/site-packages (from spacy) (1.10.13)\n",
      "Requirement already satisfied: jinja2 in /Users/Kenneth/opt/anaconda3/envs/pubMedNLP/lib/python3.11/site-packages (from spacy) (3.1.2)\n",
      "Requirement already satisfied: setuptools in /Users/Kenneth/opt/anaconda3/envs/pubMedNLP/lib/python3.11/site-packages (from spacy) (68.2.2)\n",
      "Requirement already satisfied: packaging>=20.0 in /Users/Kenneth/opt/anaconda3/envs/pubMedNLP/lib/python3.11/site-packages (from spacy) (23.2)\n",
      "Requirement already satisfied: langcodes<4.0.0,>=3.2.0 in /Users/Kenneth/opt/anaconda3/envs/pubMedNLP/lib/python3.11/site-packages (from spacy) (3.3.0)\n",
      "Requirement already satisfied: numpy>=1.19.0 in /Users/Kenneth/opt/anaconda3/envs/pubMedNLP/lib/python3.11/site-packages (from spacy) (1.26.1)\n",
      "Requirement already satisfied: typing-extensions>=4.2.0 in /Users/Kenneth/opt/anaconda3/envs/pubMedNLP/lib/python3.11/site-packages (from pydantic!=1.8,!=1.8.1,<3.0.0,>=1.7.4->spacy) (4.8.0)\n",
      "Requirement already satisfied: charset-normalizer<4,>=2 in /Users/Kenneth/opt/anaconda3/envs/pubMedNLP/lib/python3.11/site-packages (from requests<3.0.0,>=2.13.0->spacy) (3.3.1)\n",
      "Requirement already satisfied: idna<4,>=2.5 in /Users/Kenneth/opt/anaconda3/envs/pubMedNLP/lib/python3.11/site-packages (from requests<3.0.0,>=2.13.0->spacy) (3.4)\n",
      "Requirement already satisfied: urllib3<3,>=1.21.1 in /Users/Kenneth/opt/anaconda3/envs/pubMedNLP/lib/python3.11/site-packages (from requests<3.0.0,>=2.13.0->spacy) (2.0.7)\n",
      "Requirement already satisfied: certifi>=2017.4.17 in /Users/Kenneth/opt/anaconda3/envs/pubMedNLP/lib/python3.11/site-packages (from requests<3.0.0,>=2.13.0->spacy) (2023.7.22)\n"
     ]
    },
    {
     "name": "stdout",
     "output_type": "stream",
     "text": [
      "Requirement already satisfied: blis<0.8.0,>=0.7.8 in /Users/Kenneth/opt/anaconda3/envs/pubMedNLP/lib/python3.11/site-packages (from thinc<8.3.0,>=8.1.8->spacy) (0.7.11)\n",
      "Requirement already satisfied: confection<1.0.0,>=0.0.1 in /Users/Kenneth/opt/anaconda3/envs/pubMedNLP/lib/python3.11/site-packages (from thinc<8.3.0,>=8.1.8->spacy) (0.1.4)\n",
      "Requirement already satisfied: click<9.0.0,>=7.1.1 in /Users/Kenneth/opt/anaconda3/envs/pubMedNLP/lib/python3.11/site-packages (from typer<0.10.0,>=0.3.0->spacy) (8.1.7)\n",
      "Requirement already satisfied: cloudpathlib<0.17.0,>=0.7.0 in /Users/Kenneth/opt/anaconda3/envs/pubMedNLP/lib/python3.11/site-packages (from weasel<0.4.0,>=0.1.0->spacy) (0.16.0)\n",
      "Requirement already satisfied: MarkupSafe>=2.0 in /Users/Kenneth/opt/anaconda3/envs/pubMedNLP/lib/python3.11/site-packages (from jinja2->spacy) (2.1.3)\n",
      "Note: you may need to restart the kernel to use updated packages.\n",
      "Requirement already satisfied: matplotlib in /Users/Kenneth/opt/anaconda3/envs/pubMedNLP/lib/python3.11/site-packages (3.8.2)\n",
      "Requirement already satisfied: contourpy>=1.0.1 in /Users/Kenneth/opt/anaconda3/envs/pubMedNLP/lib/python3.11/site-packages (from matplotlib) (1.2.0)\n",
      "Requirement already satisfied: cycler>=0.10 in /Users/Kenneth/opt/anaconda3/envs/pubMedNLP/lib/python3.11/site-packages (from matplotlib) (0.12.1)\n",
      "Requirement already satisfied: fonttools>=4.22.0 in /Users/Kenneth/opt/anaconda3/envs/pubMedNLP/lib/python3.11/site-packages (from matplotlib) (4.46.0)\n",
      "Requirement already satisfied: kiwisolver>=1.3.1 in /Users/Kenneth/opt/anaconda3/envs/pubMedNLP/lib/python3.11/site-packages (from matplotlib) (1.4.5)\n",
      "Requirement already satisfied: numpy<2,>=1.21 in /Users/Kenneth/opt/anaconda3/envs/pubMedNLP/lib/python3.11/site-packages (from matplotlib) (1.26.1)\n",
      "Requirement already satisfied: packaging>=20.0 in /Users/Kenneth/opt/anaconda3/envs/pubMedNLP/lib/python3.11/site-packages (from matplotlib) (23.2)\n",
      "Requirement already satisfied: pillow>=8 in /Users/Kenneth/opt/anaconda3/envs/pubMedNLP/lib/python3.11/site-packages (from matplotlib) (10.1.0)\n",
      "Requirement already satisfied: pyparsing>=2.3.1 in /Users/Kenneth/opt/anaconda3/envs/pubMedNLP/lib/python3.11/site-packages (from matplotlib) (3.1.1)\n",
      "Requirement already satisfied: python-dateutil>=2.7 in /Users/Kenneth/opt/anaconda3/envs/pubMedNLP/lib/python3.11/site-packages (from matplotlib) (2.8.2)\n",
      "Requirement already satisfied: six>=1.5 in /Users/Kenneth/opt/anaconda3/envs/pubMedNLP/lib/python3.11/site-packages (from python-dateutil>=2.7->matplotlib) (1.16.0)\n",
      "Note: you may need to restart the kernel to use updated packages.\n",
      "Requirement already satisfied: seaborn in /Users/Kenneth/opt/anaconda3/envs/pubMedNLP/lib/python3.11/site-packages (0.13.0)\n",
      "Requirement already satisfied: numpy!=1.24.0,>=1.20 in /Users/Kenneth/opt/anaconda3/envs/pubMedNLP/lib/python3.11/site-packages (from seaborn) (1.26.1)\n",
      "Requirement already satisfied: pandas>=1.2 in /Users/Kenneth/opt/anaconda3/envs/pubMedNLP/lib/python3.11/site-packages (from seaborn) (2.1.2)\n",
      "Requirement already satisfied: matplotlib!=3.6.1,>=3.3 in /Users/Kenneth/opt/anaconda3/envs/pubMedNLP/lib/python3.11/site-packages (from seaborn) (3.8.2)\n",
      "Requirement already satisfied: contourpy>=1.0.1 in /Users/Kenneth/opt/anaconda3/envs/pubMedNLP/lib/python3.11/site-packages (from matplotlib!=3.6.1,>=3.3->seaborn) (1.2.0)\n",
      "Requirement already satisfied: cycler>=0.10 in /Users/Kenneth/opt/anaconda3/envs/pubMedNLP/lib/python3.11/site-packages (from matplotlib!=3.6.1,>=3.3->seaborn) (0.12.1)\n",
      "Requirement already satisfied: fonttools>=4.22.0 in /Users/Kenneth/opt/anaconda3/envs/pubMedNLP/lib/python3.11/site-packages (from matplotlib!=3.6.1,>=3.3->seaborn) (4.46.0)\n",
      "Requirement already satisfied: kiwisolver>=1.3.1 in /Users/Kenneth/opt/anaconda3/envs/pubMedNLP/lib/python3.11/site-packages (from matplotlib!=3.6.1,>=3.3->seaborn) (1.4.5)\n",
      "Requirement already satisfied: packaging>=20.0 in /Users/Kenneth/opt/anaconda3/envs/pubMedNLP/lib/python3.11/site-packages (from matplotlib!=3.6.1,>=3.3->seaborn) (23.2)\n",
      "Requirement already satisfied: pillow>=8 in /Users/Kenneth/opt/anaconda3/envs/pubMedNLP/lib/python3.11/site-packages (from matplotlib!=3.6.1,>=3.3->seaborn) (10.1.0)\n",
      "Requirement already satisfied: pyparsing>=2.3.1 in /Users/Kenneth/opt/anaconda3/envs/pubMedNLP/lib/python3.11/site-packages (from matplotlib!=3.6.1,>=3.3->seaborn) (3.1.1)\n",
      "Requirement already satisfied: python-dateutil>=2.7 in /Users/Kenneth/opt/anaconda3/envs/pubMedNLP/lib/python3.11/site-packages (from matplotlib!=3.6.1,>=3.3->seaborn) (2.8.2)\n",
      "Requirement already satisfied: pytz>=2020.1 in /Users/Kenneth/opt/anaconda3/envs/pubMedNLP/lib/python3.11/site-packages (from pandas>=1.2->seaborn) (2023.3.post1)\n",
      "Requirement already satisfied: tzdata>=2022.1 in /Users/Kenneth/opt/anaconda3/envs/pubMedNLP/lib/python3.11/site-packages (from pandas>=1.2->seaborn) (2023.3)\n",
      "Requirement already satisfied: six>=1.5 in /Users/Kenneth/opt/anaconda3/envs/pubMedNLP/lib/python3.11/site-packages (from python-dateutil>=2.7->matplotlib!=3.6.1,>=3.3->seaborn) (1.16.0)\n",
      "Note: you may need to restart the kernel to use updated packages.\n",
      "Requirement already satisfied: matplotlib in /Users/Kenneth/opt/anaconda3/envs/pubMedNLP/lib/python3.11/site-packages (3.8.2)\n",
      "Requirement already satisfied: contourpy>=1.0.1 in /Users/Kenneth/opt/anaconda3/envs/pubMedNLP/lib/python3.11/site-packages (from matplotlib) (1.2.0)\n",
      "Requirement already satisfied: cycler>=0.10 in /Users/Kenneth/opt/anaconda3/envs/pubMedNLP/lib/python3.11/site-packages (from matplotlib) (0.12.1)\n",
      "Requirement already satisfied: fonttools>=4.22.0 in /Users/Kenneth/opt/anaconda3/envs/pubMedNLP/lib/python3.11/site-packages (from matplotlib) (4.46.0)\n",
      "Requirement already satisfied: kiwisolver>=1.3.1 in /Users/Kenneth/opt/anaconda3/envs/pubMedNLP/lib/python3.11/site-packages (from matplotlib) (1.4.5)\n",
      "Requirement already satisfied: numpy<2,>=1.21 in /Users/Kenneth/opt/anaconda3/envs/pubMedNLP/lib/python3.11/site-packages (from matplotlib) (1.26.1)\n",
      "Requirement already satisfied: packaging>=20.0 in /Users/Kenneth/opt/anaconda3/envs/pubMedNLP/lib/python3.11/site-packages (from matplotlib) (23.2)\n",
      "Requirement already satisfied: pillow>=8 in /Users/Kenneth/opt/anaconda3/envs/pubMedNLP/lib/python3.11/site-packages (from matplotlib) (10.1.0)\n",
      "Requirement already satisfied: pyparsing>=2.3.1 in /Users/Kenneth/opt/anaconda3/envs/pubMedNLP/lib/python3.11/site-packages (from matplotlib) (3.1.1)\n",
      "Requirement already satisfied: python-dateutil>=2.7 in /Users/Kenneth/opt/anaconda3/envs/pubMedNLP/lib/python3.11/site-packages (from matplotlib) (2.8.2)\n",
      "Requirement already satisfied: six>=1.5 in /Users/Kenneth/opt/anaconda3/envs/pubMedNLP/lib/python3.11/site-packages (from python-dateutil>=2.7->matplotlib) (1.16.0)\n",
      "Note: you may need to restart the kernel to use updated packages.\n",
      "Requirement already satisfied: scipy in /Users/Kenneth/opt/anaconda3/envs/pubMedNLP/lib/python3.11/site-packages (1.11.4)\n",
      "Requirement already satisfied: numpy<1.28.0,>=1.21.6 in /Users/Kenneth/opt/anaconda3/envs/pubMedNLP/lib/python3.11/site-packages (from scipy) (1.26.1)\n",
      "Note: you may need to restart the kernel to use updated packages.\n",
      "Requirement already satisfied: langchain in /Users/Kenneth/opt/anaconda3/envs/pubMedNLP/lib/python3.11/site-packages (0.0.348)\n",
      "Requirement already satisfied: PyYAML>=5.3 in /Users/Kenneth/opt/anaconda3/envs/pubMedNLP/lib/python3.11/site-packages (from langchain) (6.0.1)\n",
      "Requirement already satisfied: SQLAlchemy<3,>=1.4 in /Users/Kenneth/opt/anaconda3/envs/pubMedNLP/lib/python3.11/site-packages (from langchain) (2.0.22)\n",
      "Requirement already satisfied: aiohttp<4.0.0,>=3.8.3 in /Users/Kenneth/opt/anaconda3/envs/pubMedNLP/lib/python3.11/site-packages (from langchain) (3.8.6)\n",
      "Requirement already satisfied: dataclasses-json<0.7,>=0.5.7 in /Users/Kenneth/opt/anaconda3/envs/pubMedNLP/lib/python3.11/site-packages (from langchain) (0.6.3)\n",
      "Requirement already satisfied: jsonpatch<2.0,>=1.33 in /Users/Kenneth/opt/anaconda3/envs/pubMedNLP/lib/python3.11/site-packages (from langchain) (1.33)\n",
      "Requirement already satisfied: langchain-core<0.1,>=0.0.12 in /Users/Kenneth/opt/anaconda3/envs/pubMedNLP/lib/python3.11/site-packages (from langchain) (0.0.12)\n",
      "Requirement already satisfied: langsmith<0.1.0,>=0.0.63 in /Users/Kenneth/opt/anaconda3/envs/pubMedNLP/lib/python3.11/site-packages (from langchain) (0.0.69)\n",
      "Requirement already satisfied: numpy<2,>=1 in /Users/Kenneth/opt/anaconda3/envs/pubMedNLP/lib/python3.11/site-packages (from langchain) (1.26.1)\n",
      "Requirement already satisfied: pydantic<3,>=1 in /Users/Kenneth/opt/anaconda3/envs/pubMedNLP/lib/python3.11/site-packages (from langchain) (1.10.13)\n",
      "Requirement already satisfied: requests<3,>=2 in /Users/Kenneth/opt/anaconda3/envs/pubMedNLP/lib/python3.11/site-packages (from langchain) (2.31.0)\n",
      "Requirement already satisfied: tenacity<9.0.0,>=8.1.0 in /Users/Kenneth/opt/anaconda3/envs/pubMedNLP/lib/python3.11/site-packages (from langchain) (8.2.3)\n"
     ]
    },
    {
     "name": "stdout",
     "output_type": "stream",
     "text": [
      "Requirement already satisfied: attrs>=17.3.0 in /Users/Kenneth/opt/anaconda3/envs/pubMedNLP/lib/python3.11/site-packages (from aiohttp<4.0.0,>=3.8.3->langchain) (23.1.0)\n",
      "Requirement already satisfied: charset-normalizer<4.0,>=2.0 in /Users/Kenneth/opt/anaconda3/envs/pubMedNLP/lib/python3.11/site-packages (from aiohttp<4.0.0,>=3.8.3->langchain) (3.3.1)\n",
      "Requirement already satisfied: multidict<7.0,>=4.5 in /Users/Kenneth/opt/anaconda3/envs/pubMedNLP/lib/python3.11/site-packages (from aiohttp<4.0.0,>=3.8.3->langchain) (6.0.4)\n",
      "Requirement already satisfied: async-timeout<5.0,>=4.0.0a3 in /Users/Kenneth/opt/anaconda3/envs/pubMedNLP/lib/python3.11/site-packages (from aiohttp<4.0.0,>=3.8.3->langchain) (4.0.3)\n",
      "Requirement already satisfied: yarl<2.0,>=1.0 in /Users/Kenneth/opt/anaconda3/envs/pubMedNLP/lib/python3.11/site-packages (from aiohttp<4.0.0,>=3.8.3->langchain) (1.9.2)\n",
      "Requirement already satisfied: frozenlist>=1.1.1 in /Users/Kenneth/opt/anaconda3/envs/pubMedNLP/lib/python3.11/site-packages (from aiohttp<4.0.0,>=3.8.3->langchain) (1.4.0)\n",
      "Requirement already satisfied: aiosignal>=1.1.2 in /Users/Kenneth/opt/anaconda3/envs/pubMedNLP/lib/python3.11/site-packages (from aiohttp<4.0.0,>=3.8.3->langchain) (1.3.1)\n",
      "Requirement already satisfied: marshmallow<4.0.0,>=3.18.0 in /Users/Kenneth/opt/anaconda3/envs/pubMedNLP/lib/python3.11/site-packages (from dataclasses-json<0.7,>=0.5.7->langchain) (3.20.1)\n",
      "Requirement already satisfied: typing-inspect<1,>=0.4.0 in /Users/Kenneth/opt/anaconda3/envs/pubMedNLP/lib/python3.11/site-packages (from dataclasses-json<0.7,>=0.5.7->langchain) (0.9.0)\n",
      "Requirement already satisfied: jsonpointer>=1.9 in /Users/Kenneth/opt/anaconda3/envs/pubMedNLP/lib/python3.11/site-packages (from jsonpatch<2.0,>=1.33->langchain) (2.4)\n",
      "Requirement already satisfied: anyio<5,>=3 in /Users/Kenneth/opt/anaconda3/envs/pubMedNLP/lib/python3.11/site-packages (from langchain-core<0.1,>=0.0.12->langchain) (3.7.1)\n",
      "Requirement already satisfied: packaging<24.0,>=23.2 in /Users/Kenneth/opt/anaconda3/envs/pubMedNLP/lib/python3.11/site-packages (from langchain-core<0.1,>=0.0.12->langchain) (23.2)\n",
      "Requirement already satisfied: typing-extensions>=4.2.0 in /Users/Kenneth/opt/anaconda3/envs/pubMedNLP/lib/python3.11/site-packages (from pydantic<3,>=1->langchain) (4.8.0)\n",
      "Requirement already satisfied: idna<4,>=2.5 in /Users/Kenneth/opt/anaconda3/envs/pubMedNLP/lib/python3.11/site-packages (from requests<3,>=2->langchain) (3.4)\n",
      "Requirement already satisfied: urllib3<3,>=1.21.1 in /Users/Kenneth/opt/anaconda3/envs/pubMedNLP/lib/python3.11/site-packages (from requests<3,>=2->langchain) (2.0.7)\n",
      "Requirement already satisfied: certifi>=2017.4.17 in /Users/Kenneth/opt/anaconda3/envs/pubMedNLP/lib/python3.11/site-packages (from requests<3,>=2->langchain) (2023.7.22)\n",
      "Requirement already satisfied: greenlet!=0.4.17 in /Users/Kenneth/opt/anaconda3/envs/pubMedNLP/lib/python3.11/site-packages (from SQLAlchemy<3,>=1.4->langchain) (3.0.1)\n",
      "Requirement already satisfied: sniffio>=1.1 in /Users/Kenneth/opt/anaconda3/envs/pubMedNLP/lib/python3.11/site-packages (from anyio<5,>=3->langchain-core<0.1,>=0.0.12->langchain) (1.3.0)\n",
      "Requirement already satisfied: mypy-extensions>=0.3.0 in /Users/Kenneth/opt/anaconda3/envs/pubMedNLP/lib/python3.11/site-packages (from typing-inspect<1,>=0.4.0->dataclasses-json<0.7,>=0.5.7->langchain) (1.0.0)\n",
      "Note: you may need to restart the kernel to use updated packages.\n",
      "Collecting en-core-web-sm==3.7.1\n",
      "  Downloading https://github.com/explosion/spacy-models/releases/download/en_core_web_sm-3.7.1/en_core_web_sm-3.7.1-py3-none-any.whl (12.8 MB)\n",
      "\u001b[2K     \u001b[90m━━━━━━━━━━━━━━━━━━━━━━━━━━━━━━━━━━━━━━━━\u001b[0m \u001b[32m12.8/12.8 MB\u001b[0m \u001b[31m3.1 MB/s\u001b[0m eta \u001b[36m0:00:00\u001b[0m00:01\u001b[0m00:01\u001b[0m\n",
      "\u001b[?25hRequirement already satisfied: spacy<3.8.0,>=3.7.2 in /Users/Kenneth/opt/anaconda3/envs/pubMedNLP/lib/python3.11/site-packages (from en-core-web-sm==3.7.1) (3.7.2)\n",
      "Requirement already satisfied: spacy-legacy<3.1.0,>=3.0.11 in /Users/Kenneth/opt/anaconda3/envs/pubMedNLP/lib/python3.11/site-packages (from spacy<3.8.0,>=3.7.2->en-core-web-sm==3.7.1) (3.0.12)\n",
      "Requirement already satisfied: spacy-loggers<2.0.0,>=1.0.0 in /Users/Kenneth/opt/anaconda3/envs/pubMedNLP/lib/python3.11/site-packages (from spacy<3.8.0,>=3.7.2->en-core-web-sm==3.7.1) (1.0.5)\n",
      "Requirement already satisfied: murmurhash<1.1.0,>=0.28.0 in /Users/Kenneth/opt/anaconda3/envs/pubMedNLP/lib/python3.11/site-packages (from spacy<3.8.0,>=3.7.2->en-core-web-sm==3.7.1) (1.0.10)\n",
      "Requirement already satisfied: cymem<2.1.0,>=2.0.2 in /Users/Kenneth/opt/anaconda3/envs/pubMedNLP/lib/python3.11/site-packages (from spacy<3.8.0,>=3.7.2->en-core-web-sm==3.7.1) (2.0.8)\n",
      "Requirement already satisfied: preshed<3.1.0,>=3.0.2 in /Users/Kenneth/opt/anaconda3/envs/pubMedNLP/lib/python3.11/site-packages (from spacy<3.8.0,>=3.7.2->en-core-web-sm==3.7.1) (3.0.9)\n",
      "Requirement already satisfied: thinc<8.3.0,>=8.1.8 in /Users/Kenneth/opt/anaconda3/envs/pubMedNLP/lib/python3.11/site-packages (from spacy<3.8.0,>=3.7.2->en-core-web-sm==3.7.1) (8.2.1)\n",
      "Requirement already satisfied: wasabi<1.2.0,>=0.9.1 in /Users/Kenneth/opt/anaconda3/envs/pubMedNLP/lib/python3.11/site-packages (from spacy<3.8.0,>=3.7.2->en-core-web-sm==3.7.1) (1.1.2)\n",
      "Requirement already satisfied: srsly<3.0.0,>=2.4.3 in /Users/Kenneth/opt/anaconda3/envs/pubMedNLP/lib/python3.11/site-packages (from spacy<3.8.0,>=3.7.2->en-core-web-sm==3.7.1) (2.4.8)\n",
      "Requirement already satisfied: catalogue<2.1.0,>=2.0.6 in /Users/Kenneth/opt/anaconda3/envs/pubMedNLP/lib/python3.11/site-packages (from spacy<3.8.0,>=3.7.2->en-core-web-sm==3.7.1) (2.0.10)\n",
      "Requirement already satisfied: weasel<0.4.0,>=0.1.0 in /Users/Kenneth/opt/anaconda3/envs/pubMedNLP/lib/python3.11/site-packages (from spacy<3.8.0,>=3.7.2->en-core-web-sm==3.7.1) (0.3.4)\n",
      "Requirement already satisfied: typer<0.10.0,>=0.3.0 in /Users/Kenneth/opt/anaconda3/envs/pubMedNLP/lib/python3.11/site-packages (from spacy<3.8.0,>=3.7.2->en-core-web-sm==3.7.1) (0.9.0)\n",
      "Requirement already satisfied: smart-open<7.0.0,>=5.2.1 in /Users/Kenneth/opt/anaconda3/envs/pubMedNLP/lib/python3.11/site-packages (from spacy<3.8.0,>=3.7.2->en-core-web-sm==3.7.1) (6.4.0)\n",
      "Requirement already satisfied: tqdm<5.0.0,>=4.38.0 in /Users/Kenneth/opt/anaconda3/envs/pubMedNLP/lib/python3.11/site-packages (from spacy<3.8.0,>=3.7.2->en-core-web-sm==3.7.1) (4.66.1)\n",
      "Requirement already satisfied: requests<3.0.0,>=2.13.0 in /Users/Kenneth/opt/anaconda3/envs/pubMedNLP/lib/python3.11/site-packages (from spacy<3.8.0,>=3.7.2->en-core-web-sm==3.7.1) (2.31.0)\n",
      "Requirement already satisfied: pydantic!=1.8,!=1.8.1,<3.0.0,>=1.7.4 in /Users/Kenneth/opt/anaconda3/envs/pubMedNLP/lib/python3.11/site-packages (from spacy<3.8.0,>=3.7.2->en-core-web-sm==3.7.1) (1.10.13)\n",
      "Requirement already satisfied: jinja2 in /Users/Kenneth/opt/anaconda3/envs/pubMedNLP/lib/python3.11/site-packages (from spacy<3.8.0,>=3.7.2->en-core-web-sm==3.7.1) (3.1.2)\n",
      "Requirement already satisfied: setuptools in /Users/Kenneth/opt/anaconda3/envs/pubMedNLP/lib/python3.11/site-packages (from spacy<3.8.0,>=3.7.2->en-core-web-sm==3.7.1) (68.2.2)\n",
      "Requirement already satisfied: packaging>=20.0 in /Users/Kenneth/opt/anaconda3/envs/pubMedNLP/lib/python3.11/site-packages (from spacy<3.8.0,>=3.7.2->en-core-web-sm==3.7.1) (23.2)\n",
      "Requirement already satisfied: langcodes<4.0.0,>=3.2.0 in /Users/Kenneth/opt/anaconda3/envs/pubMedNLP/lib/python3.11/site-packages (from spacy<3.8.0,>=3.7.2->en-core-web-sm==3.7.1) (3.3.0)\n",
      "Requirement already satisfied: numpy>=1.19.0 in /Users/Kenneth/opt/anaconda3/envs/pubMedNLP/lib/python3.11/site-packages (from spacy<3.8.0,>=3.7.2->en-core-web-sm==3.7.1) (1.26.1)\n",
      "Requirement already satisfied: typing-extensions>=4.2.0 in /Users/Kenneth/opt/anaconda3/envs/pubMedNLP/lib/python3.11/site-packages (from pydantic!=1.8,!=1.8.1,<3.0.0,>=1.7.4->spacy<3.8.0,>=3.7.2->en-core-web-sm==3.7.1) (4.8.0)\n",
      "Requirement already satisfied: charset-normalizer<4,>=2 in /Users/Kenneth/opt/anaconda3/envs/pubMedNLP/lib/python3.11/site-packages (from requests<3.0.0,>=2.13.0->spacy<3.8.0,>=3.7.2->en-core-web-sm==3.7.1) (3.3.1)\n",
      "Requirement already satisfied: idna<4,>=2.5 in /Users/Kenneth/opt/anaconda3/envs/pubMedNLP/lib/python3.11/site-packages (from requests<3.0.0,>=2.13.0->spacy<3.8.0,>=3.7.2->en-core-web-sm==3.7.1) (3.4)\n",
      "Requirement already satisfied: urllib3<3,>=1.21.1 in /Users/Kenneth/opt/anaconda3/envs/pubMedNLP/lib/python3.11/site-packages (from requests<3.0.0,>=2.13.0->spacy<3.8.0,>=3.7.2->en-core-web-sm==3.7.1) (2.0.7)\n",
      "Requirement already satisfied: certifi>=2017.4.17 in /Users/Kenneth/opt/anaconda3/envs/pubMedNLP/lib/python3.11/site-packages (from requests<3.0.0,>=2.13.0->spacy<3.8.0,>=3.7.2->en-core-web-sm==3.7.1) (2023.7.22)\n",
      "Requirement already satisfied: blis<0.8.0,>=0.7.8 in /Users/Kenneth/opt/anaconda3/envs/pubMedNLP/lib/python3.11/site-packages (from thinc<8.3.0,>=8.1.8->spacy<3.8.0,>=3.7.2->en-core-web-sm==3.7.1) (0.7.11)\n",
      "Requirement already satisfied: confection<1.0.0,>=0.0.1 in /Users/Kenneth/opt/anaconda3/envs/pubMedNLP/lib/python3.11/site-packages (from thinc<8.3.0,>=8.1.8->spacy<3.8.0,>=3.7.2->en-core-web-sm==3.7.1) (0.1.4)\n",
      "Requirement already satisfied: click<9.0.0,>=7.1.1 in /Users/Kenneth/opt/anaconda3/envs/pubMedNLP/lib/python3.11/site-packages (from typer<0.10.0,>=0.3.0->spacy<3.8.0,>=3.7.2->en-core-web-sm==3.7.1) (8.1.7)\n",
      "Requirement already satisfied: cloudpathlib<0.17.0,>=0.7.0 in /Users/Kenneth/opt/anaconda3/envs/pubMedNLP/lib/python3.11/site-packages (from weasel<0.4.0,>=0.1.0->spacy<3.8.0,>=3.7.2->en-core-web-sm==3.7.1) (0.16.0)\n"
     ]
    },
    {
     "name": "stdout",
     "output_type": "stream",
     "text": [
      "Requirement already satisfied: MarkupSafe>=2.0 in /Users/Kenneth/opt/anaconda3/envs/pubMedNLP/lib/python3.11/site-packages (from jinja2->spacy<3.8.0,>=3.7.2->en-core-web-sm==3.7.1) (2.1.3)\n",
      "\u001b[38;5;2m✔ Download and installation successful\u001b[0m\n",
      "You can now load the package via spacy.load('en_core_web_sm')\n"
     ]
    }
   ],
   "source": [
    "%pip install sentence_transformers\n",
    "%pip install spacy\n",
    "%pip install matplotlib\n",
    "%pip install seaborn \n",
    "%pip install matplotlib\n",
    "%pip install scipy\n",
    "%pip install langchain\n",
    "import spacy\n",
    "\n",
    "# Download the English language model 'en_core_web_sm'\n",
    "spacy.cli.download(\"en_core_web_sm\")\n",
    "\n",
    "# Load the downloaded model\n",
    "nlp = spacy.load(\"en_core_web_sm\")\n"
   ]
  },
  {
   "cell_type": "code",
   "execution_count": 15,
   "id": "c32ffd10",
   "metadata": {},
   "outputs": [],
   "source": [
    "from Bio import Entrez"
   ]
  },
  {
   "cell_type": "code",
   "execution_count": 16,
   "id": "412a9d61",
   "metadata": {},
   "outputs": [],
   "source": [
    "import pandas as pd\n",
    "import numpy as np\n"
   ]
  },
  {
   "cell_type": "code",
   "execution_count": 17,
   "id": "2ac05ffc",
   "metadata": {},
   "outputs": [],
   "source": [
    "def search(query, mindate, maxdate):\n",
    "    #docs: https://www.ncbi.nlm.nih.gov/books/NBK25499/#chapter4.ESearch\n",
    "    Entrez.email = 'example2@email.com'\n",
    "    handle = Entrez.esearch(db='pubmed',\n",
    "                            sort='relevance',\n",
    "                            retmax='10000',\n",
    "                            retmode='xml',\n",
    "                            term=query, \n",
    "                            mindate=mindate, \n",
    "                            maxdate=maxdate)\n",
    "    results = Entrez.read(handle)\n",
    "    return results"
   ]
  },
  {
   "cell_type": "code",
   "execution_count": 18,
   "id": "8d2f9427",
   "metadata": {},
   "outputs": [
    {
     "name": "stdout",
     "output_type": "stream",
     "text": [
      "current date processed:2023-08-01 00:00:00\n",
      "current date processed:2023-08-31 00:00:00\n",
      "current date processed:2023-09-30 00:00:00\n",
      "current date processed:2023-10-30 00:00:00\n"
     ]
    }
   ],
   "source": [
    "from datetime import datetime, timedelta\n",
    "import time\n",
    "delay_seconds = 1\n",
    "result_dicts = {}\n",
    "start_date = datetime(2023, 8, 1)  # get a couple of last observations\n",
    "end_date = datetime(2023, 11, 1)\n",
    "window_duration = timedelta(days=30) #assuming 30 days per month and 2 months to be fine\n",
    "current_date = start_date\n",
    "\n",
    "# Loop over time windows of 2 months\n",
    "while current_date < end_date:\n",
    "    # Calculate the end of the 1-month window\n",
    "    window_end = current_date + window_duration\n",
    "    try:\n",
    "        returned_dicts = search('Intelligence', current_date.strftime('%Y/%m/%d'), window_end.strftime('%Y/%m/%d'))\n",
    "    except: \n",
    "        print(f\"Error: query unsuccessful. currdate = {current_date}, window = {window_end}\")\n",
    "        break\n",
    "        \n",
    "    #accumulate dictionary values\n",
    "    for key, value in returned_dicts.items():\n",
    "        if key in result_dicts:\n",
    "            if isinstance(value, list):\n",
    "                if isinstance(result_dicts[key], list):\n",
    "                    # If both are lists, extend the existing list with the new list\n",
    "                    result_dicts[key].extend(value)\n",
    "                else:\n",
    "                    # If the existing value is not a list, create a new list with both values\n",
    "                    result_dicts[key] = [result_dicts[key]] + value\n",
    "            else:\n",
    "                if isinstance(result_dicts[key], list):\n",
    "                    # If the existing value is a list, append the new value to it\n",
    "                    result_dicts[key].append(value)\n",
    "                else:\n",
    "                    # If neither is a list, create a list with both values\n",
    "                    result_dicts[key] = [result_dicts[key], value]\n",
    "        else:\n",
    "            # Add the key-value pair to result_dicts\n",
    "            result_dicts[key] = value\n",
    "    print(f\"current date processed:{current_date}\")\n",
    "    current_date = window_end"
   ]
  },
  {
   "cell_type": "code",
   "execution_count": 19,
   "id": "1c166c1f",
   "metadata": {},
   "outputs": [],
   "source": [
    "studiesIdList = result_dicts['IdList']"
   ]
  },
  {
   "cell_type": "code",
   "execution_count": 20,
   "id": "8585fe61",
   "metadata": {},
   "outputs": [
    {
     "data": {
      "text/html": [
       "<pre style=\"white-space:pre;overflow-x:auto;line-height:normal;font-family:Menlo,'DejaVu Sans Mono',consolas,'Courier New',monospace\"></pre>\n"
      ],
      "text/plain": []
     },
     "metadata": {},
     "output_type": "display_data"
    },
    {
     "data": {
      "text/plain": [
       "\u001b[1;36m13421\u001b[0m"
      ]
     },
     "execution_count": 20,
     "metadata": {},
     "output_type": "execute_result"
    }
   ],
   "source": [
    "len(studiesIdList)"
   ]
  },
  {
   "cell_type": "code",
   "execution_count": 21,
   "id": "c0baf27e",
   "metadata": {},
   "outputs": [],
   "source": [
    "def fetch_details(id_list):\n",
    "    ids = ','.join(id_list)\n",
    "    Entrez.email = 'email2@example.com'\n",
    "    handle = Entrez.efetch(db='pubmed',\n",
    "    retmode='xml',\n",
    "    id=ids)\n",
    "    try:\n",
    "        results = Entrez.read(handle)\n",
    "    except Exception as e:\n",
    "        print(f\"Error parsing XML: {e}\")\n",
    "    finally:\n",
    "        handle.close()\n",
    "    return results"
   ]
  },
  {
   "cell_type": "markdown",
   "id": "d097a501",
   "metadata": {},
   "source": [
    "for item in studiesIdList: \n",
    "    try: \n",
    "        fetch_details([item])\n",
    "        print(f\"success at:{item}\")\n",
    "    except:\n",
    "        print(f\"error at item:{item}\")"
   ]
  },
  {
   "cell_type": "code",
   "execution_count": 22,
   "id": "49f06083",
   "metadata": {},
   "outputs": [],
   "source": [
    "title_list = []\n",
    "authors_list = []\n",
    "affiliation_list = []\n",
    "abstract_list = []\n",
    "journal_list = []\n",
    "language_list = []\n",
    "pubdate_year_list = []\n",
    "pubdate_month_list = []\n",
    "major_descriptor_list = []\n",
    "descriptor_list = []\n",
    "major_qualifier_list = []\n",
    "qualifier_list = []\n",
    "\n",
    "studies = fetch_details(studiesIdList)\n",
    "chunk_size = 500 #reduce chunksize to not exceed request limits\n",
    "for chunk_i in range(0, len(studiesIdList), chunk_size):\n",
    "    chunk = studiesIdList[chunk_i:chunk_i + chunk_size]\n",
    "    papers = fetch_details(chunk)\n",
    "    for i, paper in enumerate (papers['PubmedArticle']):\n",
    "        title_list.append(paper['MedlineCitation']['Article']['ArticleTitle'])\n",
    "        try:\n",
    "            abstract_list.append(paper['MedlineCitation']['Article']['Abstract']['AbstractText'][0])\n",
    "        except:\n",
    "            abstract_list.append('NA')\n",
    "        try: \n",
    "            journal_list.append(paper['MedlineCitation']['Article']['Journal']['Title'])\n",
    "        except: \n",
    "            journal_list.append('NA')\n",
    "        try:\n",
    "            language_list.append(paper['MedlineCitation']['Article']['Language'][0])\n",
    "        except: \n",
    "            language_list.append('NA')\n",
    "        try: \n",
    "            descr = [descriptor['DescriptorName'] for descriptor in paper['MedlineCitation']['MeshHeadingList']] \n",
    "            descriptor_list.append(descr)\n",
    "        except: \n",
    "            descriptor_list.append(\"NA\")\n",
    "        try:\n",
    "            mdescr = [descriptor['DescriptorName'] for descriptor in paper['MedlineCitation']['MeshHeadingList'] if descriptor['DescriptorName'].attributes.get('MajorTopicYN') == 'Y']\n",
    "            major_descriptor_list.append(mdescr)\n",
    "        except: \n",
    "            major_descriptor_list.append('NA')\n",
    "        try: \n",
    "            qualif = [str(descriptor['QualifierName'][0]) for descriptor in paper['MedlineCitation']['MeshHeadingList'] if descriptor['QualifierName']]\n",
    "            qualifier_list.append(list(set(qualif))) #append only unique qualifiers\n",
    "        except: \n",
    "            qualifier_list.append('NA')\n",
    "        try: \n",
    "            maj_qualif = [str(descriptor['QualifierName'][0]) for descriptor in paper['MedlineCitation']['MeshHeadingList'] if descriptor['QualifierName'] and descriptor['QualifierName'].attributes.get('MajorTopicYN') == 'Y']\n",
    "            major_qualifier_list.append(list(set(maj_qualif))) #only unique\n",
    "        except: \n",
    "            major_qualifier_list.append('NA')\n",
    "        try: \n",
    "            authors_list.append([\", \".join([author.get('LastName'), author.get('ForeName')]) for author in paper['MedlineCitation']['Article']['AuthorList']])\n",
    "        except: \n",
    "            authors_list.append('NA')\n",
    "        try: \n",
    "            affiliation_lst = []\n",
    "            for i, author in enumerate(paper['MedlineCitation']['Article']['AuthorList']):\n",
    "                try:\n",
    "                    affiliation_lst.append([affiliation.get('Affiliation', '') for affiliation in author.get('AffiliationInfo')][0])\n",
    "                except: continue\n",
    "            affiliation_list.append(affiliation_lst)\n",
    "        except:\n",
    "            affiliation_list.append('NA')\n",
    "        try:\n",
    "            pubdate_year_list.append(paper['MedlineCitation']['Article']['Journal']['JournalIssue']['PubDate']['Year'])\n",
    "        except:\n",
    "            pubdate_year_list.append('NA')\n",
    "        try:\n",
    "            pubdate_month_list.append(paper['MedlineCitation']['Article']['Journal']['JournalIssue']['PubDate']['Month'])\n",
    "        except:\n",
    "            pubdate_month_list.append('NA')\n",
    "            "
   ]
  },
  {
   "cell_type": "code",
   "execution_count": 23,
   "id": "cedaaabb",
   "metadata": {},
   "outputs": [],
   "source": [
    "df = pd.DataFrame(list(zip(\n",
    "            title_list, authors_list, affiliation_list, qualifier_list, major_qualifier_list, descriptor_list, major_descriptor_list, abstract_list, journal_list, language_list, pubdate_year_list, pubdate_month_list\n",
    "            )),\n",
    "            columns=[\n",
    "            'Title', 'Authors', 'Affiliations', 'Qualifier', 'Major Qualifier', 'Descriptor', 'Major Descriptor','Abstract', 'Journal', 'Language', 'Year','Month'\n",
    "            ])"
   ]
  },
  {
   "cell_type": "code",
   "execution_count": 24,
   "id": "e073a20d",
   "metadata": {},
   "outputs": [
    {
     "data": {
      "text/html": [
       "<pre style=\"white-space:pre;overflow-x:auto;line-height:normal;font-family:Menlo,'DejaVu Sans Mono',consolas,'Courier New',monospace\"></pre>\n"
      ],
      "text/plain": []
     },
     "metadata": {},
     "output_type": "display_data"
    },
    {
     "data": {
      "text/html": [
       "<div>\n",
       "<style scoped>\n",
       "    .dataframe tbody tr th:only-of-type {\n",
       "        vertical-align: middle;\n",
       "    }\n",
       "\n",
       "    .dataframe tbody tr th {\n",
       "        vertical-align: top;\n",
       "    }\n",
       "\n",
       "    .dataframe thead th {\n",
       "        text-align: right;\n",
       "    }\n",
       "</style>\n",
       "<table border=\"1\" class=\"dataframe\">\n",
       "  <thead>\n",
       "    <tr style=\"text-align: right;\">\n",
       "      <th></th>\n",
       "      <th>Title</th>\n",
       "      <th>Authors</th>\n",
       "      <th>Affiliations</th>\n",
       "      <th>Qualifier</th>\n",
       "      <th>Major Qualifier</th>\n",
       "      <th>Descriptor</th>\n",
       "      <th>Major Descriptor</th>\n",
       "      <th>Abstract</th>\n",
       "      <th>Journal</th>\n",
       "      <th>Language</th>\n",
       "      <th>Year</th>\n",
       "      <th>Month</th>\n",
       "    </tr>\n",
       "  </thead>\n",
       "  <tbody>\n",
       "    <tr>\n",
       "      <th>0</th>\n",
       "      <td>The projection-specific signals that establish...</td>\n",
       "      <td>[Terauchi, Akiko, Yee, Patricia, Johnson-Venka...</td>\n",
       "      <td>[Department of Neurology, F.M. Kirby Neurobiol...</td>\n",
       "      <td>[]</td>\n",
       "      <td>[]</td>\n",
       "      <td>[Animals, Mice, Corpus Striatum, Dopamine, Mes...</td>\n",
       "      <td>[Corpus Striatum, Dopamine]</td>\n",
       "      <td>Dopaminergic projections regulate various brai...</td>\n",
       "      <td>Cell</td>\n",
       "      <td>eng</td>\n",
       "      <td>2023</td>\n",
       "      <td>Aug</td>\n",
       "    </tr>\n",
       "    <tr>\n",
       "      <th>1</th>\n",
       "      <td>Open science.</td>\n",
       "      <td>[Bertram, Michael G, Sundin, Josefin, Roche, D...</td>\n",
       "      <td>[Department of Wildlife, Fish, and Environment...</td>\n",
       "      <td>[]</td>\n",
       "      <td>[]</td>\n",
       "      <td>[Humans, Publishing, Motivation, Research Pers...</td>\n",
       "      <td>[Publishing, Motivation]</td>\n",
       "      <td>The term 'open science' refers to a range of m...</td>\n",
       "      <td>Current biology : CB</td>\n",
       "      <td>eng</td>\n",
       "      <td>2023</td>\n",
       "      <td>Aug</td>\n",
       "    </tr>\n",
       "    <tr>\n",
       "      <th>2</th>\n",
       "      <td>Intrinsic dopamine and acetylcholine dynamics ...</td>\n",
       "      <td>[Krok, Anne C, Maltese, Marta, Mistry, Pratik,...</td>\n",
       "      <td>[Neuroscience Institute, New York University G...</td>\n",
       "      <td>[cytology, metabolism]</td>\n",
       "      <td>NA</td>\n",
       "      <td>[Animals, Mice, Acetylcholine, Action Potentia...</td>\n",
       "      <td>[Acetylcholine, Corpus Striatum, Dopamine]</td>\n",
       "      <td>External rewards such as food and money are po...</td>\n",
       "      <td>Nature</td>\n",
       "      <td>eng</td>\n",
       "      <td>2023</td>\n",
       "      <td>Sep</td>\n",
       "    </tr>\n",
       "    <tr>\n",
       "      <th>3</th>\n",
       "      <td>Intelligent Soft Sensors.</td>\n",
       "      <td>[Tomažič, Simon]</td>\n",
       "      <td>[Faculty of Electrical Engineering, University...</td>\n",
       "      <td>NA</td>\n",
       "      <td>NA</td>\n",
       "      <td>NA</td>\n",
       "      <td>NA</td>\n",
       "      <td>In this Special Issue, we embark on a journey ...</td>\n",
       "      <td>Sensors (Basel, Switzerland)</td>\n",
       "      <td>eng</td>\n",
       "      <td>2023</td>\n",
       "      <td>Aug</td>\n",
       "    </tr>\n",
       "    <tr>\n",
       "      <th>4</th>\n",
       "      <td>Is cancer an intelligent species?</td>\n",
       "      <td>[Nicolazzo, Chiara, Francescangeli, Federica, ...</td>\n",
       "      <td>[Department of Molecular Medicine, Sapienza Un...</td>\n",
       "      <td>NA</td>\n",
       "      <td>NA</td>\n",
       "      <td>NA</td>\n",
       "      <td>NA</td>\n",
       "      <td>Some relevant emerging properties of intellige...</td>\n",
       "      <td>Cancer metastasis reviews</td>\n",
       "      <td>eng</td>\n",
       "      <td>2023</td>\n",
       "      <td>Dec</td>\n",
       "    </tr>\n",
       "    <tr>\n",
       "      <th>...</th>\n",
       "      <td>...</td>\n",
       "      <td>...</td>\n",
       "      <td>...</td>\n",
       "      <td>...</td>\n",
       "      <td>...</td>\n",
       "      <td>...</td>\n",
       "      <td>...</td>\n",
       "      <td>...</td>\n",
       "      <td>...</td>\n",
       "      <td>...</td>\n",
       "      <td>...</td>\n",
       "      <td>...</td>\n",
       "    </tr>\n",
       "    <tr>\n",
       "      <th>13408</th>\n",
       "      <td>Evaluation of the US COVID-19 Scenario Modelin...</td>\n",
       "      <td>[Howerton, Emily, Contamin, Lucie, Mullany, Lu...</td>\n",
       "      <td>[The Pennsylvania State University, University...</td>\n",
       "      <td>[prevention &amp; control, epidemiology]</td>\n",
       "      <td>NA</td>\n",
       "      <td>[Humans, COVID-19, Pandemics, SARS-CoV-2, Unce...</td>\n",
       "      <td>[COVID-19]</td>\n",
       "      <td>Our ability to forecast epidemics far into the...</td>\n",
       "      <td>Nature communications</td>\n",
       "      <td>eng</td>\n",
       "      <td>2023</td>\n",
       "      <td>Nov</td>\n",
       "    </tr>\n",
       "    <tr>\n",
       "      <th>13409</th>\n",
       "      <td>14 examples of how LLMs can transform material...</td>\n",
       "      <td>[Jablonka, Kevin Maik, Ai, Qianxiang, Al-Fegha...</td>\n",
       "      <td>[Laboratory of Molecular Simulation (LSMO), In...</td>\n",
       "      <td>NA</td>\n",
       "      <td>NA</td>\n",
       "      <td>NA</td>\n",
       "      <td>NA</td>\n",
       "      <td>Large-language models (LLMs) such as GPT-4 cau...</td>\n",
       "      <td>Digital discovery</td>\n",
       "      <td>eng</td>\n",
       "      <td>2023</td>\n",
       "      <td>Oct</td>\n",
       "    </tr>\n",
       "    <tr>\n",
       "      <th>13410</th>\n",
       "      <td>Brain Growth Charts for Quantitative Analysis ...</td>\n",
       "      <td>NA</td>\n",
       "      <td>[From the Lifespan Brain Institute (LiBI) of t...</td>\n",
       "      <td>[diagnostic imaging, methods]</td>\n",
       "      <td>NA</td>\n",
       "      <td>[Humans, Male, Child, Infant, Newborn, Retrosp...</td>\n",
       "      <td>[Growth Charts, Brain]</td>\n",
       "      <td>Background Clinically acquired brain MRI scans...</td>\n",
       "      <td>Radiology</td>\n",
       "      <td>eng</td>\n",
       "      <td>2023</td>\n",
       "      <td>Oct</td>\n",
       "    </tr>\n",
       "    <tr>\n",
       "      <th>13411</th>\n",
       "      <td>Potential impact of annual vaccination with re...</td>\n",
       "      <td>[Jung, Sung-Mok, Loo, Sara L, Howerton, Emily,...</td>\n",
       "      <td>[University of North Carolina at Chapel Hill, ...</td>\n",
       "      <td>NA</td>\n",
       "      <td>NA</td>\n",
       "      <td>NA</td>\n",
       "      <td>NA</td>\n",
       "      <td>COVID-19 continues to cause significant hospit...</td>\n",
       "      <td>medRxiv : the preprint server for health sciences</td>\n",
       "      <td>eng</td>\n",
       "      <td>2023</td>\n",
       "      <td>Nov</td>\n",
       "    </tr>\n",
       "    <tr>\n",
       "      <th>13412</th>\n",
       "      <td>Deconstruction of rheumatoid arthritis synoviu...</td>\n",
       "      <td>NA</td>\n",
       "      <td>[Division of Rheumatology, Inflammation and Im...</td>\n",
       "      <td>[immunology, pathology, metabolism, genetics, ...</td>\n",
       "      <td>NA</td>\n",
       "      <td>[Humans, Arthritis, Rheumatoid, Cytokines, Inf...</td>\n",
       "      <td>[Arthritis, Rheumatoid]</td>\n",
       "      <td>Rheumatoid arthritis is a prototypical autoimm...</td>\n",
       "      <td>Nature</td>\n",
       "      <td>eng</td>\n",
       "      <td>2023</td>\n",
       "      <td>Nov</td>\n",
       "    </tr>\n",
       "  </tbody>\n",
       "</table>\n",
       "<p>13413 rows × 12 columns</p>\n",
       "</div>"
      ],
      "text/plain": [
       "\n",
       "                                                   Title  \\\n",
       "\u001b[1;36m0\u001b[0m      The projection-specific signals that establish\u001b[33m...\u001b[0m   \n",
       "\u001b[1;36m1\u001b[0m                                          Open science.   \n",
       "\u001b[1;36m2\u001b[0m      Intrinsic dopamine and acetylcholine dynamics \u001b[33m...\u001b[0m   \n",
       "\u001b[1;36m3\u001b[0m                              Intelligent Soft Sensors.   \n",
       "\u001b[1;36m4\u001b[0m                      Is cancer an intelligent species?   \n",
       "\u001b[33m...\u001b[0m                                                  \u001b[33m...\u001b[0m   \n",
       "\u001b[1;36m13408\u001b[0m  Evaluation of the US COVID-\u001b[1;36m19\u001b[0m Scenario Modelin\u001b[33m...\u001b[0m   \n",
       "\u001b[1;36m13409\u001b[0m  \u001b[1;36m14\u001b[0m examples of how LLMs can transform material\u001b[33m...\u001b[0m   \n",
       "\u001b[1;36m13410\u001b[0m  Brain Growth Charts for Quantitative Analysis \u001b[33m...\u001b[0m   \n",
       "\u001b[1;36m13411\u001b[0m  Potential impact of annual vaccination with re\u001b[33m...\u001b[0m   \n",
       "\u001b[1;36m13412\u001b[0m  Deconstruction of rheumatoid arthritis synoviu\u001b[33m...\u001b[0m   \n",
       "\n",
       "                                                 Authors  \\\n",
       "\u001b[1;36m0\u001b[0m      \u001b[1m[\u001b[0mTerauchi, Akiko, Yee, Patricia, Johnson-Venka\u001b[33m...\u001b[0m   \n",
       "\u001b[1;36m1\u001b[0m      \u001b[1m[\u001b[0mBertram, Michael G, Sundin, Josefin, Roche, D\u001b[33m...\u001b[0m   \n",
       "\u001b[1;36m2\u001b[0m      \u001b[1m[\u001b[0mKrok, Anne C, Maltese, Marta, Mistry, Pratik,\u001b[33m...\u001b[0m   \n",
       "\u001b[1;36m3\u001b[0m                                       \u001b[1m[\u001b[0mTomažič, Simon\u001b[1m]\u001b[0m   \n",
       "\u001b[1;36m4\u001b[0m      \u001b[1m[\u001b[0mNicolazzo, Chiara, Francescangeli, Federica, \u001b[33m...\u001b[0m   \n",
       "\u001b[33m...\u001b[0m                                                  \u001b[33m...\u001b[0m   \n",
       "\u001b[1;36m13408\u001b[0m  \u001b[1m[\u001b[0mHowerton, Emily, Contamin, Lucie, Mullany, Lu\u001b[33m...\u001b[0m   \n",
       "\u001b[1;36m13409\u001b[0m  \u001b[1m[\u001b[0mJablonka, Kevin Maik, Ai, Qianxiang, Al-Fegha\u001b[33m...\u001b[0m   \n",
       "\u001b[1;36m13410\u001b[0m                                                 NA   \n",
       "\u001b[1;36m13411\u001b[0m  \u001b[1m[\u001b[0mJung, Sung-Mok, Loo, Sara L, Howerton, Emily,\u001b[33m...\u001b[0m   \n",
       "\u001b[1;36m13412\u001b[0m                                                 NA   \n",
       "\n",
       "                                            Affiliations  \\\n",
       "\u001b[1;36m0\u001b[0m      \u001b[1m[\u001b[0mDepartment of Neurology, F.M. Kirby Neurobiol\u001b[33m...\u001b[0m   \n",
       "\u001b[1;36m1\u001b[0m      \u001b[1m[\u001b[0mDepartment of Wildlife, Fish, and Environment\u001b[33m...\u001b[0m   \n",
       "\u001b[1;36m2\u001b[0m      \u001b[1m[\u001b[0mNeuroscience Institute, New York University G\u001b[33m...\u001b[0m   \n",
       "\u001b[1;36m3\u001b[0m      \u001b[1m[\u001b[0mFaculty of Electrical Engineering, University\u001b[33m...\u001b[0m   \n",
       "\u001b[1;36m4\u001b[0m      \u001b[1m[\u001b[0mDepartment of Molecular Medicine, Sapienza Un\u001b[33m...\u001b[0m   \n",
       "\u001b[33m...\u001b[0m                                                  \u001b[33m...\u001b[0m   \n",
       "\u001b[1;36m13408\u001b[0m  \u001b[1m[\u001b[0mThe Pennsylvania State University, University\u001b[33m...\u001b[0m   \n",
       "\u001b[1;36m13409\u001b[0m  \u001b[1m[\u001b[0mLaboratory of Molecular Simulation \u001b[1m(\u001b[0mLSMO\u001b[1m)\u001b[0m, In\u001b[33m...\u001b[0m   \n",
       "\u001b[1;36m13410\u001b[0m  \u001b[1m[\u001b[0mFrom the Lifespan Brain Institute \u001b[1m(\u001b[0mLiBI\u001b[1m)\u001b[0m of t\u001b[33m...\u001b[0m   \n",
       "\u001b[1;36m13411\u001b[0m  \u001b[1m[\u001b[0mUniversity of North Carolina at Chapel Hill, \u001b[33m...\u001b[0m   \n",
       "\u001b[1;36m13412\u001b[0m  \u001b[1m[\u001b[0mDivision of Rheumatology, Inflammation and Im\u001b[33m...\u001b[0m   \n",
       "\n",
       "                                               Qualifier Major Qualifier  \\\n",
       "\u001b[1;36m0\u001b[0m                                                     \u001b[1m[\u001b[0m\u001b[1m]\u001b[0m              \u001b[1m[\u001b[0m\u001b[1m]\u001b[0m   \n",
       "\u001b[1;36m1\u001b[0m                                                     \u001b[1m[\u001b[0m\u001b[1m]\u001b[0m              \u001b[1m[\u001b[0m\u001b[1m]\u001b[0m   \n",
       "\u001b[1;36m2\u001b[0m                                 \u001b[1m[\u001b[0mcytology, metabolism\u001b[1m]\u001b[0m              NA   \n",
       "\u001b[1;36m3\u001b[0m                                                     NA              NA   \n",
       "\u001b[1;36m4\u001b[0m                                                     NA              NA   \n",
       "\u001b[33m...\u001b[0m                                                  \u001b[33m...\u001b[0m             \u001b[33m...\u001b[0m   \n",
       "\u001b[1;36m13408\u001b[0m               \u001b[1m[\u001b[0mprevention & control, epidemiology\u001b[1m]\u001b[0m              NA   \n",
       "\u001b[1;36m13409\u001b[0m                                                 NA              NA   \n",
       "\u001b[1;36m13410\u001b[0m                      \u001b[1m[\u001b[0mdiagnostic imaging, methods\u001b[1m]\u001b[0m              NA   \n",
       "\u001b[1;36m13411\u001b[0m                                                 NA              NA   \n",
       "\u001b[1;36m13412\u001b[0m  \u001b[1m[\u001b[0mimmunology, pathology, metabolism, genetics, \u001b[33m...\u001b[0m              NA   \n",
       "\n",
       "                                              Descriptor  \\\n",
       "\u001b[1;36m0\u001b[0m      \u001b[1m[\u001b[0mAnimals, Mice, Corpus Striatum, Dopamine, Mes\u001b[33m...\u001b[0m   \n",
       "\u001b[1;36m1\u001b[0m      \u001b[1m[\u001b[0mHumans, Publishing, Motivation, Research Pers\u001b[33m...\u001b[0m   \n",
       "\u001b[1;36m2\u001b[0m      \u001b[1m[\u001b[0mAnimals, Mice, Acetylcholine, Action Potentia\u001b[33m...\u001b[0m   \n",
       "\u001b[1;36m3\u001b[0m                                                     NA   \n",
       "\u001b[1;36m4\u001b[0m                                                     NA   \n",
       "\u001b[33m...\u001b[0m                                                  \u001b[33m...\u001b[0m   \n",
       "\u001b[1;36m13408\u001b[0m  \u001b[1m[\u001b[0mHumans, COVID-\u001b[1;36m19\u001b[0m, Pandemics, SARS-CoV-\u001b[1;36m2\u001b[0m, Unce\u001b[33m...\u001b[0m   \n",
       "\u001b[1;36m13409\u001b[0m                                                 NA   \n",
       "\u001b[1;36m13410\u001b[0m  \u001b[1m[\u001b[0mHumans, Male, Child, Infant, Newborn, Retrosp\u001b[33m...\u001b[0m   \n",
       "\u001b[1;36m13411\u001b[0m                                                 NA   \n",
       "\u001b[1;36m13412\u001b[0m  \u001b[1m[\u001b[0mHumans, Arthritis, Rheumatoid, Cytokines, Inf\u001b[33m...\u001b[0m   \n",
       "\n",
       "                                 Major Descriptor  \\\n",
       "\u001b[1;36m0\u001b[0m                     \u001b[1m[\u001b[0mCorpus Striatum, Dopamine\u001b[1m]\u001b[0m   \n",
       "\u001b[1;36m1\u001b[0m                        \u001b[1m[\u001b[0mPublishing, Motivation\u001b[1m]\u001b[0m   \n",
       "\u001b[1;36m2\u001b[0m      \u001b[1m[\u001b[0mAcetylcholine, Corpus Striatum, Dopamine\u001b[1m]\u001b[0m   \n",
       "\u001b[1;36m3\u001b[0m                                              NA   \n",
       "\u001b[1;36m4\u001b[0m                                              NA   \n",
       "\u001b[33m...\u001b[0m                                           \u001b[33m...\u001b[0m   \n",
       "\u001b[1;36m13408\u001b[0m                                  \u001b[1m[\u001b[0mCOVID-\u001b[1;36m19\u001b[0m\u001b[1m]\u001b[0m   \n",
       "\u001b[1;36m13409\u001b[0m                                          NA   \n",
       "\u001b[1;36m13410\u001b[0m                      \u001b[1m[\u001b[0mGrowth Charts, Brain\u001b[1m]\u001b[0m   \n",
       "\u001b[1;36m13411\u001b[0m                                          NA   \n",
       "\u001b[1;36m13412\u001b[0m                     \u001b[1m[\u001b[0mArthritis, Rheumatoid\u001b[1m]\u001b[0m   \n",
       "\n",
       "                                                Abstract  \\\n",
       "\u001b[1;36m0\u001b[0m      Dopaminergic projections regulate various brai\u001b[33m...\u001b[0m   \n",
       "\u001b[1;36m1\u001b[0m      The term \u001b[32m'open science'\u001b[0m refers to a range of m\u001b[33m...\u001b[0m   \n",
       "\u001b[1;36m2\u001b[0m      External rewards such as food and money are po\u001b[33m...\u001b[0m   \n",
       "\u001b[1;36m3\u001b[0m      In this Special Issue, we embark on a journey \u001b[33m...\u001b[0m   \n",
       "\u001b[1;36m4\u001b[0m      Some relevant emerging properties of intellige\u001b[33m...\u001b[0m   \n",
       "\u001b[33m...\u001b[0m                                                  \u001b[33m...\u001b[0m   \n",
       "\u001b[1;36m13408\u001b[0m  Our ability to forecast epidemics far into the\u001b[33m...\u001b[0m   \n",
       "\u001b[1;36m13409\u001b[0m  Large-language models \u001b[1m(\u001b[0mLLMs\u001b[1m)\u001b[0m such as GPT-\u001b[1;36m4\u001b[0m cau\u001b[33m...\u001b[0m   \n",
       "\u001b[1;36m13410\u001b[0m  Background Clinically acquired brain MRI scans\u001b[33m...\u001b[0m   \n",
       "\u001b[1;36m13411\u001b[0m  COVID-\u001b[1;36m19\u001b[0m continues to cause significant hospit\u001b[33m...\u001b[0m   \n",
       "\u001b[1;36m13412\u001b[0m  Rheumatoid arthritis is a prototypical autoimm\u001b[33m...\u001b[0m   \n",
       "\n",
       "                                                 Journal Language  Year Month  \n",
       "\u001b[1;36m0\u001b[0m                                                   Cell      eng  \u001b[1;36m2023\u001b[0m   Aug  \n",
       "\u001b[1;36m1\u001b[0m                                   Current biology : CB      eng  \u001b[1;36m2023\u001b[0m   Aug  \n",
       "\u001b[1;36m2\u001b[0m                                                 Nature      eng  \u001b[1;36m2023\u001b[0m   Sep  \n",
       "\u001b[1;36m3\u001b[0m                           Sensors \u001b[1m(\u001b[0mBasel, Switzerland\u001b[1m)\u001b[0m      eng  \u001b[1;36m2023\u001b[0m   Aug  \n",
       "\u001b[1;36m4\u001b[0m                              Cancer metastasis reviews      eng  \u001b[1;36m2023\u001b[0m   Dec  \n",
       "\u001b[33m...\u001b[0m                                                  \u001b[33m...\u001b[0m      \u001b[33m...\u001b[0m   \u001b[33m...\u001b[0m   \u001b[33m...\u001b[0m  \n",
       "\u001b[1;36m13408\u001b[0m                              Nature communications      eng  \u001b[1;36m2023\u001b[0m   Nov  \n",
       "\u001b[1;36m13409\u001b[0m                                  Digital discovery      eng  \u001b[1;36m2023\u001b[0m   Oct  \n",
       "\u001b[1;36m13410\u001b[0m                                          Radiology      eng  \u001b[1;36m2023\u001b[0m   Oct  \n",
       "\u001b[1;36m13411\u001b[0m  medRxiv : the preprint server for health sciences      eng  \u001b[1;36m2023\u001b[0m   Nov  \n",
       "\u001b[1;36m13412\u001b[0m                                             Nature      eng  \u001b[1;36m2023\u001b[0m   Nov  \n",
       "\n",
       "\u001b[1m[\u001b[0m\u001b[1;36m13413\u001b[0m rows x \u001b[1;36m12\u001b[0m columns\u001b[1m]\u001b[0m"
      ]
     },
     "execution_count": 24,
     "metadata": {},
     "output_type": "execute_result"
    }
   ],
   "source": [
    "df"
   ]
  },
  {
   "cell_type": "code",
   "execution_count": 364,
   "id": "126c0c4f",
   "metadata": {},
   "outputs": [],
   "source": [
    "test_abstract = df[\"Abstract\"][3]"
   ]
  },
  {
   "cell_type": "code",
   "execution_count": 374,
   "id": "ad14302f",
   "metadata": {
    "scrolled": true
   },
   "outputs": [
    {
     "data": {
      "text/html": [
       "<pre style=\"white-space:pre;overflow-x:auto;line-height:normal;font-family:Menlo,'DejaVu Sans Mono',consolas,'Courier New',monospace\"></pre>\n"
      ],
      "text/plain": []
     },
     "metadata": {},
     "output_type": "display_data"
    },
    {
     "data": {
      "text/html": [
       "<div>\n",
       "<style scoped>\n",
       "    .dataframe tbody tr th:only-of-type {\n",
       "        vertical-align: middle;\n",
       "    }\n",
       "\n",
       "    .dataframe tbody tr th {\n",
       "        vertical-align: top;\n",
       "    }\n",
       "\n",
       "    .dataframe thead th {\n",
       "        text-align: right;\n",
       "    }\n",
       "</style>\n",
       "<table border=\"1\" class=\"dataframe\">\n",
       "  <thead>\n",
       "    <tr style=\"text-align: right;\">\n",
       "      <th></th>\n",
       "      <th>Title</th>\n",
       "      <th>Authors</th>\n",
       "      <th>Affiliations</th>\n",
       "      <th>Qualifier</th>\n",
       "      <th>Major Qualifier</th>\n",
       "      <th>Descriptor</th>\n",
       "      <th>Major Descriptor</th>\n",
       "      <th>Abstract</th>\n",
       "      <th>Journal</th>\n",
       "      <th>Language</th>\n",
       "      <th>Year</th>\n",
       "      <th>Month</th>\n",
       "    </tr>\n",
       "  </thead>\n",
       "  <tbody>\n",
       "    <tr>\n",
       "      <th>3</th>\n",
       "      <td>Intelligent Soft Sensors.</td>\n",
       "      <td>[Tomažič, Simon]</td>\n",
       "      <td>[Faculty of Electrical Engineering, University...</td>\n",
       "      <td>NA</td>\n",
       "      <td>NA</td>\n",
       "      <td>NA</td>\n",
       "      <td>NA</td>\n",
       "      <td>In this Special Issue, we embark on a journey ...</td>\n",
       "      <td>Sensors (Basel, Switzerland)</td>\n",
       "      <td>eng</td>\n",
       "      <td>2023</td>\n",
       "      <td>Aug</td>\n",
       "    </tr>\n",
       "    <tr>\n",
       "      <th>71</th>\n",
       "      <td>Advanced Topics and Smart Systems for Wireless...</td>\n",
       "      <td>[Mansour, Ali, Aggoune, Hadi, Moy, Christophe,...</td>\n",
       "      <td>[LABSTICC UMR CNRS 6285, ENSTA-Bretagne, 29806...</td>\n",
       "      <td>NA</td>\n",
       "      <td>NA</td>\n",
       "      <td>NA</td>\n",
       "      <td>NA</td>\n",
       "      <td>Telecommunication has shaped our civilization ...</td>\n",
       "      <td>Sensors (Basel, Switzerland)</td>\n",
       "      <td>eng</td>\n",
       "      <td>2023</td>\n",
       "      <td>Aug</td>\n",
       "    </tr>\n",
       "    <tr>\n",
       "      <th>72</th>\n",
       "      <td>Intelligent Industrial Process Control Systems.</td>\n",
       "      <td>[Grobelna, Iwona]</td>\n",
       "      <td>[Institute of Automatic Control, Electronics a...</td>\n",
       "      <td>NA</td>\n",
       "      <td>NA</td>\n",
       "      <td>NA</td>\n",
       "      <td>NA</td>\n",
       "      <td>The widespread realization of Industry 4 [...].</td>\n",
       "      <td>Sensors (Basel, Switzerland)</td>\n",
       "      <td>eng</td>\n",
       "      <td>2023</td>\n",
       "      <td>Aug</td>\n",
       "    </tr>\n",
       "    <tr>\n",
       "      <th>230</th>\n",
       "      <td>Sensor Fusion and Advanced Controller for Conn...</td>\n",
       "      <td>[Li, Boyuan, Wang, Yafei, Papaioannou, Georgio...</td>\n",
       "      <td>[Research Centre for Intelligent Transportatio...</td>\n",
       "      <td>NA</td>\n",
       "      <td>NA</td>\n",
       "      <td>NA</td>\n",
       "      <td>NA</td>\n",
       "      <td>Nowadays, intelligent vehicles are equipped wi...</td>\n",
       "      <td>Sensors (Basel, Switzerland)</td>\n",
       "      <td>eng</td>\n",
       "      <td>2023</td>\n",
       "      <td>Aug</td>\n",
       "    </tr>\n",
       "    <tr>\n",
       "      <th>1336</th>\n",
       "      <td>Rehabilitation for Musculoskeletal Disorders: ...</td>\n",
       "      <td>[Favre, Julien, Cantaloube, Alexis, Jolles, Br...</td>\n",
       "      <td>[Swiss BioMotion Lab, Lausanne University Hosp...</td>\n",
       "      <td>NA</td>\n",
       "      <td>NA</td>\n",
       "      <td>NA</td>\n",
       "      <td>NA</td>\n",
       "      <td>According to the World Health Organization (WH...</td>\n",
       "      <td>Journal of clinical medicine</td>\n",
       "      <td>eng</td>\n",
       "      <td>2023</td>\n",
       "      <td>Aug</td>\n",
       "    </tr>\n",
       "    <tr>\n",
       "      <th>1567</th>\n",
       "      <td>Correction: Tang et al. Vitamin K2 Modulates M...</td>\n",
       "      <td>[Tang, Hengfang, Zheng, Zhiming, Wang, Han, Wa...</td>\n",
       "      <td>[Institute of Intelligent Machines, Hefei Inst...</td>\n",
       "      <td>NA</td>\n",
       "      <td>NA</td>\n",
       "      <td>NA</td>\n",
       "      <td>NA</td>\n",
       "      <td>In the original publication [...].</td>\n",
       "      <td>Nutrients</td>\n",
       "      <td>eng</td>\n",
       "      <td>2023</td>\n",
       "      <td>Aug</td>\n",
       "    </tr>\n",
       "    <tr>\n",
       "      <th>3190</th>\n",
       "      <td>Emerging Sensor Communication Network-Based AI...</td>\n",
       "      <td>[Sharma, Bhisham, Koundal, Deepika, Ramadan, R...</td>\n",
       "      <td>[Chitkara University Institute of Engineering ...</td>\n",
       "      <td>NA</td>\n",
       "      <td>NA</td>\n",
       "      <td>NA</td>\n",
       "      <td>NA</td>\n",
       "      <td>At present, the field of the Internet of Thing...</td>\n",
       "      <td>Sensors (Basel, Switzerland)</td>\n",
       "      <td>eng</td>\n",
       "      <td>2023</td>\n",
       "      <td>Sep</td>\n",
       "    </tr>\n",
       "    <tr>\n",
       "      <th>3762</th>\n",
       "      <td>Special Issue: \"Intelligent Systems for Clinic...</td>\n",
       "      <td>[Sannino, Giovanna, Celesti, Antonio, De Falco...</td>\n",
       "      <td>[Institute for High-Performance Computing and ...</td>\n",
       "      <td>NA</td>\n",
       "      <td>NA</td>\n",
       "      <td>NA</td>\n",
       "      <td>NA</td>\n",
       "      <td>The year 2020 was definitely like no other [...].</td>\n",
       "      <td>Sensors (Basel, Switzerland)</td>\n",
       "      <td>eng</td>\n",
       "      <td>2023</td>\n",
       "      <td>Sep</td>\n",
       "    </tr>\n",
       "    <tr>\n",
       "      <th>4502</th>\n",
       "      <td>Special Issue \"Clinical Frontiers in Percutane...</td>\n",
       "      <td>[Beijk, Marcel A M]</td>\n",
       "      <td>[Department of Cardiology, Amsterdam Universit...</td>\n",
       "      <td>NA</td>\n",
       "      <td>NA</td>\n",
       "      <td>NA</td>\n",
       "      <td>NA</td>\n",
       "      <td>In the last decade, significant advancements h...</td>\n",
       "      <td>Journal of clinical medicine</td>\n",
       "      <td>eng</td>\n",
       "      <td>2023</td>\n",
       "      <td>Sep</td>\n",
       "    </tr>\n",
       "    <tr>\n",
       "      <th>4563</th>\n",
       "      <td>Correction: Mäkynen et al. Wearable Devices Co...</td>\n",
       "      <td>[Mäkynen, Marko, Ng, G Andre, Li, Xin, Schlind...</td>\n",
       "      <td>[School of Engineering, University of Leiceste...</td>\n",
       "      <td>NA</td>\n",
       "      <td>NA</td>\n",
       "      <td>NA</td>\n",
       "      <td>NA</td>\n",
       "      <td>The authors wish to add two authors to the ori...</td>\n",
       "      <td>Sensors (Basel, Switzerland)</td>\n",
       "      <td>eng</td>\n",
       "      <td>2023</td>\n",
       "      <td>Sep</td>\n",
       "    </tr>\n",
       "    <tr>\n",
       "      <th>4568</th>\n",
       "      <td>Advances in 3D Printed Electronics: Materials,...</td>\n",
       "      <td>[Tang, Haibin, Xiao, Xingzhi]</td>\n",
       "      <td>[School of Intelligent Manufacturing, Nanjing ...</td>\n",
       "      <td>NA</td>\n",
       "      <td>NA</td>\n",
       "      <td>NA</td>\n",
       "      <td>NA</td>\n",
       "      <td>The current Special Issue entitled \"Advances i...</td>\n",
       "      <td>Materials (Basel, Switzerland)</td>\n",
       "      <td>eng</td>\n",
       "      <td>2023</td>\n",
       "      <td>Aug</td>\n",
       "    </tr>\n",
       "    <tr>\n",
       "      <th>5764</th>\n",
       "      <td>Comment on Muth et al. Assessing Critical Flic...</td>\n",
       "      <td>[Mankowska, Natalia D, Sharma, Rita I, Grzywin...</td>\n",
       "      <td>[Applied Cognitive Neuroscience Laboratory, De...</td>\n",
       "      <td>[]</td>\n",
       "      <td>[]</td>\n",
       "      <td>[Humans, Flicker Fusion]</td>\n",
       "      <td>[Flicker Fusion]</td>\n",
       "      <td>We first want to thank the authors of the exce...</td>\n",
       "      <td>Medicina (Kaunas, Lithuania)</td>\n",
       "      <td>eng</td>\n",
       "      <td>2023</td>\n",
       "      <td>Sep</td>\n",
       "    </tr>\n",
       "    <tr>\n",
       "      <th>6174</th>\n",
       "      <td>Assessment of Drug-Induced Liver Injury throug...</td>\n",
       "      <td>[Lejal, Vanille, Cerisier, Natacha, Rouquié, D...</td>\n",
       "      <td>[Université Paris Cité, Inserm U1133, CNRS UMR...</td>\n",
       "      <td>[genetics]</td>\n",
       "      <td>NA</td>\n",
       "      <td>[Humans, Chemical and Drug Induced Liver Injur...</td>\n",
       "      <td>[Chemical and Drug Induced Liver Injury]</td>\n",
       "      <td>Drug-induced liver injury (DILI) is a signific...</td>\n",
       "      <td>Chemical research in toxicology</td>\n",
       "      <td>eng</td>\n",
       "      <td>2023</td>\n",
       "      <td>Sep</td>\n",
       "    </tr>\n",
       "    <tr>\n",
       "      <th>6754</th>\n",
       "      <td>Fast Nondestructive Detection Technology and E...</td>\n",
       "      <td>[Guo, Zhiming, Jayan, Heera]</td>\n",
       "      <td>[School of Food and Biological Engineering, Ji...</td>\n",
       "      <td>NA</td>\n",
       "      <td>NA</td>\n",
       "      <td>NA</td>\n",
       "      <td>NA</td>\n",
       "      <td>Fast nondestructive detection technology in fo...</td>\n",
       "      <td>Foods (Basel, Switzerland)</td>\n",
       "      <td>eng</td>\n",
       "      <td>2023</td>\n",
       "      <td>Oct</td>\n",
       "    </tr>\n",
       "    <tr>\n",
       "      <th>7185</th>\n",
       "      <td>Artificial Intelligence Applications to Public...</td>\n",
       "      <td>[An, Ruopeng, Wang, Xiaoxin]</td>\n",
       "      <td>[Brown School, Washington University, St. Loui...</td>\n",
       "      <td>[]</td>\n",
       "      <td>[]</td>\n",
       "      <td>[Public Health, Artificial Intelligence, Nutri...</td>\n",
       "      <td>[Public Health, Nutrition Therapy]</td>\n",
       "      <td>Public health nutrition occupies a paramount p...</td>\n",
       "      <td>Nutrients</td>\n",
       "      <td>eng</td>\n",
       "      <td>2023</td>\n",
       "      <td>Oct</td>\n",
       "    </tr>\n",
       "    <tr>\n",
       "      <th>7199</th>\n",
       "      <td>Editorial for Special Issue: Advances in Smart...</td>\n",
       "      <td>[Zhang, Dong, Yang, Jintao, Le, Xiaoxia, Song,...</td>\n",
       "      <td>[The Wallace H. Coulter Department of Biomedic...</td>\n",
       "      <td>NA</td>\n",
       "      <td>NA</td>\n",
       "      <td>NA</td>\n",
       "      <td>NA</td>\n",
       "      <td>Smart hydrogels possess both intelligent and r...</td>\n",
       "      <td>Gels (Basel, Switzerland)</td>\n",
       "      <td>eng</td>\n",
       "      <td>2023</td>\n",
       "      <td>Oct</td>\n",
       "    </tr>\n",
       "    <tr>\n",
       "      <th>7704</th>\n",
       "      <td>Role of Open AI (Artificial Intelligence)-Inno...</td>\n",
       "      <td>[Kanekar, Amar]</td>\n",
       "      <td>[School of Counseling, Human Performance and R...</td>\n",
       "      <td>NA</td>\n",
       "      <td>NA</td>\n",
       "      <td>NA</td>\n",
       "      <td>NA</td>\n",
       "      <td>The call for articles for the special section ...</td>\n",
       "      <td>Healthcare (Basel, Switzerland)</td>\n",
       "      <td>eng</td>\n",
       "      <td>2023</td>\n",
       "      <td>Oct</td>\n",
       "    </tr>\n",
       "    <tr>\n",
       "      <th>8256</th>\n",
       "      <td>Detection and Feature Extraction in Acoustic S...</td>\n",
       "      <td>[Li, Yuxing, Fredianelli, Luca]</td>\n",
       "      <td>[School of Automation and Information Engineer...</td>\n",
       "      <td>NA</td>\n",
       "      <td>NA</td>\n",
       "      <td>NA</td>\n",
       "      <td>NA</td>\n",
       "      <td>Our advances in detection and feature extracti...</td>\n",
       "      <td>Sensors (Basel, Switzerland)</td>\n",
       "      <td>eng</td>\n",
       "      <td>2023</td>\n",
       "      <td>Sep</td>\n",
       "    </tr>\n",
       "    <tr>\n",
       "      <th>8494</th>\n",
       "      <td>Editorial for the Special Issue Recognition Ro...</td>\n",
       "      <td>[Martínez-Otzeta, José María]</td>\n",
       "      <td>[Department of Computer Science and Artificial...</td>\n",
       "      <td>NA</td>\n",
       "      <td>NA</td>\n",
       "      <td>NA</td>\n",
       "      <td>NA</td>\n",
       "      <td>Perception of the environment is an essential ...</td>\n",
       "      <td>Sensors (Basel, Switzerland)</td>\n",
       "      <td>eng</td>\n",
       "      <td>2023</td>\n",
       "      <td>Oct</td>\n",
       "    </tr>\n",
       "    <tr>\n",
       "      <th>8932</th>\n",
       "      <td>Reply to Singh, G.D. Comment on \"Dao et al. Re...</td>\n",
       "      <td>[Dao, Nhi, Cozean, Colette, Chernyshev, Oleg, ...</td>\n",
       "      <td>[Department of Molecular and Cellular Physiolo...</td>\n",
       "      <td>NA</td>\n",
       "      <td>NA</td>\n",
       "      <td>NA</td>\n",
       "      <td>NA</td>\n",
       "      <td>In response to the commentary \"Response to 'Re...</td>\n",
       "      <td>Pathophysiology : the official journal of the ...</td>\n",
       "      <td>eng</td>\n",
       "      <td>2023</td>\n",
       "      <td>Oct</td>\n",
       "    </tr>\n",
       "    <tr>\n",
       "      <th>8946</th>\n",
       "      <td>Editorial for the Special Issue: \"Spatial Stru...</td>\n",
       "      <td>[Wu, Dun, Hu, Guangqing, Gao, Yuhang]</td>\n",
       "      <td>[Key Laboratory of Intelligent Underground Exp...</td>\n",
       "      <td>NA</td>\n",
       "      <td>NA</td>\n",
       "      <td>NA</td>\n",
       "      <td>NA</td>\n",
       "      <td>The spatial structure of minerals is a fundame...</td>\n",
       "      <td>Molecules (Basel, Switzerland)</td>\n",
       "      <td>eng</td>\n",
       "      <td>2023</td>\n",
       "      <td>Oct</td>\n",
       "    </tr>\n",
       "    <tr>\n",
       "      <th>10523</th>\n",
       "      <td>Artificial Intelligence Technology for Food Nu...</td>\n",
       "      <td>[Zhu, Jinlin, Wang, Gang]</td>\n",
       "      <td>[State Key Laboratory of Food Science and Reso...</td>\n",
       "      <td>[]</td>\n",
       "      <td>[]</td>\n",
       "      <td>[Humans, Energy Intake, Artificial Intelligenc...</td>\n",
       "      <td>[Energy Intake, Artificial Intelligence]</td>\n",
       "      <td>Food nutrition is generally defined as the hea...</td>\n",
       "      <td>Nutrients</td>\n",
       "      <td>eng</td>\n",
       "      <td>2023</td>\n",
       "      <td>Oct</td>\n",
       "    </tr>\n",
       "    <tr>\n",
       "      <th>11821</th>\n",
       "      <td>Investigation of Optoelectronic Functional Cry...</td>\n",
       "      <td>[Shi, Lihong, Yan, Wenbo]</td>\n",
       "      <td>[Department of Physics, Tianjin Chengjian Univ...</td>\n",
       "      <td>NA</td>\n",
       "      <td>NA</td>\n",
       "      <td>NA</td>\n",
       "      <td>NA</td>\n",
       "      <td>Optoelectronic functional crystals facilitate ...</td>\n",
       "      <td>Materials (Basel, Switzerland)</td>\n",
       "      <td>eng</td>\n",
       "      <td>2023</td>\n",
       "      <td>Oct</td>\n",
       "    </tr>\n",
       "    <tr>\n",
       "      <th>11972</th>\n",
       "      <td>Advances in Smart Materials and Structures.</td>\n",
       "      <td>[Wang, Bing, Lee, Tung Lik, Qin, Yang]</td>\n",
       "      <td>[Fujian Provincial Key Laboratory of Terahertz...</td>\n",
       "      <td>NA</td>\n",
       "      <td>NA</td>\n",
       "      <td>NA</td>\n",
       "      <td>NA</td>\n",
       "      <td>Smart materials and structures are capable of ...</td>\n",
       "      <td>Materials (Basel, Switzerland)</td>\n",
       "      <td>eng</td>\n",
       "      <td>2023</td>\n",
       "      <td>Nov</td>\n",
       "    </tr>\n",
       "    <tr>\n",
       "      <th>12048</th>\n",
       "      <td>Ceramics and Nanostructures for Energy Harvest...</td>\n",
       "      <td>[Tkach, Alexander, Okhay, Olena]</td>\n",
       "      <td>[CICECO-Aveiro Institute of Materials, Departm...</td>\n",
       "      <td>NA</td>\n",
       "      <td>NA</td>\n",
       "      <td>NA</td>\n",
       "      <td>NA</td>\n",
       "      <td>In recent years, the worldwide research in the...</td>\n",
       "      <td>Nanomaterials (Basel, Switzerland)</td>\n",
       "      <td>eng</td>\n",
       "      <td>2023</td>\n",
       "      <td>Nov</td>\n",
       "    </tr>\n",
       "  </tbody>\n",
       "</table>\n",
       "</div>"
      ],
      "text/plain": [
       "\n",
       "                                                   Title  \\\n",
       "\u001b[1;36m3\u001b[0m                              Intelligent Soft Sensors.   \n",
       "\u001b[1;36m71\u001b[0m     Advanced Topics and Smart Systems for Wireless\u001b[33m...\u001b[0m   \n",
       "\u001b[1;36m72\u001b[0m       Intelligent Industrial Process Control Systems.   \n",
       "\u001b[1;36m230\u001b[0m    Sensor Fusion and Advanced Controller for Conn\u001b[33m...\u001b[0m   \n",
       "\u001b[1;36m1336\u001b[0m   Rehabilitation for Musculoskeletal Disorders: \u001b[33m...\u001b[0m   \n",
       "\u001b[1;36m1567\u001b[0m   Correction: Tang et al. Vitamin K2 Modulates M\u001b[33m...\u001b[0m   \n",
       "\u001b[1;36m3190\u001b[0m   Emerging Sensor Communication Network-Based AI\u001b[33m...\u001b[0m   \n",
       "\u001b[1;36m3762\u001b[0m   Special Issue: \"Intelligent Systems for Clinic\u001b[33m...\u001b[0m   \n",
       "\u001b[1;36m4502\u001b[0m   Special Issue \"Clinical Frontiers in Percutane\u001b[33m...\u001b[0m   \n",
       "\u001b[1;36m4563\u001b[0m   Correction: Mäkynen et al. Wearable Devices Co\u001b[33m...\u001b[0m   \n",
       "\u001b[1;36m4568\u001b[0m   Advances in 3D Printed Electronics: Materials,\u001b[33m...\u001b[0m   \n",
       "\u001b[1;36m5764\u001b[0m   Comment on Muth et al. Assessing Critical Flic\u001b[33m...\u001b[0m   \n",
       "\u001b[1;36m6174\u001b[0m   Assessment of Drug-Induced Liver Injury throug\u001b[33m...\u001b[0m   \n",
       "\u001b[1;36m6754\u001b[0m   Fast Nondestructive Detection Technology and E\u001b[33m...\u001b[0m   \n",
       "\u001b[1;36m7185\u001b[0m   Artificial Intelligence Applications to Public\u001b[33m...\u001b[0m   \n",
       "\u001b[1;36m7199\u001b[0m   Editorial for Special Issue: Advances in Smart\u001b[33m...\u001b[0m   \n",
       "\u001b[1;36m7704\u001b[0m   Role of Open AI \u001b[1m(\u001b[0mArtificial Intelligence\u001b[1m)\u001b[0m-Inno\u001b[33m...\u001b[0m   \n",
       "\u001b[1;36m8256\u001b[0m   Detection and Feature Extraction in Acoustic S\u001b[33m...\u001b[0m   \n",
       "\u001b[1;36m8494\u001b[0m   Editorial for the Special Issue Recognition Ro\u001b[33m...\u001b[0m   \n",
       "\u001b[1;36m8932\u001b[0m   Reply to Singh, G.D. Comment on \"Dao et al. Re\u001b[33m...\u001b[0m   \n",
       "\u001b[1;36m8946\u001b[0m   Editorial for the Special Issue: \"Spatial Stru\u001b[33m...\u001b[0m   \n",
       "\u001b[1;36m10523\u001b[0m  Artificial Intelligence Technology for Food Nu\u001b[33m...\u001b[0m   \n",
       "\u001b[1;36m11821\u001b[0m  Investigation of Optoelectronic Functional Cry\u001b[33m...\u001b[0m   \n",
       "\u001b[1;36m11972\u001b[0m        Advances in Smart Materials and Structures.   \n",
       "\u001b[1;36m12048\u001b[0m  Ceramics and Nanostructures for Energy Harvest\u001b[33m...\u001b[0m   \n",
       "\n",
       "                                                 Authors  \\\n",
       "\u001b[1;36m3\u001b[0m                                       \u001b[1m[\u001b[0mTomažič, Simon\u001b[1m]\u001b[0m   \n",
       "\u001b[1;36m71\u001b[0m     \u001b[1m[\u001b[0mMansour, Ali, Aggoune, Hadi, Moy, Christophe,\u001b[33m...\u001b[0m   \n",
       "\u001b[1;36m72\u001b[0m                                     \u001b[1m[\u001b[0mGrobelna, Iwona\u001b[1m]\u001b[0m   \n",
       "\u001b[1;36m230\u001b[0m    \u001b[1m[\u001b[0mLi, Boyuan, Wang, Yafei, Papaioannou, Georgio\u001b[33m...\u001b[0m   \n",
       "\u001b[1;36m1336\u001b[0m   \u001b[1m[\u001b[0mFavre, Julien, Cantaloube, Alexis, Jolles, Br\u001b[33m...\u001b[0m   \n",
       "\u001b[1;36m1567\u001b[0m   \u001b[1m[\u001b[0mTang, Hengfang, Zheng, Zhiming, Wang, Han, Wa\u001b[33m...\u001b[0m   \n",
       "\u001b[1;36m3190\u001b[0m   \u001b[1m[\u001b[0mSharma, Bhisham, Koundal, Deepika, Ramadan, R\u001b[33m...\u001b[0m   \n",
       "\u001b[1;36m3762\u001b[0m   \u001b[1m[\u001b[0mSannino, Giovanna, Celesti, Antonio, De Falco\u001b[33m...\u001b[0m   \n",
       "\u001b[1;36m4502\u001b[0m                                 \u001b[1m[\u001b[0mBeijk, Marcel A M\u001b[1m]\u001b[0m   \n",
       "\u001b[1;36m4563\u001b[0m   \u001b[1m[\u001b[0mMäkynen, Marko, Ng, G Andre, Li, Xin, Schlind\u001b[33m...\u001b[0m   \n",
       "\u001b[1;36m4568\u001b[0m                       \u001b[1m[\u001b[0mTang, Haibin, Xiao, Xingzhi\u001b[1m]\u001b[0m   \n",
       "\u001b[1;36m5764\u001b[0m   \u001b[1m[\u001b[0mMankowska, Natalia D, Sharma, Rita I, Grzywin\u001b[33m...\u001b[0m   \n",
       "\u001b[1;36m6174\u001b[0m   \u001b[1m[\u001b[0mLejal, Vanille, Cerisier, Natacha, Rouquié, D\u001b[33m...\u001b[0m   \n",
       "\u001b[1;36m6754\u001b[0m                        \u001b[1m[\u001b[0mGuo, Zhiming, Jayan, Heera\u001b[1m]\u001b[0m   \n",
       "\u001b[1;36m7185\u001b[0m                        \u001b[1m[\u001b[0mAn, Ruopeng, Wang, Xiaoxin\u001b[1m]\u001b[0m   \n",
       "\u001b[1;36m7199\u001b[0m   \u001b[1m[\u001b[0mZhang, Dong, Yang, Jintao, Le, Xiaoxia, Song,\u001b[33m...\u001b[0m   \n",
       "\u001b[1;36m7704\u001b[0m                                     \u001b[1m[\u001b[0mKanekar, Amar\u001b[1m]\u001b[0m   \n",
       "\u001b[1;36m8256\u001b[0m                     \u001b[1m[\u001b[0mLi, Yuxing, Fredianelli, Luca\u001b[1m]\u001b[0m   \n",
       "\u001b[1;36m8494\u001b[0m                       \u001b[1m[\u001b[0mMartínez-Otzeta, José María\u001b[1m]\u001b[0m   \n",
       "\u001b[1;36m8932\u001b[0m   \u001b[1m[\u001b[0mDao, Nhi, Cozean, Colette, Chernyshev, Oleg, \u001b[33m...\u001b[0m   \n",
       "\u001b[1;36m8946\u001b[0m               \u001b[1m[\u001b[0mWu, Dun, Hu, Guangqing, Gao, Yuhang\u001b[1m]\u001b[0m   \n",
       "\u001b[1;36m10523\u001b[0m                          \u001b[1m[\u001b[0mZhu, Jinlin, Wang, Gang\u001b[1m]\u001b[0m   \n",
       "\u001b[1;36m11821\u001b[0m                          \u001b[1m[\u001b[0mShi, Lihong, Yan, Wenbo\u001b[1m]\u001b[0m   \n",
       "\u001b[1;36m11972\u001b[0m             \u001b[1m[\u001b[0mWang, Bing, Lee, Tung Lik, Qin, Yang\u001b[1m]\u001b[0m   \n",
       "\u001b[1;36m12048\u001b[0m                   \u001b[1m[\u001b[0mTkach, Alexander, Okhay, Olena\u001b[1m]\u001b[0m   \n",
       "\n",
       "                                            Affiliations   Qualifier  \\\n",
       "\u001b[1;36m3\u001b[0m      \u001b[1m[\u001b[0mFaculty of Electrical Engineering, University\u001b[33m...\u001b[0m          NA   \n",
       "\u001b[1;36m71\u001b[0m     \u001b[1m[\u001b[0mLABSTICC UMR CNRS \u001b[1;36m6285\u001b[0m, ENSTA-Bretagne, \u001b[1;36m29806\u001b[0m\u001b[33m...\u001b[0m          NA   \n",
       "\u001b[1;36m72\u001b[0m     \u001b[1m[\u001b[0mInstitute of Automatic Control, Electronics a\u001b[33m...\u001b[0m          NA   \n",
       "\u001b[1;36m230\u001b[0m    \u001b[1m[\u001b[0mResearch Centre for Intelligent Transportatio\u001b[33m...\u001b[0m          NA   \n",
       "\u001b[1;36m1336\u001b[0m   \u001b[1m[\u001b[0mSwiss BioMotion Lab, Lausanne University Hosp\u001b[33m...\u001b[0m          NA   \n",
       "\u001b[1;36m1567\u001b[0m   \u001b[1m[\u001b[0mInstitute of Intelligent Machines, Hefei Inst\u001b[33m...\u001b[0m          NA   \n",
       "\u001b[1;36m3190\u001b[0m   \u001b[1m[\u001b[0mChitkara University Institute of Engineering \u001b[33m...\u001b[0m          NA   \n",
       "\u001b[1;36m3762\u001b[0m   \u001b[1m[\u001b[0mInstitute for High-Performance Computing and \u001b[33m...\u001b[0m          NA   \n",
       "\u001b[1;36m4502\u001b[0m   \u001b[1m[\u001b[0mDepartment of Cardiology, Amsterdam Universit\u001b[33m...\u001b[0m          NA   \n",
       "\u001b[1;36m4563\u001b[0m   \u001b[1m[\u001b[0mSchool of Engineering, University of Leiceste\u001b[33m...\u001b[0m          NA   \n",
       "\u001b[1;36m4568\u001b[0m   \u001b[1m[\u001b[0mSchool of Intelligent Manufacturing, Nanjing \u001b[33m...\u001b[0m          NA   \n",
       "\u001b[1;36m5764\u001b[0m   \u001b[1m[\u001b[0mApplied Cognitive Neuroscience Laboratory, De\u001b[33m...\u001b[0m          \u001b[1m[\u001b[0m\u001b[1m]\u001b[0m   \n",
       "\u001b[1;36m6174\u001b[0m   \u001b[1m[\u001b[0mUniversité Paris Cité, Inserm U1133, CNRS UMR\u001b[33m...\u001b[0m  \u001b[1m[\u001b[0mgenetics\u001b[1m]\u001b[0m   \n",
       "\u001b[1;36m6754\u001b[0m   \u001b[1m[\u001b[0mSchool of Food and Biological Engineering, Ji\u001b[33m...\u001b[0m          NA   \n",
       "\u001b[1;36m7185\u001b[0m   \u001b[1m[\u001b[0mBrown School, Washington University, St. Loui\u001b[33m...\u001b[0m          \u001b[1m[\u001b[0m\u001b[1m]\u001b[0m   \n",
       "\u001b[1;36m7199\u001b[0m   \u001b[1m[\u001b[0mThe Wallace H. Coulter Department of Biomedic\u001b[33m...\u001b[0m          NA   \n",
       "\u001b[1;36m7704\u001b[0m   \u001b[1m[\u001b[0mSchool of Counseling, Human Performance and R\u001b[33m...\u001b[0m          NA   \n",
       "\u001b[1;36m8256\u001b[0m   \u001b[1m[\u001b[0mSchool of Automation and Information Engineer\u001b[33m...\u001b[0m          NA   \n",
       "\u001b[1;36m8494\u001b[0m   \u001b[1m[\u001b[0mDepartment of Computer Science and Artificial\u001b[33m...\u001b[0m          NA   \n",
       "\u001b[1;36m8932\u001b[0m   \u001b[1m[\u001b[0mDepartment of Molecular and Cellular Physiolo\u001b[33m...\u001b[0m          NA   \n",
       "\u001b[1;36m8946\u001b[0m   \u001b[1m[\u001b[0mKey Laboratory of Intelligent Underground Exp\u001b[33m...\u001b[0m          NA   \n",
       "\u001b[1;36m10523\u001b[0m  \u001b[1m[\u001b[0mState Key Laboratory of Food Science and Reso\u001b[33m...\u001b[0m          \u001b[1m[\u001b[0m\u001b[1m]\u001b[0m   \n",
       "\u001b[1;36m11821\u001b[0m  \u001b[1m[\u001b[0mDepartment of Physics, Tianjin Chengjian Univ\u001b[33m...\u001b[0m          NA   \n",
       "\u001b[1;36m11972\u001b[0m  \u001b[1m[\u001b[0mFujian Provincial Key Laboratory of Terahertz\u001b[33m...\u001b[0m          NA   \n",
       "\u001b[1;36m12048\u001b[0m  \u001b[1m[\u001b[0mCICECO-Aveiro Institute of Materials, Departm\u001b[33m...\u001b[0m          NA   \n",
       "\n",
       "      Major Qualifier                                         Descriptor  \\\n",
       "\u001b[1;36m3\u001b[0m                  NA                                                 NA   \n",
       "\u001b[1;36m71\u001b[0m                 NA                                                 NA   \n",
       "\u001b[1;36m72\u001b[0m                 NA                                                 NA   \n",
       "\u001b[1;36m230\u001b[0m                NA                                                 NA   \n",
       "\u001b[1;36m1336\u001b[0m               NA                                                 NA   \n",
       "\u001b[1;36m1567\u001b[0m               NA                                                 NA   \n",
       "\u001b[1;36m3190\u001b[0m               NA                                                 NA   \n",
       "\u001b[1;36m3762\u001b[0m               NA                                                 NA   \n",
       "\u001b[1;36m4502\u001b[0m               NA                                                 NA   \n",
       "\u001b[1;36m4563\u001b[0m               NA                                                 NA   \n",
       "\u001b[1;36m4568\u001b[0m               NA                                                 NA   \n",
       "\u001b[1;36m5764\u001b[0m               \u001b[1m[\u001b[0m\u001b[1m]\u001b[0m                           \u001b[1m[\u001b[0mHumans, Flicker Fusion\u001b[1m]\u001b[0m   \n",
       "\u001b[1;36m6174\u001b[0m               NA  \u001b[1m[\u001b[0mHumans, Chemical and Drug Induced Liver Injur\u001b[33m...\u001b[0m   \n",
       "\u001b[1;36m6754\u001b[0m               NA                                                 NA   \n",
       "\u001b[1;36m7185\u001b[0m               \u001b[1m[\u001b[0m\u001b[1m]\u001b[0m  \u001b[1m[\u001b[0mPublic Health, Artificial Intelligence, Nutri\u001b[33m...\u001b[0m   \n",
       "\u001b[1;36m7199\u001b[0m               NA                                                 NA   \n",
       "\u001b[1;36m7704\u001b[0m               NA                                                 NA   \n",
       "\u001b[1;36m8256\u001b[0m               NA                                                 NA   \n",
       "\u001b[1;36m8494\u001b[0m               NA                                                 NA   \n",
       "\u001b[1;36m8932\u001b[0m               NA                                                 NA   \n",
       "\u001b[1;36m8946\u001b[0m               NA                                                 NA   \n",
       "\u001b[1;36m10523\u001b[0m              \u001b[1m[\u001b[0m\u001b[1m]\u001b[0m  \u001b[1m[\u001b[0mHumans, Energy Intake, Artificial Intelligenc\u001b[33m...\u001b[0m   \n",
       "\u001b[1;36m11821\u001b[0m              NA                                                 NA   \n",
       "\u001b[1;36m11972\u001b[0m              NA                                                 NA   \n",
       "\u001b[1;36m12048\u001b[0m              NA                                                 NA   \n",
       "\n",
       "                               Major Descriptor  \\\n",
       "\u001b[1;36m3\u001b[0m                                            NA   \n",
       "\u001b[1;36m71\u001b[0m                                           NA   \n",
       "\u001b[1;36m72\u001b[0m                                           NA   \n",
       "\u001b[1;36m230\u001b[0m                                          NA   \n",
       "\u001b[1;36m1336\u001b[0m                                         NA   \n",
       "\u001b[1;36m1567\u001b[0m                                         NA   \n",
       "\u001b[1;36m3190\u001b[0m                                         NA   \n",
       "\u001b[1;36m3762\u001b[0m                                         NA   \n",
       "\u001b[1;36m4502\u001b[0m                                         NA   \n",
       "\u001b[1;36m4563\u001b[0m                                         NA   \n",
       "\u001b[1;36m4568\u001b[0m                                         NA   \n",
       "\u001b[1;36m5764\u001b[0m                           \u001b[1m[\u001b[0mFlicker Fusion\u001b[1m]\u001b[0m   \n",
       "\u001b[1;36m6174\u001b[0m   \u001b[1m[\u001b[0mChemical and Drug Induced Liver Injury\u001b[1m]\u001b[0m   \n",
       "\u001b[1;36m6754\u001b[0m                                         NA   \n",
       "\u001b[1;36m7185\u001b[0m         \u001b[1m[\u001b[0mPublic Health, Nutrition Therapy\u001b[1m]\u001b[0m   \n",
       "\u001b[1;36m7199\u001b[0m                                         NA   \n",
       "\u001b[1;36m7704\u001b[0m                                         NA   \n",
       "\u001b[1;36m8256\u001b[0m                                         NA   \n",
       "\u001b[1;36m8494\u001b[0m                                         NA   \n",
       "\u001b[1;36m8932\u001b[0m                                         NA   \n",
       "\u001b[1;36m8946\u001b[0m                                         NA   \n",
       "\u001b[1;36m10523\u001b[0m  \u001b[1m[\u001b[0mEnergy Intake, Artificial Intelligence\u001b[1m]\u001b[0m   \n",
       "\u001b[1;36m11821\u001b[0m                                        NA   \n",
       "\u001b[1;36m11972\u001b[0m                                        NA   \n",
       "\u001b[1;36m12048\u001b[0m                                        NA   \n",
       "\n",
       "                                                Abstract  \\\n",
       "\u001b[1;36m3\u001b[0m      In this Special Issue, we embark on a journey \u001b[33m...\u001b[0m   \n",
       "\u001b[1;36m71\u001b[0m     Telecommunication has shaped our civilization \u001b[33m...\u001b[0m   \n",
       "\u001b[1;36m72\u001b[0m       The widespread realization of Industry \u001b[1;36m4\u001b[0m \u001b[1m[\u001b[0m\u001b[33m...\u001b[0m\u001b[1m]\u001b[0m.   \n",
       "\u001b[1;36m230\u001b[0m    Nowadays, intelligent vehicles are equipped wi\u001b[33m...\u001b[0m   \n",
       "\u001b[1;36m1336\u001b[0m   According to the World Health Organization \u001b[1m(\u001b[0mWH\u001b[33m...\u001b[0m   \n",
       "\u001b[1;36m1567\u001b[0m                  In the original publication \u001b[1m[\u001b[0m\u001b[33m...\u001b[0m\u001b[1m]\u001b[0m.   \n",
       "\u001b[1;36m3190\u001b[0m   At present, the field of the Internet of Thing\u001b[33m...\u001b[0m   \n",
       "\u001b[1;36m3762\u001b[0m   The year \u001b[1;36m2020\u001b[0m was definitely like no other \u001b[1m[\u001b[0m\u001b[33m...\u001b[0m\u001b[1m]\u001b[0m.   \n",
       "\u001b[1;36m4502\u001b[0m   In the last decade, significant advancements h\u001b[33m...\u001b[0m   \n",
       "\u001b[1;36m4563\u001b[0m   The authors wish to add two authors to the ori\u001b[33m...\u001b[0m   \n",
       "\u001b[1;36m4568\u001b[0m   The current Special Issue entitled \"Advances i\u001b[33m...\u001b[0m   \n",
       "\u001b[1;36m5764\u001b[0m   We first want to thank the authors of the exce\u001b[33m...\u001b[0m   \n",
       "\u001b[1;36m6174\u001b[0m   Drug-induced liver injury \u001b[1m(\u001b[0mDILI\u001b[1m)\u001b[0m is a signific\u001b[33m...\u001b[0m   \n",
       "\u001b[1;36m6754\u001b[0m   Fast nondestructive detection technology in fo\u001b[33m...\u001b[0m   \n",
       "\u001b[1;36m7185\u001b[0m   Public health nutrition occupies a paramount p\u001b[33m...\u001b[0m   \n",
       "\u001b[1;36m7199\u001b[0m   Smart hydrogels possess both intelligent and r\u001b[33m...\u001b[0m   \n",
       "\u001b[1;36m7704\u001b[0m   The call for articles for the special section \u001b[33m...\u001b[0m   \n",
       "\u001b[1;36m8256\u001b[0m   Our advances in detection and feature extracti\u001b[33m...\u001b[0m   \n",
       "\u001b[1;36m8494\u001b[0m   Perception of the environment is an essential \u001b[33m...\u001b[0m   \n",
       "\u001b[1;36m8932\u001b[0m   In response to the commentary \"Response to 'Re\u001b[33m...\u001b[0m   \n",
       "\u001b[1;36m8946\u001b[0m   The spatial structure of minerals is a fundame\u001b[33m...\u001b[0m   \n",
       "\u001b[1;36m10523\u001b[0m  Food nutrition is generally defined as the hea\u001b[33m...\u001b[0m   \n",
       "\u001b[1;36m11821\u001b[0m  Optoelectronic functional crystals facilitate \u001b[33m...\u001b[0m   \n",
       "\u001b[1;36m11972\u001b[0m  Smart materials and structures are capable of \u001b[33m...\u001b[0m   \n",
       "\u001b[1;36m12048\u001b[0m  In recent years, the worldwide research in the\u001b[33m...\u001b[0m   \n",
       "\n",
       "                                                 Journal Language  Year Month  \n",
       "\u001b[1;36m3\u001b[0m                           Sensors \u001b[1m(\u001b[0mBasel, Switzerland\u001b[1m)\u001b[0m      eng  \u001b[1;36m2023\u001b[0m   Aug  \n",
       "\u001b[1;36m71\u001b[0m                          Sensors \u001b[1m(\u001b[0mBasel, Switzerland\u001b[1m)\u001b[0m      eng  \u001b[1;36m2023\u001b[0m   Aug  \n",
       "\u001b[1;36m72\u001b[0m                          Sensors \u001b[1m(\u001b[0mBasel, Switzerland\u001b[1m)\u001b[0m      eng  \u001b[1;36m2023\u001b[0m   Aug  \n",
       "\u001b[1;36m230\u001b[0m                         Sensors \u001b[1m(\u001b[0mBasel, Switzerland\u001b[1m)\u001b[0m      eng  \u001b[1;36m2023\u001b[0m   Aug  \n",
       "\u001b[1;36m1336\u001b[0m                        Journal of clinical medicine      eng  \u001b[1;36m2023\u001b[0m   Aug  \n",
       "\u001b[1;36m1567\u001b[0m                                           Nutrients      eng  \u001b[1;36m2023\u001b[0m   Aug  \n",
       "\u001b[1;36m3190\u001b[0m                        Sensors \u001b[1m(\u001b[0mBasel, Switzerland\u001b[1m)\u001b[0m      eng  \u001b[1;36m2023\u001b[0m   Sep  \n",
       "\u001b[1;36m3762\u001b[0m                        Sensors \u001b[1m(\u001b[0mBasel, Switzerland\u001b[1m)\u001b[0m      eng  \u001b[1;36m2023\u001b[0m   Sep  \n",
       "\u001b[1;36m4502\u001b[0m                        Journal of clinical medicine      eng  \u001b[1;36m2023\u001b[0m   Sep  \n",
       "\u001b[1;36m4563\u001b[0m                        Sensors \u001b[1m(\u001b[0mBasel, Switzerland\u001b[1m)\u001b[0m      eng  \u001b[1;36m2023\u001b[0m   Sep  \n",
       "\u001b[1;36m4568\u001b[0m                      Materials \u001b[1m(\u001b[0mBasel, Switzerland\u001b[1m)\u001b[0m      eng  \u001b[1;36m2023\u001b[0m   Aug  \n",
       "\u001b[1;36m5764\u001b[0m                        Medicina \u001b[1m(\u001b[0mKaunas, Lithuania\u001b[1m)\u001b[0m      eng  \u001b[1;36m2023\u001b[0m   Sep  \n",
       "\u001b[1;36m6174\u001b[0m                     Chemical research in toxicology      eng  \u001b[1;36m2023\u001b[0m   Sep  \n",
       "\u001b[1;36m6754\u001b[0m                          Foods \u001b[1m(\u001b[0mBasel, Switzerland\u001b[1m)\u001b[0m      eng  \u001b[1;36m2023\u001b[0m   Oct  \n",
       "\u001b[1;36m7185\u001b[0m                                           Nutrients      eng  \u001b[1;36m2023\u001b[0m   Oct  \n",
       "\u001b[1;36m7199\u001b[0m                           Gels \u001b[1m(\u001b[0mBasel, Switzerland\u001b[1m)\u001b[0m      eng  \u001b[1;36m2023\u001b[0m   Oct  \n",
       "\u001b[1;36m7704\u001b[0m                     Healthcare \u001b[1m(\u001b[0mBasel, Switzerland\u001b[1m)\u001b[0m      eng  \u001b[1;36m2023\u001b[0m   Oct  \n",
       "\u001b[1;36m8256\u001b[0m                        Sensors \u001b[1m(\u001b[0mBasel, Switzerland\u001b[1m)\u001b[0m      eng  \u001b[1;36m2023\u001b[0m   Sep  \n",
       "\u001b[1;36m8494\u001b[0m                        Sensors \u001b[1m(\u001b[0mBasel, Switzerland\u001b[1m)\u001b[0m      eng  \u001b[1;36m2023\u001b[0m   Oct  \n",
       "\u001b[1;36m8932\u001b[0m   Pathophysiology : the official journal of the \u001b[33m...\u001b[0m      eng  \u001b[1;36m2023\u001b[0m   Oct  \n",
       "\u001b[1;36m8946\u001b[0m                      Molecules \u001b[1m(\u001b[0mBasel, Switzerland\u001b[1m)\u001b[0m      eng  \u001b[1;36m2023\u001b[0m   Oct  \n",
       "\u001b[1;36m10523\u001b[0m                                          Nutrients      eng  \u001b[1;36m2023\u001b[0m   Oct  \n",
       "\u001b[1;36m11821\u001b[0m                     Materials \u001b[1m(\u001b[0mBasel, Switzerland\u001b[1m)\u001b[0m      eng  \u001b[1;36m2023\u001b[0m   Oct  \n",
       "\u001b[1;36m11972\u001b[0m                     Materials \u001b[1m(\u001b[0mBasel, Switzerland\u001b[1m)\u001b[0m      eng  \u001b[1;36m2023\u001b[0m   Nov  \n",
       "\u001b[1;36m12048\u001b[0m                 Nanomaterials \u001b[1m(\u001b[0mBasel, Switzerland\u001b[1m)\u001b[0m      eng  \u001b[1;36m2023\u001b[0m   Nov  "
      ]
     },
     "execution_count": 374,
     "metadata": {},
     "output_type": "execute_result"
    }
   ],
   "source": [
    "count_dots = df[df['Abstract'].str.contains('\\.\\.\\.')]\n",
    "count_dots"
   ]
  },
  {
   "cell_type": "markdown",
   "id": "5b96e827",
   "metadata": {},
   "source": [
    "df.to_csv(\"/Users/Kenneth/PycharmProjects/pubMedNLP/kedronlp/data/01_raw/extract_test.csv\", index=False)"
   ]
  },
  {
   "cell_type": "code",
   "execution_count": 365,
   "id": "4e22f790",
   "metadata": {},
   "outputs": [
    {
     "data": {
      "text/html": [
       "<pre style=\"white-space:pre;overflow-x:auto;line-height:normal;font-family:Menlo,'DejaVu Sans Mono',consolas,'Courier New',monospace\"></pre>\n"
      ],
      "text/plain": []
     },
     "metadata": {},
     "output_type": "display_data"
    },
    {
     "data": {
      "text/plain": [
       "\u001b[32m'In this Special Issue, we embark on a journey into the exciting field of intelligent soft sensors, and take a deep dive into the groundbreaking advances and potential that these software algorithms have introduced in various fields \u001b[0m\u001b[32m[\u001b[0m\u001b[32m...\u001b[0m\u001b[32m]\u001b[0m\u001b[32m.'\u001b[0m"
      ]
     },
     "execution_count": 365,
     "metadata": {},
     "output_type": "execute_result"
    }
   ],
   "source": [
    "str(test_abstract)"
   ]
  },
  {
   "cell_type": "code",
   "execution_count": 83,
   "id": "e8fc91bf",
   "metadata": {},
   "outputs": [
    {
     "data": {
      "text/html": [
       "<pre style=\"white-space:pre;overflow-x:auto;line-height:normal;font-family:Menlo,'DejaVu Sans Mono',consolas,'Courier New',monospace\"></pre>\n"
      ],
      "text/plain": []
     },
     "metadata": {},
     "output_type": "display_data"
    },
    {
     "data": {
      "text/plain": [
       "\n",
       "\u001b[1m[\u001b[0m\n",
       "    \u001b[32m'Dopaminergic projections regulate various brain functions and are implicated in many neuropsychiatric disorders.'\u001b[0m,\n",
       "    \u001b[32m'There are two anatomically and functionally distinct dopaminergic projections connecting the midbrain to striatum: nigrostriatal, which controls movement, and mesolimbic, which regulates motivation.'\u001b[0m,\n",
       "    \u001b[32m'However, how these discrete dopaminergic synaptic connections are established is unknown.'\u001b[0m,\n",
       "    \u001b[32m'Through an unbiased search, we identify that two groups of antagonistic TGF-β family members, bone morphogenetic protein \u001b[0m\u001b[32m(\u001b[0m\u001b[32mBMP\u001b[0m\u001b[32m)\u001b[0m\u001b[32m6/BMP2 and transforming growth factor \u001b[0m\u001b[32m(\u001b[0m\u001b[32mTGF\u001b[0m\u001b[32m)\u001b[0m\u001b[32m-β2, regulate dopaminergic synapse development of nigrostriatal and mesolimbic neurons, respectively.'\u001b[0m,\n",
       "    \u001b[32m'Projection-preferential expression of their receptors contributes to specific synapse development.'\u001b[0m,\n",
       "    \u001b[32m'Downstream, Smad1 and Smad2 are specifically activated and required for dopaminergic synapse development and function in nigrostriatal vs. mesolimbic projections.'\u001b[0m,\n",
       "    \u001b[32m'Remarkably, Smad1 mutant mice show motor defects, whereas Smad2 mutant mice show lack of motivation.'\u001b[0m,\n",
       "    \u001b[32m'These results uncover the molecular logic underlying the proper establishment of functionally segregated dopaminergic synapses and may provide strategies to treat relevant, projection-specific disease symptoms by targeting specific BMPs/TGF-β and/or Smads.'\u001b[0m\n",
       "\u001b[1m]\u001b[0m"
      ]
     },
     "execution_count": 83,
     "metadata": {},
     "output_type": "execute_result"
    }
   ],
   "source": [
    "[str(sent) for sent in doc.sents]"
   ]
  },
  {
   "cell_type": "code",
   "execution_count": 43,
   "id": "a9a821cb",
   "metadata": {},
   "outputs": [
    {
     "name": "stdout",
     "output_type": "stream",
     "text": [
      "(9, 768)\n"
     ]
    }
   ],
   "source": [
    "from sentence_transformers import SentenceTransformer\n",
    "model = SentenceTransformer(\"pritamdeka/S-PubMedBert-MS-MARCO\")\n",
    "embeddings = model.encode(sentences)\n",
    "print(embeddings.shape)"
   ]
  },
  {
   "cell_type": "code",
   "execution_count": 170,
   "id": "27d33cbc",
   "metadata": {},
   "outputs": [
    {
     "data": {
      "text/html": [
       "<pre style=\"white-space:pre;overflow-x:auto;line-height:normal;font-family:Menlo,'DejaVu Sans Mono',consolas,'Courier New',monospace\"></pre>\n"
      ],
      "text/plain": []
     },
     "metadata": {},
     "output_type": "display_data"
    },
    {
     "data": {
      "text/plain": [
       "."
      ]
     },
     "execution_count": 170,
     "metadata": {},
     "output_type": "execute_result"
    }
   ],
   "source": [
    "sentences"
   ]
  },
  {
   "cell_type": "code",
   "execution_count": 108,
   "id": "b1ace20e",
   "metadata": {},
   "outputs": [],
   "source": [
    "import spacy\n",
    "from sentence_transformers import SentenceTransformer\n",
    "model = SentenceTransformer(\"pritamdeka/S-PubMedBert-MS-MARCO\")\n"
   ]
  },
  {
   "cell_type": "code",
   "execution_count": 3,
   "id": "918ed945",
   "metadata": {},
   "outputs": [
    {
     "data": {
      "text/html": [
       "<pre style=\"white-space:pre;overflow-x:auto;line-height:normal;font-family:Menlo,'DejaVu Sans Mono',consolas,'Courier New',monospace\"><span style=\"color: #800000; text-decoration-color: #800000\">╭─────────────────────────────── </span><span style=\"color: #800000; text-decoration-color: #800000; font-weight: bold\">Traceback </span><span style=\"color: #bf7f7f; text-decoration-color: #bf7f7f; font-weight: bold\">(most recent call last)</span><span style=\"color: #800000; text-decoration-color: #800000\"> ────────────────────────────────╮</span>\n",
       "<span style=\"color: #800000; text-decoration-color: #800000\">│</span> in <span style=\"color: #00ff00; text-decoration-color: #00ff00\">&lt;module&gt;</span>:<span style=\"color: #0000ff; text-decoration-color: #0000ff\">1</span>                                                                                    <span style=\"color: #800000; text-decoration-color: #800000\">│</span>\n",
       "<span style=\"color: #800000; text-decoration-color: #800000\">│</span>                                                                                                  <span style=\"color: #800000; text-decoration-color: #800000\">│</span>\n",
       "<span style=\"color: #800000; text-decoration-color: #800000\">│</span> <span style=\"color: #800000; text-decoration-color: #800000\">❱ </span>1 test_abstract = df[<span style=\"color: #808000; text-decoration-color: #808000\">\"Abstract\"</span>][<span style=\"color: #0000ff; text-decoration-color: #0000ff\">2</span>]                                                            <span style=\"color: #800000; text-decoration-color: #800000\">│</span>\n",
       "<span style=\"color: #800000; text-decoration-color: #800000\">│</span>   <span style=\"color: #7f7f7f; text-decoration-color: #7f7f7f\">2 </span>                                                                                             <span style=\"color: #800000; text-decoration-color: #800000\">│</span>\n",
       "<span style=\"color: #800000; text-decoration-color: #800000\">╰──────────────────────────────────────────────────────────────────────────────────────────────────╯</span>\n",
       "<span style=\"color: #ff0000; text-decoration-color: #ff0000; font-weight: bold\">NameError: </span>name <span style=\"color: #008000; text-decoration-color: #008000\">'df'</span> is not defined\n",
       "</pre>\n"
      ],
      "text/plain": [
       "\u001b[31m╭─\u001b[0m\u001b[31m──────────────────────────────\u001b[0m\u001b[31m \u001b[0m\u001b[1;31mTraceback \u001b[0m\u001b[1;2;31m(most recent call last)\u001b[0m\u001b[31m \u001b[0m\u001b[31m───────────────────────────────\u001b[0m\u001b[31m─╮\u001b[0m\n",
       "\u001b[31m│\u001b[0m in \u001b[92m<module>\u001b[0m:\u001b[94m1\u001b[0m                                                                                    \u001b[31m│\u001b[0m\n",
       "\u001b[31m│\u001b[0m                                                                                                  \u001b[31m│\u001b[0m\n",
       "\u001b[31m│\u001b[0m \u001b[31m❱ \u001b[0m1 test_abstract = df[\u001b[33m\"\u001b[0m\u001b[33mAbstract\u001b[0m\u001b[33m\"\u001b[0m][\u001b[94m2\u001b[0m]                                                            \u001b[31m│\u001b[0m\n",
       "\u001b[31m│\u001b[0m   \u001b[2m2 \u001b[0m                                                                                             \u001b[31m│\u001b[0m\n",
       "\u001b[31m╰──────────────────────────────────────────────────────────────────────────────────────────────────╯\u001b[0m\n",
       "\u001b[1;91mNameError: \u001b[0mname \u001b[32m'df'\u001b[0m is not defined\n"
      ]
     },
     "metadata": {},
     "output_type": "display_data"
    }
   ],
   "source": [
    "test_abstract = df[\"Abstract\"][2]"
   ]
  },
  {
   "cell_type": "code",
   "execution_count": null,
   "id": "3924b69c",
   "metadata": {},
   "outputs": [],
   "source": [
    "def process(text: str):\n",
    "    nlp = spacy.load(\"en_core_web_sm\")\n",
    "    doc = nlp(str(text))\n",
    "    sents = [str(sent) for sent in doc.sents]\n",
    "    embeddings = model.encode(sents)\n",
    "    return list(doc.sents), embeddings\n",
    "\n",
    "def cluster_text(sents, vecs, threshold):\n",
    "    clusters = [[0]]\n",
    "    for i in range(1, len(sents)):\n",
    "        print(cosine_similarity(vecs[i].reshape(1, -1), vecs[i-1].reshape(1, -1)))\n",
    "        if cosine_similarity(vecs[i].reshape(1, -1), vecs[i-1].reshape(1, -1)) < threshold:\n",
    "            clusters.append([])\n",
    "        clusters[-1].append(i)\n",
    "    \n",
    "    return clusters\n",
    "\n",
    "def clean_text(text):\n",
    "    # Add your text cleaning process here\n",
    "    return text"
   ]
  },
  {
   "cell_type": "code",
   "execution_count": 215,
   "id": "336fce6d",
   "metadata": {},
   "outputs": [
    {
     "name": "stdout",
     "output_type": "stream",
     "text": [
      "[[0.9311791]]\n",
      "[[0.9205222]]\n",
      "[[0.91777414]]\n",
      "681\n",
      "[[0.9311791]]\n",
      "[[0.9205222]]\n",
      "[[0.91777414]]\n",
      "861\n",
      "[[0.9311791]]\n",
      "[[0.9205222]]\n",
      "[[0.91777414]]\n",
      "861\n",
      "[[0.9311791]]\n",
      "[[0.9205222]]\n",
      "[[0.91777414]]\n",
      "861\n",
      "[[0.9311791]]\n",
      "[[0.9205222]]\n",
      "[[0.91777414]]\n",
      "861\n",
      "[[0.9311791]]\n",
      "[[0.9205222]]\n",
      "[[0.91777414]]\n",
      "179\n",
      "[[0.9311791]]\n",
      "[[0.9205222]]\n",
      "[[0.91777414]]\n",
      "861\n",
      "[[0.9311791]]\n",
      "[[0.9205222]]\n",
      "[[0.91777414]]\n",
      "861\n",
      "[[0.9311791]]\n",
      "[[0.9205222]]\n",
      "[[0.91777414]]\n",
      "861\n",
      "[[0.9311791]]\n",
      "[[0.9205222]]\n",
      "[[0.91777414]]\n",
      "861\n",
      "[[0.9311791]]\n",
      "[[0.9205222]]\n",
      "[[0.91777414]]\n"
     ]
    }
   ],
   "source": [
    "\n",
    "# Initialize the clusters lengths list and final texts list\n",
    "clusters_lens = []\n",
    "final_texts = []\n",
    "\n",
    "# Process parameters\n",
    "initial_threshold = 0.92\n",
    "max_iterations = 5\n",
    "\n",
    "#text to be chunked\n",
    "sents, vecs = process(test_abstract)\n",
    "\n",
    "# Cluster the sentences\n",
    "clusters = cluster_text(sents, vecs, initial_threshold)\n",
    "\n",
    "for cluster in clusters:\n",
    "    iterations = 0\n",
    "    while iterations < max_iterations:\n",
    "        cluster_txt = clean_text(' '.join([sents[i].text for i in cluster]))\n",
    "        cluster_len = len(cluster_txt)\n",
    "        print(cluster_len)\n",
    "\n",
    "        # Check if the cluster is too short\n",
    "        if cluster_len < 180:\n",
    "            new_threshold = max(initial_threshold - 0.1 * iterations, 0.7)\n",
    "\n",
    "        # Check if cluster too large\n",
    "        elif cluster_len > 600:\n",
    "                new_threshold = min(0.95, initial_threshold + 0.1 * iterations)\n",
    "        else:\n",
    "            break  # If the cluster size is within the desired range, exit the loop\n",
    "\n",
    "        reclusters = cluster_text(sents, vecs, new_threshold)\n",
    "        cluster = [i for subcluster in reclusters for i in subcluster]\n",
    "\n",
    "        iterations +=1\n",
    "        \n",
    "    clusters_lens.append(cluster_len)\n",
    "    final_texts.append(cluster_txt)"
   ]
  },
  {
   "cell_type": "code",
   "execution_count": 216,
   "id": "ec4edd46",
   "metadata": {},
   "outputs": [
    {
     "data": {
      "text/html": [
       "<pre style=\"white-space:pre;overflow-x:auto;line-height:normal;font-family:Menlo,'DejaVu Sans Mono',consolas,'Courier New',monospace\"></pre>\n"
      ],
      "text/plain": []
     },
     "metadata": {},
     "output_type": "display_data"
    },
    {
     "data": {
      "text/plain": [
       "\n",
       "\u001b[1m[\u001b[0m\n",
       "    \u001b[32m\"The term 'open science' refers to a range of methods, tools, platforms and practices that aim to make scientific research more accessible, transparent, reproducible and reliable. This includes, for example, sharing code, data and research materials, embracing new publishing formats such as registered reports and preprints, pursuing replication studies and reanalyses, optimising statistical approaches to improve evidence assessment and re-evaluating institutional incentives. The ongoing shift towards open science practices is partly due to mounting evidence that studies across disciplines suffer from biases, underpowered designs and irreproducible or non-replicable results. It also stems from a general desire amongst many researchers to reduce hyper-competitivity in science and instead promote collaborative research that benefits science and society.\"\u001b[0m,\n",
       "    \u001b[32m\"The term 'open science' refers to a range of methods, tools, platforms and practices that aim to make scientific research more accessible, transparent, reproducible and reliable. This includes, for example, sharing code, data and research materials, embracing new publishing formats such as registered reports and preprints, pursuing replication studies and reanalyses, optimising statistical approaches to improve evidence assessment and re-evaluating institutional incentives. The ongoing shift towards open science practices is partly due to mounting evidence that studies across disciplines suffer from biases, underpowered designs and irreproducible or non-replicable results. It also stems from a general desire amongst many researchers to reduce hyper-competitivity in science and instead promote collaborative research that benefits science and society.\"\u001b[0m\n",
       "\u001b[1m]\u001b[0m"
      ]
     },
     "execution_count": 216,
     "metadata": {},
     "output_type": "execute_result"
    }
   ],
   "source": [
    "final_texts"
   ]
  },
  {
   "cell_type": "code",
   "execution_count": 2,
   "id": "9e845235",
   "metadata": {},
   "outputs": [
    {
     "data": {
      "text/html": [
       "<pre style=\"white-space:pre;overflow-x:auto;line-height:normal;font-family:Menlo,'DejaVu Sans Mono',consolas,'Courier New',monospace\"><span style=\"color: #800000; text-decoration-color: #800000\">╭─────────────────────────────── </span><span style=\"color: #800000; text-decoration-color: #800000; font-weight: bold\">Traceback </span><span style=\"color: #bf7f7f; text-decoration-color: #bf7f7f; font-weight: bold\">(most recent call last)</span><span style=\"color: #800000; text-decoration-color: #800000\"> ────────────────────────────────╮</span>\n",
       "<span style=\"color: #800000; text-decoration-color: #800000\">│</span> in <span style=\"color: #00ff00; text-decoration-color: #00ff00\">&lt;module&gt;</span>:<span style=\"color: #0000ff; text-decoration-color: #0000ff\">24</span>                                                                                   <span style=\"color: #800000; text-decoration-color: #800000\">│</span>\n",
       "<span style=\"color: #800000; text-decoration-color: #800000\">│</span>                                                                                                  <span style=\"color: #800000; text-decoration-color: #800000\">│</span>\n",
       "<span style=\"color: #800000; text-decoration-color: #800000\">│</span>   <span style=\"color: #7f7f7f; text-decoration-color: #7f7f7f\">21 # Process the chunk</span>                                                                         <span style=\"color: #800000; text-decoration-color: #800000\">│</span>\n",
       "<span style=\"color: #800000; text-decoration-color: #800000\">│</span>   <span style=\"color: #7f7f7f; text-decoration-color: #7f7f7f\">22 </span>initial_threshold = <span style=\"color: #0000ff; text-decoration-color: #0000ff\">0.8</span>                                                                     <span style=\"color: #800000; text-decoration-color: #800000\">│</span>\n",
       "<span style=\"color: #800000; text-decoration-color: #800000\">│</span>   <span style=\"color: #7f7f7f; text-decoration-color: #7f7f7f\">23 </span>max_iteration = <span style=\"color: #0000ff; text-decoration-color: #0000ff\">5</span>                                                                           <span style=\"color: #800000; text-decoration-color: #800000\">│</span>\n",
       "<span style=\"color: #800000; text-decoration-color: #800000\">│</span> <span style=\"color: #800000; text-decoration-color: #800000\">❱ </span>24 sents, vecs = process(test_abstract)                                                        <span style=\"color: #800000; text-decoration-color: #800000\">│</span>\n",
       "<span style=\"color: #800000; text-decoration-color: #800000\">│</span>   <span style=\"color: #7f7f7f; text-decoration-color: #7f7f7f\">25 </span>                                                                                            <span style=\"color: #800000; text-decoration-color: #800000\">│</span>\n",
       "<span style=\"color: #800000; text-decoration-color: #800000\">│</span>   <span style=\"color: #7f7f7f; text-decoration-color: #7f7f7f\">26 # Cluster the sentences</span>                                                                     <span style=\"color: #800000; text-decoration-color: #800000\">│</span>\n",
       "<span style=\"color: #800000; text-decoration-color: #800000\">│</span>   <span style=\"color: #7f7f7f; text-decoration-color: #7f7f7f\">27 </span>clusters = cluster_text(sents, vecs, initial_threshold)                                     <span style=\"color: #800000; text-decoration-color: #800000\">│</span>\n",
       "<span style=\"color: #800000; text-decoration-color: #800000\">╰──────────────────────────────────────────────────────────────────────────────────────────────────╯</span>\n",
       "<span style=\"color: #ff0000; text-decoration-color: #ff0000; font-weight: bold\">NameError: </span>name <span style=\"color: #008000; text-decoration-color: #008000\">'test_abstract'</span> is not defined\n",
       "</pre>\n"
      ],
      "text/plain": [
       "\u001b[31m╭─\u001b[0m\u001b[31m──────────────────────────────\u001b[0m\u001b[31m \u001b[0m\u001b[1;31mTraceback \u001b[0m\u001b[1;2;31m(most recent call last)\u001b[0m\u001b[31m \u001b[0m\u001b[31m───────────────────────────────\u001b[0m\u001b[31m─╮\u001b[0m\n",
       "\u001b[31m│\u001b[0m in \u001b[92m<module>\u001b[0m:\u001b[94m24\u001b[0m                                                                                   \u001b[31m│\u001b[0m\n",
       "\u001b[31m│\u001b[0m                                                                                                  \u001b[31m│\u001b[0m\n",
       "\u001b[31m│\u001b[0m   \u001b[2m21 \u001b[0m\u001b[2m# Process the chunk\u001b[0m                                                                         \u001b[31m│\u001b[0m\n",
       "\u001b[31m│\u001b[0m   \u001b[2m22 \u001b[0minitial_threshold = \u001b[94m0.8\u001b[0m                                                                     \u001b[31m│\u001b[0m\n",
       "\u001b[31m│\u001b[0m   \u001b[2m23 \u001b[0mmax_iteration = \u001b[94m5\u001b[0m                                                                           \u001b[31m│\u001b[0m\n",
       "\u001b[31m│\u001b[0m \u001b[31m❱ \u001b[0m24 sents, vecs = process(test_abstract)                                                        \u001b[31m│\u001b[0m\n",
       "\u001b[31m│\u001b[0m   \u001b[2m25 \u001b[0m                                                                                            \u001b[31m│\u001b[0m\n",
       "\u001b[31m│\u001b[0m   \u001b[2m26 \u001b[0m\u001b[2m# Cluster the sentences\u001b[0m                                                                     \u001b[31m│\u001b[0m\n",
       "\u001b[31m│\u001b[0m   \u001b[2m27 \u001b[0mclusters = cluster_text(sents, vecs, initial_threshold)                                     \u001b[31m│\u001b[0m\n",
       "\u001b[31m╰──────────────────────────────────────────────────────────────────────────────────────────────────╯\u001b[0m\n",
       "\u001b[1;91mNameError: \u001b[0mname \u001b[32m'test_abstract'\u001b[0m is not defined\n"
      ]
     },
     "metadata": {},
     "output_type": "display_data"
    }
   ],
   "source": [
    "def process(text: str):\n",
    "    nlp = spacy.load(\"en_core_web_sm\")\n",
    "    doc = nlp(str(text))\n",
    "    sents = [str(sent) for sent in doc.sents]\n",
    "    embeddings = model.encode(sents)\n",
    "    return list(doc.sents), embeddings\n",
    "\n",
    "def cluster_text(sents, vecs, threshold):\n",
    "    clusters = [[0]]\n",
    "    for i in range(1, len(sents)):\n",
    "        if cosine_similarity(vecs[i].reshape(1, -1), vecs[i-1].reshape(1, -1)) < threshold:\n",
    "            clusters.append([])\n",
    "        clusters[-1].append(i)\n",
    "    return clusters\n",
    "\n",
    "\n",
    "# Initialize the clusters lengths list and final texts list\n",
    "clusters_lens = []\n",
    "final_texts = []\n",
    "\n",
    "# Process the chunk\n",
    "initial_threshold = 0.8\n",
    "max_iteration = 5\n",
    "sents, vecs = process(test_abstract)\n",
    "\n",
    "# Cluster the sentences\n",
    "clusters = cluster_text(sents, vecs, initial_threshold)\n",
    "\n",
    "for cluster in clusters:\n",
    "    cluster_txt = ' '.join([sents[i].text for i in cluster])\n",
    "    cluster_len = len(cluster_txt)\n",
    "    print(f\"cluster_txt: {cluster_txt}\")\n",
    "\n",
    "    \n",
    "    # Check if the cluster is too long\n",
    "    if cluster_len > 700:\n",
    "        iterator = 1\n",
    "        # Track the best subcluster lengths\n",
    "        best_num_paragraphs = 500 #initialize with a large value\n",
    "        best_div_texts = [] \n",
    "        while cluster_len > 700:\n",
    "            div_lens = []\n",
    "            div_texts = []\n",
    "            len_collector = []\n",
    "            threshold = min(initial_threshold+(0.02*iterator), 0.95)\n",
    "            sents_div, vecs_div = process(cluster_txt)\n",
    "            reclusters = cluster_text(sents_div, vecs_div, threshold)\n",
    "\n",
    "            for subcluster in reclusters:\n",
    "                div_txt = ' '.join([sents_div[i].text for i in subcluster])\n",
    "                div_len = len(div_txt)\n",
    "                len_collector.append(div_len)\n",
    "                print(f\"div_len: {div_len}\")\n",
    "\n",
    "                if div_len > 60 and div_len < 800:\n",
    "                    div_lens.append(div_len)\n",
    "                    div_texts.append(div_txt)\n",
    "                \n",
    "                cluster_len = max(len_collector)\n",
    "                \n",
    "            \n",
    "            \"\"\"#pick the clustering into as few clusters as possible\n",
    "            if len(div_lens) < best_num_paragraphs and len(div_lens)>0:\n",
    "                best_div_texts = div_texts\n",
    "                best_num_paragraphs = len(div_lens)\"\"\"\n",
    "\n",
    "            iterator+=1\n",
    "            \n",
    "            print(f\"div_lens {iterator}: {div_lens}\")\n",
    "            #print(f\"best_div_lens {iterator}: {best_num_paragraphs}\")\n",
    "            \n",
    "        clusters_lens.extend(div_lens) #best_div_lens\n",
    "        final_texts.extend(div_texts)  #best_div_texts\n",
    "            \n",
    "    else:\n",
    "        clusters_lens.append(cluster_len)\n",
    "        final_texts.append(cluster_txt)"
   ]
  },
  {
   "cell_type": "code",
   "execution_count": 348,
   "id": "aac2f413",
   "metadata": {},
   "outputs": [
    {
     "data": {
      "text/html": [
       "<pre style=\"white-space:pre;overflow-x:auto;line-height:normal;font-family:Menlo,'DejaVu Sans Mono',consolas,'Courier New',monospace\"></pre>\n"
      ],
      "text/plain": []
     },
     "metadata": {},
     "output_type": "display_data"
    },
    {
     "data": {
      "text/plain": [
       "\u001b[1;36m1684\u001b[0m"
      ]
     },
     "execution_count": 348,
     "metadata": {},
     "output_type": "execute_result"
    }
   ],
   "source": [
    "sum([88, 421, 140, 100, 252, 351, 134, 198])"
   ]
  },
  {
   "cell_type": "code",
   "execution_count": 362,
   "id": "35dfdb78",
   "metadata": {},
   "outputs": [
    {
     "name": "stdout",
     "output_type": "stream",
     "text": [
      "88\n",
      "421\n",
      "140\n",
      "100\n",
      "252\n",
      "351\n",
      "134\n",
      "198\n"
     ]
    }
   ],
   "source": [
    "for text in final_texts: \n",
    "    print(len(text))"
   ]
  },
  {
   "cell_type": "code",
   "execution_count": 363,
   "id": "9798ce52",
   "metadata": {},
   "outputs": [
    {
     "data": {
      "text/html": [
       "<pre style=\"white-space:pre;overflow-x:auto;line-height:normal;font-family:Menlo,'DejaVu Sans Mono',consolas,'Courier New',monospace\"></pre>\n"
      ],
      "text/plain": []
     },
     "metadata": {},
     "output_type": "display_data"
    },
    {
     "data": {
      "text/plain": [
       "\n",
       "\u001b[1m[\u001b[0m\n",
       "    \u001b[32m'External rewards such as food and money are potent modifiers of behaviour\u001b[0m\u001b[32m<\u001b[0m\u001b[32msup\u001b[0m\u001b[32m>1,2</sup>.'\u001b[0m\u001b[39m,\u001b[0m\n",
       "\u001b[39m    \u001b[0m\u001b[32m'Pioneering studies established that these salient sensory stimuli briefly interrupt the tonic discharge of neurons that produce the neuromodulators dopamine \u001b[0m\u001b[32m(\u001b[0m\u001b[32mDA\u001b[0m\u001b[32m)\u001b[0m\u001b[32m and acetylcholine \u001b[0m\u001b[32m(\u001b[0m\u001b[32mACh\u001b[0m\u001b[32m)\u001b[0m\u001b[32m: midbrain DA neurons \u001b[0m\u001b[32m(\u001b[0m\u001b[32mDANs\u001b[0m\u001b[32m)\u001b[0m\u001b[32m fire a burst of action potentials that broadly elevates DA in the striatum<sup>3,4</sup> at the same time that striatal cholinergic interneurons \u001b[0m\u001b[32m(\u001b[0m\u001b[32mCINs\u001b[0m\u001b[32m)\u001b[0m\u001b[32m produce a characteristic pause in firing<sup>5,6</sup>.'\u001b[0m\u001b[39m,\u001b[0m\n",
       "\u001b[39m    \u001b[0m\u001b[32m'These phasic responses are thought to create unique, temporally limited conditions that motivate action and promote learning<sup>7-11</sup\u001b[0m\u001b[32m>\u001b[0m\u001b[32m.'\u001b[0m,\n",
       "    \u001b[32m'However, the dynamics of DA and ACh outside explicitly rewarded situations remain poorly understood.'\u001b[0m,\n",
       "    \u001b[32m'Here we show that extracellular DA and ACh levels fluctuate spontaneously and periodically at a frequency of approximately 2\\u2009Hz in the dorsal\\xa0striatum of mice and maintain the same temporal relationship relative to one another as that evoked by reward.'\u001b[0m,\n",
       "    \u001b[32m'We show that this neuromodulatory coordination does not arise from direct interactions between DA and ACh within the striatum. Instead, we provide evidence that periodic fluctuations in striatal DA are inherited from midbrain DANs, while striatal ACh transients are driven by glutamatergic inputs, which act to locally synchronize the spiking of CINs.'\u001b[0m,\n",
       "    \u001b[32m'Together, our findings show that striatal neuromodulatory dynamics are autonomously organized by distributed extra-striatal afferents.'\u001b[0m,\n",
       "    \u001b[32m'The dominance of intrinsic rhythms in DA and ACh offers new insights for explaining how reward-associated neural dynamics emerge and how the brain motivates action and promotes learning from within.'\u001b[0m\n",
       "\u001b[1m]\u001b[0m"
      ]
     },
     "execution_count": 363,
     "metadata": {},
     "output_type": "execute_result"
    }
   ],
   "source": [
    "final_texts"
   ]
  },
  {
   "cell_type": "code",
   "execution_count": 311,
   "id": "6e415b67",
   "metadata": {},
   "outputs": [
    {
     "data": {
      "text/html": [
       "<pre style=\"white-space:pre;overflow-x:auto;line-height:normal;font-family:Menlo,'DejaVu Sans Mono',consolas,'Courier New',monospace\"></pre>\n"
      ],
      "text/plain": []
     },
     "metadata": {},
     "output_type": "display_data"
    },
    {
     "data": {
      "text/plain": [
       "\n",
       "\u001b[1m[\u001b[0m\n",
       "    \u001b[32m\"The term 'open science' refers to a range of methods, tools, platforms and practices that aim to make scientific research more accessible, transparent, reproducible and reliable.\"\u001b[0m,\n",
       "    \u001b[32m'This includes, for example, sharing code, data and research materials, embracing new publishing formats such as registered reports and preprints, pursuing replication studies and reanalyses, optimising statistical approaches to improve evidence assessment and re-evaluating institutional incentives.'\u001b[0m,\n",
       "    \u001b[32m'The ongoing shift towards open science practices is partly due to mounting evidence that studies across disciplines suffer from biases, underpowered designs and irreproducible or non-replicable results.'\u001b[0m,\n",
       "    \u001b[32m'It also stems from a general desire amongst many researchers to reduce hyper-competitivity in science and instead promote collaborative research that benefits science and society.'\u001b[0m\n",
       "\u001b[1m]\u001b[0m"
      ]
     },
     "execution_count": 311,
     "metadata": {},
     "output_type": "execute_result"
    }
   ],
   "source": [
    "docss = nlp(\"The term 'open science' refers to a range of methods, tools, platforms and practices that aim to make scientific research more accessible, transparent, reproducible and reliable. This includes, for example, sharing code, data and research materials, embracing new publishing formats such as registered reports and preprints, pursuing replication studies and reanalyses, optimising statistical approaches to improve evidence assessment and re-evaluating institutional incentives. The ongoing shift towards open science practices is partly due to mounting evidence that studies across disciplines suffer from biases, underpowered designs and irreproducible or non-replicable results. It also stems from a general desire amongst many researchers to reduce hyper-competitivity in science and instead promote collaborative research that benefits science and society.\")\n",
    "paragraphs = [paragraph.text.strip() for paragraph in docss.sents if paragraph.text.strip()]\n",
    "paragraphs"
   ]
  },
  {
   "cell_type": "code",
   "execution_count": 302,
   "id": "92612f4c",
   "metadata": {},
   "outputs": [
    {
     "data": {
      "text/html": [
       "<pre style=\"white-space:pre;overflow-x:auto;line-height:normal;font-family:Menlo,'DejaVu Sans Mono',consolas,'Courier New',monospace\"></pre>\n"
      ],
      "text/plain": []
     },
     "metadata": {},
     "output_type": "display_data"
    },
    {
     "data": {
      "text/plain": [
       "\u001b[1;36m0\u001b[0m"
      ]
     },
     "execution_count": 302,
     "metadata": {},
     "output_type": "execute_result"
    }
   ],
   "source": [
    "len(best_div_lens)"
   ]
  },
  {
   "cell_type": "code",
   "execution_count": null,
   "id": "b4434025",
   "metadata": {},
   "outputs": [],
   "source": [
    "  if cluster_len < 180:\n",
    "        iterator = 1\n",
    "        while iterator < max_iteration: \n",
    "            threshold = min(initial_threshold-0.1*iterator, 0.7)\n",
    "            sents_div, vecs_div = process(cluster_txt)\n",
    "            reclusters = cluster_text(sents_div, vecs_div, threshold)\n",
    "\n",
    "            for subcluster in reclusters:\n",
    "                div_txt = clean_text(' '.join([sents_div[i].text for i in subcluster]))\n",
    "                div_len = len(div_txt)\n",
    "\n",
    "                if div_len > 60 or div_len < 700:\n",
    "                    clusters_lens.append(div_len)\n",
    "                    final_texts.append(div_txt)\n",
    "                    continue\n",
    "                else: \n",
    "                    iterator+=1\n",
    "                    break"
   ]
  },
  {
   "cell_type": "code",
   "execution_count": 296,
   "id": "f085109e",
   "metadata": {},
   "outputs": [
    {
     "data": {
      "text/html": [
       "<pre style=\"white-space:pre;overflow-x:auto;line-height:normal;font-family:Menlo,'DejaVu Sans Mono',consolas,'Courier New',monospace\"></pre>\n"
      ],
      "text/plain": []
     },
     "metadata": {},
     "output_type": "display_data"
    },
    {
     "data": {
      "text/plain": [
       "\u001b[1m[\u001b[0m\u001b[1;36m178\u001b[0m, \u001b[1;36m299\u001b[0m, \u001b[1;36m202\u001b[0m, \u001b[1;36m179\u001b[0m\u001b[1m]\u001b[0m"
      ]
     },
     "execution_count": 296,
     "metadata": {},
     "output_type": "execute_result"
    }
   ],
   "source": [
    "clusters_lens"
   ]
  },
  {
   "cell_type": "code",
   "execution_count": 308,
   "id": "75c110ad",
   "metadata": {},
   "outputs": [
    {
     "data": {
      "text/html": [
       "<pre style=\"white-space:pre;overflow-x:auto;line-height:normal;font-family:Menlo,'DejaVu Sans Mono',consolas,'Courier New',monospace\"></pre>\n"
      ],
      "text/plain": []
     },
     "metadata": {},
     "output_type": "display_data"
    },
    {
     "data": {
      "text/plain": [
       "\n",
       "\u001b[1m[\u001b[0m\n",
       "    \u001b[32m\"The term 'open science' refers to a range of methods, tools, platforms and practices that aim to make scientific research more accessible, transparent, reproducible and reliable. This includes, for example, sharing code, data and research materials, embracing new publishing formats such as registered reports and preprints, pursuing replication studies and reanalyses, optimising statistical approaches to improve evidence assessment and re-evaluating institutional incentives. The ongoing shift towards open science practices is partly due to mounting evidence that studies across disciplines suffer from biases, underpowered designs and irreproducible or non-replicable results.\"\u001b[0m,\n",
       "    \u001b[32m'It also stems from a general desire amongst many researchers to reduce hyper-competitivity in science and instead promote collaborative research that benefits science and society.'\u001b[0m\n",
       "\u001b[1m]\u001b[0m"
      ]
     },
     "execution_count": 308,
     "metadata": {},
     "output_type": "execute_result"
    }
   ],
   "source": [
    "final_texts"
   ]
  },
  {
   "cell_type": "code",
   "execution_count": 171,
   "id": "ed3386fe",
   "metadata": {},
   "outputs": [],
   "source": [
    "sents, embeds = process(test_abstract)"
   ]
  },
  {
   "cell_type": "code",
   "execution_count": 124,
   "id": "ca8afa4f",
   "metadata": {},
   "outputs": [
    {
     "data": {
      "text/html": [
       "<pre style=\"white-space:pre;overflow-x:auto;line-height:normal;font-family:Menlo,'DejaVu Sans Mono',consolas,'Courier New',monospace\"></pre>\n"
      ],
      "text/plain": []
     },
     "metadata": {},
     "output_type": "display_data"
    },
    {
     "data": {
      "text/plain": [
       "\u001b[1;36m207.00006\u001b[0m"
      ]
     },
     "execution_count": 124,
     "metadata": {},
     "output_type": "execute_result"
    }
   ],
   "source": [
    "np.dot(vecs[1], vecs[2])"
   ]
  },
  {
   "cell_type": "code",
   "execution_count": 128,
   "id": "5e0e3594",
   "metadata": {},
   "outputs": [
    {
     "data": {
      "text/html": [
       "<pre style=\"white-space:pre;overflow-x:auto;line-height:normal;font-family:Menlo,'DejaVu Sans Mono',consolas,'Courier New',monospace\"></pre>\n"
      ],
      "text/plain": []
     },
     "metadata": {},
     "output_type": "display_data"
    },
    {
     "data": {
      "text/plain": [
       "\n",
       "\u001b[1m[\u001b[0m\n",
       "    Dopaminergic projections regulate various brain functions and are implicated in many neuropsychiatric disorders.,\n",
       "    There are two anatomically and functionally distinct dopaminergic projections connecting the midbrain to striatum: nigrostriatal, which controls movement, and mesolimbic, which regulates motivation.,\n",
       "    However, how these discrete dopaminergic synaptic connections are established is unknown.,\n",
       "    Through an unbiased search, we identify that two groups of antagonistic TGF-β family members, bone morphogenetic protein \u001b[1m(\u001b[0mBMP\u001b[1m)\u001b[0m\u001b[1;36m6\u001b[0m/BMP2 and transforming growth factor \u001b[1m(\u001b[0mTGF\u001b[1m)\u001b[0m-β2, regulate dopaminergic synapse development of nigrostriatal and mesolimbic neurons, respectively.,\n",
       "    Projection-preferential expression of their receptors contributes to specific synapse development.,\n",
       "    Downstream, Smad1 and Smad2 are specifically activated and required for dopaminergic synapse development and function in nigrostriatal vs. mesolimbic projections.,\n",
       "    Remarkably, Smad1 mutant mice show motor defects, whereas Smad2 mutant mice show lack of motivation.,\n",
       "    These results uncover the molecular logic underlying the proper establishment of functionally segregated dopaminergic synapses and may provide strategies to treat relevant, projection-specific disease symptoms by targeting specific BMPs/TGF-β and/or Smads.\n",
       "\u001b[1m]\u001b[0m"
      ]
     },
     "execution_count": 128,
     "metadata": {},
     "output_type": "execute_result"
    }
   ],
   "source": [
    "sents"
   ]
  },
  {
   "cell_type": "code",
   "execution_count": 158,
   "id": "c33bc4a8",
   "metadata": {},
   "outputs": [],
   "source": [
    "import pandas as pd\n",
    "import numpy as np\n",
    "# Library to import pre-trained model for sentence embeddings\n",
    "from sentence_transformers import SentenceTransformer\n",
    "# Calculate similarities between sentences\n",
    "from sklearn.metrics.pairwise import cosine_similarity\n",
    "# Visualization library\n",
    "import seaborn as sns\n",
    "import matplotlib.pyplot as plt\n",
    "# package for finding local minimas\n",
    "from scipy.signal import argrelextrema\n",
    "import math"
   ]
  },
  {
   "cell_type": "code",
   "execution_count": 168,
   "id": "bdf59d29",
   "metadata": {},
   "outputs": [
    {
     "data": {
      "text/html": [
       "<pre style=\"white-space:pre;overflow-x:auto;line-height:normal;font-family:Menlo,'DejaVu Sans Mono',consolas,'Courier New',monospace\"></pre>\n"
      ],
      "text/plain": []
     },
     "metadata": {},
     "output_type": "display_data"
    },
    {
     "data": {
      "text/plain": [
       "\u001b[1;36m9\u001b[0m"
      ]
     },
     "execution_count": 168,
     "metadata": {},
     "output_type": "execute_result"
    }
   ],
   "source": [
    "len(embeddings)"
   ]
  },
  {
   "cell_type": "code",
   "execution_count": 332,
   "id": "b5e3e123",
   "metadata": {},
   "outputs": [
    {
     "data": {
      "text/html": [
       "<pre style=\"white-space:pre;overflow-x:auto;line-height:normal;font-family:Menlo,'DejaVu Sans Mono',consolas,'Courier New',monospace\"></pre>\n"
      ],
      "text/plain": []
     },
     "metadata": {},
     "output_type": "display_data"
    },
    {
     "data": {
      "text/plain": [
       "\u001b[1;35mText\u001b[0m\u001b[1m(\u001b[0m\u001b[1;36m0.5\u001b[0m, \u001b[1;36m1.0\u001b[0m, \u001b[32m'Cosine similarities matrix'\u001b[0m\u001b[1m)\u001b[0m"
      ]
     },
     "execution_count": 332,
     "metadata": {},
     "output_type": "execute_result"
    },
    {
     "data": {
      "text/html": [
       "<pre style=\"white-space:pre;overflow-x:auto;line-height:normal;font-family:Menlo,'DejaVu Sans Mono',consolas,'Courier New',monospace\"></pre>\n"
      ],
      "text/plain": []
     },
     "metadata": {},
     "output_type": "display_data"
    },
    {
     "data": {
      "image/png": "[encoded data removed]",
      "text/plain": [
       "\u001b[1m<\u001b[0m\u001b[1;95mFigure\u001b[0m\u001b[39m size 64\u001b[0m\u001b[1;36m0x480\u001b[0m\u001b[39m with \u001b[0m\u001b[1;36m2\u001b[0m\u001b[39m Axes\u001b[0m\u001b[1m>\u001b[0m"
      ]
     },
     "metadata": {},
     "output_type": "display_data"
    }
   ],
   "source": [
    "similarities = cosine_similarity(vecs)\n",
    "sns.heatmap(similarities,annot=True).set_title('Cosine similarities matrix')"
   ]
  },
  {
   "cell_type": "code",
   "execution_count": 162,
   "id": "57bcf0d6",
   "metadata": {},
   "outputs": [
    {
     "data": {
      "text/html": [
       "<pre style=\"white-space:pre;overflow-x:auto;line-height:normal;font-family:Menlo,'DejaVu Sans Mono',consolas,'Courier New',monospace\"></pre>\n"
      ],
      "text/plain": []
     },
     "metadata": {},
     "output_type": "display_data"
    },
    {
     "data": {
      "text/plain": [
       "\u001b[1m<\u001b[0m\u001b[1;95mmatplotlib.collections.LineCollection\u001b[0m\u001b[39m object at \u001b[0m\u001b[1;36m0x261a82190\u001b[0m\u001b[1m>\u001b[0m"
      ]
     },
     "execution_count": 162,
     "metadata": {},
     "output_type": "execute_result"
    },
    {
     "data": {
      "text/html": [
       "<pre style=\"white-space:pre;overflow-x:auto;line-height:normal;font-family:Menlo,'DejaVu Sans Mono',consolas,'Courier New',monospace\"></pre>\n"
      ],
      "text/plain": []
     },
     "metadata": {},
     "output_type": "display_data"
    },
    {
     "data": {
      "image/png": "[encoded data removed]",
      "text/plain": [
       "\u001b[1m<\u001b[0m\u001b[1;95mFigure\u001b[0m\u001b[39m size 64\u001b[0m\u001b[1;36m0x480\u001b[0m\u001b[39m with \u001b[0m\u001b[1;36m1\u001b[0m\u001b[39m Axes\u001b[0m\u001b[1m>\u001b[0m"
      ]
     },
     "metadata": {},
     "output_type": "display_data"
    }
   ],
   "source": [
    "def rev_sigmoid(x:float)->float:\n",
    "    return (1 / (1 + math.exp(0.5*x)))\n",
    "    \n",
    "def activate_similarities(similarities:np.array, p_size=10)->np.array:\n",
    "        \"\"\" Function returns list of weighted sums of activated sentence similarities\n",
    "        Args:\n",
    "            similarities (numpy array): it should square matrix where each sentence corresponds to another with cosine similarity\n",
    "            p_size (int): number of sentences are used to calculate weighted sum \n",
    "        Returns:\n",
    "            list: list of weighted sums\n",
    "        \"\"\"\n",
    "        # To create weights for sigmoid function we first have to create space. P_size will determine number of sentences used and the size of weights vector.\n",
    "        x = np.linspace(-10,10,p_size)\n",
    "        # Then we need to apply activation function to the created space\n",
    "        y = np.vectorize(rev_sigmoid) \n",
    "        # Because we only apply activation to p_size number of sentences we have to add zeros to neglect the effect of every additional sentence and to match the length ofvector we will multiply\n",
    "        activation_weights = np.pad(y(x),(0,similarities.shape[0]-p_size))\n",
    "        ### 1. Take each diagonal to the right of the main diagonal\n",
    "        diagonals = [similarities.diagonal(each) for each in range(0,similarities.shape[0])]\n",
    "        ### 2. Pad each diagonal by zeros at the end. Because each diagonal is different length we should pad it with zeros at the end\n",
    "        diagonals = [np.pad(each, (0,similarities.shape[0]-len(each))) for each in diagonals]\n",
    "        ### 3. Stack those diagonals into new matrix\n",
    "        diagonals = np.stack(diagonals)\n",
    "        ### 4. Apply activation weights to each row. Multiply similarities with our activation.\n",
    "        diagonals = diagonals * activation_weights.reshape(-1,1)\n",
    "        ### 5. Calculate the weighted sum of activated similarities\n",
    "        activated_similarities = np.sum(diagonals, axis=0)\n",
    "        return activated_similarities\n",
    "  \n",
    "# Lets apply our function. For long sentences i reccomend to use 10 or more sentences\n",
    "activated_similarities = activate_similarities(similarities, p_size=5)\n",
    "\n",
    "# lets create empty fig for our plor\n",
    "fig, ax = plt.subplots()\n",
    "### 6. Find relative minima of our vector. For all local minimas and save them to variable with argrelextrema function\n",
    "minmimas = argrelextrema(activated_similarities, np.less, order=2) #order parameter controls how frequent should be splits. I would not reccomend changing this parameter.\n",
    "# plot the flow of our text with activated similarities\n",
    "sns.lineplot(y=activated_similarities, x=range(len(activated_similarities)), ax=ax).set_title('Relative minimas');\n",
    "# Now lets plot vertical lines in order to see where we created the split\n",
    "plt.vlines(x=minmimas, ymin=min(activated_similarities), ymax=max(activated_similarities), colors='purple', ls='--', lw=1, label='vline_multiple - full height')"
   ]
  },
  {
   "cell_type": "code",
   "execution_count": 44,
   "id": "840c1bde",
   "metadata": {},
   "outputs": [],
   "source": [
    "\n",
    "#Get the order number of the sentences which are in splitting points\n",
    "split_points = [each for each in minmimas[0]]\n",
    "# Create empty string\n",
    "text = ''\n",
    "for num,each in enumerate(sentences):\n",
    "    # Check if sentence is a minima (splitting point)\n",
    "    if num in split_points:\n",
    "        # If it is than add a dot to the end of the sentence and a paragraph before it.\n",
    "        text+=f'\\n\\n {each}. '\n",
    "    else:\n",
    "        # If it is a normal sentence just add a dot to the end and keep adding sentences.\n",
    "        text+=f'{each}. '"
   ]
  },
  {
   "cell_type": "code",
   "execution_count": 46,
   "id": "a35ac707",
   "metadata": {},
   "outputs": [
    {
     "data": {
      "text/html": [
       "<pre style=\"white-space:pre;overflow-x:auto;line-height:normal;font-family:Menlo,'DejaVu Sans Mono',consolas,'Courier New',monospace\"></pre>\n"
      ],
      "text/plain": []
     },
     "metadata": {},
     "output_type": "display_data"
    },
    {
     "data": {
      "text/plain": [
       "\u001b[1m[\u001b[0m\u001b[1m]\u001b[0m"
      ]
     },
     "execution_count": 46,
     "metadata": {},
     "output_type": "execute_result"
    }
   ],
   "source": [
    "split_points"
   ]
  },
  {
   "cell_type": "code",
   "execution_count": 47,
   "id": "cff3ff8b",
   "metadata": {},
   "outputs": [
    {
     "data": {
      "text/html": [
       "<pre style=\"white-space:pre;overflow-x:auto;line-height:normal;font-family:Menlo,'DejaVu Sans Mono',consolas,'Courier New',monospace\"></pre>\n"
      ],
      "text/plain": []
     },
     "metadata": {},
     "output_type": "display_data"
    },
    {
     "data": {
      "text/plain": [
       "\u001b[32m'Dopaminergic projections regulate various brain functions and are implicated in many neuropsychiatric disorders. There are two anatomically and functionally distinct dopaminergic projections connecting the midbrain to striatum: nigrostriatal, which controls movement, and mesolimbic, which regulates motivation. However, how these discrete dopaminergic synaptic connections are established is unknown. Through an unbiased search, we identify that two groups of antagonistic TGF-β family members, bone morphogenetic protein \u001b[0m\u001b[32m(\u001b[0m\u001b[32mBMP\u001b[0m\u001b[32m)\u001b[0m\u001b[32m6/BMP2 and transforming growth factor \u001b[0m\u001b[32m(\u001b[0m\u001b[32mTGF\u001b[0m\u001b[32m)\u001b[0m\u001b[32m-β2, regulate dopaminergic synapse development of nigrostriatal and mesolimbic neurons, respectively. Projection-preferential expression of their receptors contributes to specific synapse development. Downstream, Smad1 and Smad2 are specifically activated and required for dopaminergic synapse development and function in nigrostriatal vs. mesolimbic projections. Remarkably, Smad1 mutant mice show motor defects, whereas Smad2 mutant mice show lack of motivation. These results uncover the molecular logic underlying the proper establishment of functionally segregated dopaminergic synapses and may provide strategies to treat relevant, projection-specific disease symptoms by targeting specific BMPs/TGF-β and/or Smads.'\u001b[0m"
      ]
     },
     "execution_count": 47,
     "metadata": {},
     "output_type": "execute_result"
    }
   ],
   "source": [
    "test_abstract"
   ]
  },
  {
   "cell_type": "code",
   "execution_count": null,
   "id": "2879cc2a",
   "metadata": {},
   "outputs": [],
   "source": []
  },
  {
   "cell_type": "code",
   "execution_count": 27,
   "id": "0f4affe3",
   "metadata": {},
   "outputs": [
    {
     "data": {
      "text/html": [
       "<pre style=\"white-space:pre;overflow-x:auto;line-height:normal;font-family:Menlo,'DejaVu Sans Mono',consolas,'Courier New',monospace\"></pre>\n"
      ],
      "text/plain": []
     },
     "metadata": {},
     "output_type": "display_data"
    },
    {
     "data": {
      "text/plain": [
       "\n",
       "\u001b[1m[\u001b[0m\n",
       "    \u001b[32m'Dopaminergic projections regulate various brain functions and are implicated in many neuropsychiatric disorders'\u001b[0m,\n",
       "    \u001b[32m'There are two anatomically and functionally distinct dopaminergic projections connecting the midbrain to striatum: nigrostriatal, which controls movement, and mesolimbic, which regulates motivation'\u001b[0m,\n",
       "    \u001b[32m'However, how these discrete dopaminergic synaptic connections are established is unknown'\u001b[0m,\n",
       "    \u001b[32m'Through an unbiased search, we identify that two groups of antagonistic TGF-β family members, bone morphogenetic protein \u001b[0m\u001b[32m(\u001b[0m\u001b[32mBMP\u001b[0m\u001b[32m)\u001b[0m\u001b[32m6/BMP2 and transforming growth factor \u001b[0m\u001b[32m(\u001b[0m\u001b[32mTGF\u001b[0m\u001b[32m)\u001b[0m\u001b[32m-β2, regulate dopaminergic synapse development of nigrostriatal and mesolimbic neurons, respectively'\u001b[0m,\n",
       "    \u001b[32m'Projection-preferential expression of their receptors contributes to specific synapse development'\u001b[0m,\n",
       "    \u001b[32m'Downstream, Smad1 and Smad2 are specifically activated and required for dopaminergic synapse development and function in nigrostriatal vs'\u001b[0m,\n",
       "    \u001b[32m'mesolimbic projections'\u001b[0m,\n",
       "    \u001b[32m'Remarkably, Smad1 mutant mice show motor defects, whereas Smad2 mutant mice show lack of motivation'\u001b[0m,\n",
       "    \u001b[32m'These results uncover the molecular logic underlying the proper establishment of functionally segregated dopaminergic synapses and may provide strategies to treat relevant, projection-specific disease symptoms by targeting specific BMPs/TGF-β and/or Smads.'\u001b[0m\n",
       "\u001b[1m]\u001b[0m"
      ]
     },
     "execution_count": 27,
     "metadata": {},
     "output_type": "execute_result"
    }
   ],
   "source": []
  }
 ],
 "metadata": {
  "kernelspec": {
   "display_name": "Kedro (kedronlp)",
   "language": "python",
   "name": "kedro_kedronlp"
  },
  "language_info": {
   "codemirror_mode": {
    "name": "ipython",
    "version": 3
   },
   "file_extension": ".py",
   "mimetype": "text/x-python",
   "name": "python",
   "nbconvert_exporter": "python",
   "pygments_lexer": "ipython3",
   "version": "3.11.6"
  }
 },
 "nbformat": 4,
 "nbformat_minor": 5
}
