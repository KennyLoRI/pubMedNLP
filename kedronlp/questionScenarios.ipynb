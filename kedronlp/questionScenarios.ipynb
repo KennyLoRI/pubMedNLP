{
 "cells": [
  {
   "cell_type": "code",
   "execution_count": 12,
   "id": "79b0e8cd",
   "metadata": {},
   "outputs": [],
   "source": [
    "question_types = ['\"what\"', \n",
    "                  'multiple-choice', \n",
    "                  '\"yes/no\"', \n",
    "                  '\"which\"',\n",
    "                  '\"who\"', \n",
    "                  '\"how\"',\n",
    "                  \"comparative\",\n",
    "                  \"descriptive\",\n",
    "                  \"open-ended\",\n",
    "                  \"hypothetical\"]"
   ]
  },
  {
   "cell_type": "code",
   "execution_count": 13,
   "id": "b088490e",
   "metadata": {},
   "outputs": [],
   "source": [
    "question_text = [f\"Scenario: Generate a meaningful and simple {question_type}-question for which an answer can be found in the following context. Pose the question like someone would enter a google query and not know the context. Also only ask one question at a time:\"for question_type in question_types]"
   ]
  },
  {
   "cell_type": "code",
   "execution_count": 14,
   "id": "593a5a76",
   "metadata": {},
   "outputs": [
    {
     "data": {
      "text/html": [
       "<pre style=\"white-space:pre;overflow-x:auto;line-height:normal;font-family:Menlo,'DejaVu Sans Mono',consolas,'Courier New',monospace\"></pre>\n"
      ],
      "text/plain": []
     },
     "metadata": {},
     "output_type": "display_data"
    },
    {
     "data": {
      "text/plain": [
       "\n",
       "\u001b[1m[\u001b[0m\n",
       "    \u001b[32m'Scenario: Generate a meaningful and simple \"what\"-question for which an answer can be found in the following context. Pose the question like someone would enter a google query and not know the context. Also only ask one question at a time:'\u001b[0m,\n",
       "    \u001b[32m'Scenario: Generate a meaningful and simple multiple-choice-question for which an answer can be found in the following context. Pose the question like someone would enter a google query and not know the context. Also only ask one question at a time:'\u001b[0m,\n",
       "    \u001b[32m'Scenario: Generate a meaningful and simple \"yes/no\"-question for which an answer can be found in the following context. Pose the question like someone would enter a google query and not know the context. Also only ask one question at a time:'\u001b[0m,\n",
       "    \u001b[32m'Scenario: Generate a meaningful and simple \"which\"-question for which an answer can be found in the following context. Pose the question like someone would enter a google query and not know the context. Also only ask one question at a time:'\u001b[0m,\n",
       "    \u001b[32m'Scenario: Generate a meaningful and simple \"who\"-question for which an answer can be found in the following context. Pose the question like someone would enter a google query and not know the context. Also only ask one question at a time:'\u001b[0m,\n",
       "    \u001b[32m'Scenario: Generate a meaningful and simple \"how\"-question for which an answer can be found in the following context. Pose the question like someone would enter a google query and not know the context. Also only ask one question at a time:'\u001b[0m,\n",
       "    \u001b[32m'Scenario: Generate a meaningful and simple comparative-question for which an answer can be found in the following context. Pose the question like someone would enter a google query and not know the context. Also only ask one question at a time:'\u001b[0m,\n",
       "    \u001b[32m'Scenario: Generate a meaningful and simple descriptive-question for which an answer can be found in the following context. Pose the question like someone would enter a google query and not know the context. Also only ask one question at a time:'\u001b[0m,\n",
       "    \u001b[32m'Scenario: Generate a meaningful and simple open-ended-question for which an answer can be found in the following context. Pose the question like someone would enter a google query and not know the context. Also only ask one question at a time:'\u001b[0m,\n",
       "    \u001b[32m'Scenario: Generate a meaningful and simple hypothetical-question for which an answer can be found in the following context. Pose the question like someone would enter a google query and not know the context. Also only ask one question at a time:'\u001b[0m\n",
       "\u001b[1m]\u001b[0m"
      ]
     },
     "execution_count": 14,
     "metadata": {},
     "output_type": "execute_result"
    }
   ],
   "source": [
    "question_text"
   ]
  },
  {
   "cell_type": "code",
   "execution_count": null,
   "id": "d346ed75",
   "metadata": {},
   "outputs": [],
   "source": []
  }
 ],
 "metadata": {
  "kernelspec": {
   "display_name": "Kedro (kedronlp)",
   "language": "python",
   "name": "kedro_kedronlp"
  },
  "language_info": {
   "codemirror_mode": {
    "name": "ipython",
    "version": 3
   },
   "file_extension": ".py",
   "mimetype": "text/x-python",
   "name": "python",
   "nbconvert_exporter": "python",
   "pygments_lexer": "ipython3",
   "version": "3.11.6"
  }
 },
 "nbformat": 4,
 "nbformat_minor": 5
}
